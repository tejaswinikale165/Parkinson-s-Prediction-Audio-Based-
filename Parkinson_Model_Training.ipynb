{
  "nbformat": 4,
  "nbformat_minor": 0,
  "metadata": {
    "kernelspec": {
      "name": "python3",
      "display_name": "Python 3"
    },
    "language_info": {
      "codemirror_mode": {
        "name": "ipython",
        "version": 3
      },
      "file_extension": ".py",
      "mimetype": "text/x-python",
      "name": "python",
      "nbconvert_exporter": "python",
      "pygments_lexer": "ipython3",
      "version": "3.6.1"
    },
    "colab": {
      "name": "Parkinson_Prediction.ipynb",
      "provenance": [],
      "collapsed_sections": [],
      "toc_visible": true
    },
    "accelerator": "GPU"
  },
  "cells": [
    {
      "cell_type": "markdown",
      "metadata": {
        "id": "PB9Cpt1YUYCr",
        "colab_type": "text"
      },
      "source": [
        "# Install required Libraries"
      ]
    },
    {
      "cell_type": "markdown",
      "metadata": {
        "id": "We8rmYKvCF2e",
        "colab_type": "text"
      },
      "source": [
        "### synapseclient\n",
        ">  synapseclient is a library which is used to access data from Synapse database directly.\n",
        "\n",
        "\n"
      ]
    },
    {
      "cell_type": "code",
      "metadata": {
        "id": "11u-1407J-n2",
        "colab_type": "code",
        "colab": {
          "base_uri": "https://localhost:8080/",
          "height": 679
        },
        "outputId": "71a29cbc-6e83-433b-b45f-ebce31e2326e"
      },
      "source": [
        "!pip install synapseclient"
      ],
      "execution_count": null,
      "outputs": [
        {
          "output_type": "stream",
          "text": [
            "Collecting synapseclient\n",
            "\u001b[?25l  Downloading https://files.pythonhosted.org/packages/20/0c/dce33df5345732341683d26e88ca7ceea83305e9233e6f7807fb5c3c09b3/synapseclient-1.9.4.tar.gz (145kB)\n",
            "\r\u001b[K     |██▎                             | 10kB 29.9MB/s eta 0:00:01\r\u001b[K     |████▌                           | 20kB 3.2MB/s eta 0:00:01\r\u001b[K     |██████▊                         | 30kB 4.0MB/s eta 0:00:01\r\u001b[K     |█████████                       | 40kB 3.1MB/s eta 0:00:01\r\u001b[K     |███████████▎                    | 51kB 3.4MB/s eta 0:00:01\r\u001b[K     |█████████████▌                  | 61kB 4.1MB/s eta 0:00:01\r\u001b[K     |███████████████▊                | 71kB 4.4MB/s eta 0:00:01\r\u001b[K     |██████████████████              | 81kB 4.6MB/s eta 0:00:01\r\u001b[K     |████████████████████▎           | 92kB 5.1MB/s eta 0:00:01\r\u001b[K     |██████████████████████▌         | 102kB 5.0MB/s eta 0:00:01\r\u001b[K     |████████████████████████▉       | 112kB 5.0MB/s eta 0:00:01\r\u001b[K     |███████████████████████████     | 122kB 5.0MB/s eta 0:00:01\r\u001b[K     |█████████████████████████████▎  | 133kB 5.0MB/s eta 0:00:01\r\u001b[K     |███████████████████████████████▌| 143kB 5.0MB/s eta 0:00:01\r\u001b[K     |████████████████████████████████| 153kB 5.0MB/s \n",
            "\u001b[?25hRequirement already satisfied: requests>=2.21.0 in /usr/local/lib/python3.6/dist-packages (from synapseclient) (2.21.0)\n",
            "Requirement already satisfied: six in /usr/local/lib/python3.6/dist-packages (from synapseclient) (1.12.0)\n",
            "Requirement already satisfied: future in /usr/local/lib/python3.6/dist-packages (from synapseclient) (0.16.0)\n",
            "Collecting backports.csv\n",
            "  Downloading https://files.pythonhosted.org/packages/8e/26/a6bd68f13e0f38fbb643d6e497fc3462be83a0b6c4d43425c78bb51a7291/backports.csv-1.0.7-py2.py3-none-any.whl\n",
            "Collecting keyring==12.0.2\n",
            "  Downloading https://files.pythonhosted.org/packages/ba/a0/a42643ba6f8417bdd22b186f1bb27bae3c0fd6be365eea0ffeb1c1d29051/keyring-12.0.2-py2.py3-none-any.whl\n",
            "Collecting deprecated==1.2.4\n",
            "  Downloading https://files.pythonhosted.org/packages/a9/cb/c1a39ee51e3042df8b284e22c9c440ffad1c25f451bddd4bf9a8dc17cd75/Deprecated-1.2.4-py2.py3-none-any.whl\n",
            "Collecting keyrings.alt==3.1\n",
            "  Downloading https://files.pythonhosted.org/packages/f7/db/202fe99c9f6d75c7810cb3af7d791479df0dd942f2bac2425646c0ad3db8/keyrings.alt-3.1-py2.py3-none-any.whl\n",
            "Requirement already satisfied: certifi>=2017.4.17 in /usr/local/lib/python3.6/dist-packages (from requests>=2.21.0->synapseclient) (2019.11.28)\n",
            "Requirement already satisfied: idna<2.9,>=2.5 in /usr/local/lib/python3.6/dist-packages (from requests>=2.21.0->synapseclient) (2.8)\n",
            "Requirement already satisfied: chardet<3.1.0,>=3.0.2 in /usr/local/lib/python3.6/dist-packages (from requests>=2.21.0->synapseclient) (3.0.4)\n",
            "Requirement already satisfied: urllib3<1.25,>=1.21.1 in /usr/local/lib/python3.6/dist-packages (from requests>=2.21.0->synapseclient) (1.24.3)\n",
            "Collecting secretstorage<3; sys_platform == \"linux2\" or sys_platform == \"linux\"\n",
            "  Downloading https://files.pythonhosted.org/packages/a5/a5/0830cfe34a4cfd0d1c3c8b614ede1edb2aaf999091ac8548dd19cb352e79/SecretStorage-2.3.1.tar.gz\n",
            "Requirement already satisfied: entrypoints in /usr/local/lib/python3.6/dist-packages (from keyring==12.0.2->synapseclient) (0.3)\n",
            "Requirement already satisfied: wrapt<2,>=1 in /usr/local/lib/python3.6/dist-packages (from deprecated==1.2.4->synapseclient) (1.11.2)\n",
            "Collecting cryptography\n",
            "\u001b[?25l  Downloading https://files.pythonhosted.org/packages/ca/9a/7cece52c46546e214e10811b36b2da52ce1ea7fa203203a629b8dfadad53/cryptography-2.8-cp34-abi3-manylinux2010_x86_64.whl (2.3MB)\n",
            "\u001b[K     |████████████████████████████████| 2.3MB 16.1MB/s \n",
            "\u001b[?25hRequirement already satisfied: cffi!=1.11.3,>=1.8 in /usr/local/lib/python3.6/dist-packages (from cryptography->secretstorage<3; sys_platform == \"linux2\" or sys_platform == \"linux\"->keyring==12.0.2->synapseclient) (1.13.2)\n",
            "Requirement already satisfied: pycparser in /usr/local/lib/python3.6/dist-packages (from cffi!=1.11.3,>=1.8->cryptography->secretstorage<3; sys_platform == \"linux2\" or sys_platform == \"linux\"->keyring==12.0.2->synapseclient) (2.19)\n",
            "Building wheels for collected packages: synapseclient, secretstorage\n",
            "  Building wheel for synapseclient (setup.py) ... \u001b[?25l\u001b[?25hdone\n",
            "  Created wheel for synapseclient: filename=synapseclient-1.9.4-cp36-none-any.whl size=159110 sha256=396e06baa36a2af56e41b6be4368e7d17f657d4c0872fdd82e7e7a0a788479dd\n",
            "  Stored in directory: /root/.cache/pip/wheels/81/c9/4c/f389598a0bd020907d8a36abedb4805e1dc49c5d88dde2fd01\n",
            "  Building wheel for secretstorage (setup.py) ... \u001b[?25l\u001b[?25hdone\n",
            "  Created wheel for secretstorage: filename=SecretStorage-2.3.1-cp36-none-any.whl size=13958 sha256=288ce33ad5933e58410e53eb92f5a87d60ca3687445f4478f18d9d19a107e210\n",
            "  Stored in directory: /root/.cache/pip/wheels/4e/5b/1b/be8c8a830a0243af85b2946a0aece2c6743d7f7f946977ed67\n",
            "Successfully built synapseclient secretstorage\n",
            "Installing collected packages: backports.csv, cryptography, secretstorage, keyring, deprecated, keyrings.alt, synapseclient\n",
            "Successfully installed backports.csv-1.0.7 cryptography-2.8 deprecated-1.2.4 keyring-12.0.2 keyrings.alt-3.1 secretstorage-2.3.1 synapseclient-1.9.4\n"
          ],
          "name": "stdout"
        }
      ]
    },
    {
      "cell_type": "code",
      "metadata": {
        "id": "EboYL8GbJ-n6",
        "colab_type": "code",
        "colab": {
          "base_uri": "https://localhost:8080/",
          "height": 228
        },
        "outputId": "d9024083-2f57-471c-9d2d-053c457d7024"
      },
      "source": [
        "!pip install aubio"
      ],
      "execution_count": null,
      "outputs": [
        {
          "output_type": "stream",
          "text": [
            "Collecting aubio\n",
            "\u001b[?25l  Downloading https://files.pythonhosted.org/packages/cd/80/302d89240603e5347c7f8026c8b02c59f8dfaec66c91a743d82de7c86006/aubio-0.4.9.tar.gz (479kB)\n",
            "\r\u001b[K     |▊                               | 10kB 22.4MB/s eta 0:00:01\r\u001b[K     |█▍                              | 20kB 5.7MB/s eta 0:00:01\r\u001b[K     |██                              | 30kB 6.9MB/s eta 0:00:01\r\u001b[K     |██▊                             | 40kB 5.3MB/s eta 0:00:01\r\u001b[K     |███▍                            | 51kB 6.3MB/s eta 0:00:01\r\u001b[K     |████                            | 61kB 7.4MB/s eta 0:00:01\r\u001b[K     |████▉                           | 71kB 7.2MB/s eta 0:00:01\r\u001b[K     |█████▌                          | 81kB 8.0MB/s eta 0:00:01\r\u001b[K     |██████▏                         | 92kB 8.8MB/s eta 0:00:01\r\u001b[K     |██████▉                         | 102kB 8.3MB/s eta 0:00:01\r\u001b[K     |███████▌                        | 112kB 8.3MB/s eta 0:00:01\r\u001b[K     |████████▏                       | 122kB 8.3MB/s eta 0:00:01\r\u001b[K     |█████████                       | 133kB 8.3MB/s eta 0:00:01\r\u001b[K     |█████████▋                      | 143kB 8.3MB/s eta 0:00:01\r\u001b[K     |██████████▎                     | 153kB 8.3MB/s eta 0:00:01\r\u001b[K     |███████████                     | 163kB 8.3MB/s eta 0:00:01\r\u001b[K     |███████████▋                    | 174kB 8.3MB/s eta 0:00:01\r\u001b[K     |████████████▎                   | 184kB 8.3MB/s eta 0:00:01\r\u001b[K     |█████████████                   | 194kB 8.3MB/s eta 0:00:01\r\u001b[K     |█████████████▊                  | 204kB 8.3MB/s eta 0:00:01\r\u001b[K     |██████████████▍                 | 215kB 8.3MB/s eta 0:00:01\r\u001b[K     |███████████████                 | 225kB 8.3MB/s eta 0:00:01\r\u001b[K     |███████████████▊                | 235kB 8.3MB/s eta 0:00:01\r\u001b[K     |████████████████▍               | 245kB 8.3MB/s eta 0:00:01\r\u001b[K     |█████████████████               | 256kB 8.3MB/s eta 0:00:01\r\u001b[K     |█████████████████▉              | 266kB 8.3MB/s eta 0:00:01\r\u001b[K     |██████████████████▌             | 276kB 8.3MB/s eta 0:00:01\r\u001b[K     |███████████████████▏            | 286kB 8.3MB/s eta 0:00:01\r\u001b[K     |███████████████████▉            | 296kB 8.3MB/s eta 0:00:01\r\u001b[K     |████████████████████▌           | 307kB 8.3MB/s eta 0:00:01\r\u001b[K     |█████████████████████▏          | 317kB 8.3MB/s eta 0:00:01\r\u001b[K     |██████████████████████          | 327kB 8.3MB/s eta 0:00:01\r\u001b[K     |██████████████████████▋         | 337kB 8.3MB/s eta 0:00:01\r\u001b[K     |███████████████████████▎        | 348kB 8.3MB/s eta 0:00:01\r\u001b[K     |████████████████████████        | 358kB 8.3MB/s eta 0:00:01\r\u001b[K     |████████████████████████▋       | 368kB 8.3MB/s eta 0:00:01\r\u001b[K     |█████████████████████████▎      | 378kB 8.3MB/s eta 0:00:01\r\u001b[K     |██████████████████████████      | 389kB 8.3MB/s eta 0:00:01\r\u001b[K     |██████████████████████████▊     | 399kB 8.3MB/s eta 0:00:01\r\u001b[K     |███████████████████████████▍    | 409kB 8.3MB/s eta 0:00:01\r\u001b[K     |████████████████████████████    | 419kB 8.3MB/s eta 0:00:01\r\u001b[K     |████████████████████████████▊   | 430kB 8.3MB/s eta 0:00:01\r\u001b[K     |█████████████████████████████▍  | 440kB 8.3MB/s eta 0:00:01\r\u001b[K     |██████████████████████████████  | 450kB 8.3MB/s eta 0:00:01\r\u001b[K     |██████████████████████████████▉ | 460kB 8.3MB/s eta 0:00:01\r\u001b[K     |███████████████████████████████▌| 471kB 8.3MB/s eta 0:00:01\r\u001b[K     |████████████████████████████████| 481kB 8.3MB/s \n",
            "\u001b[?25hRequirement already satisfied: numpy in /usr/local/lib/python3.6/dist-packages (from aubio) (1.17.4)\n",
            "Building wheels for collected packages: aubio\n",
            "  Building wheel for aubio (setup.py) ... \u001b[?25l\u001b[?25hdone\n",
            "  Created wheel for aubio: filename=aubio-0.4.9-cp36-cp36m-linux_x86_64.whl size=386233 sha256=ce20d391d9d71c89d34d39a74ed3d0126f2bdc40182ba5de5963d4b4a6c7c3e6\n",
            "  Stored in directory: /root/.cache/pip/wheels/ac/93/da/33a0041dff56d6c1faf82c83ff487cf669442b7087db20a995\n",
            "Successfully built aubio\n",
            "Installing collected packages: aubio\n",
            "Successfully installed aubio-0.4.9\n"
          ],
          "name": "stdout"
        }
      ]
    },
    {
      "cell_type": "code",
      "metadata": {
        "id": "82Nw8uh9J-n9",
        "colab_type": "code",
        "colab": {
          "base_uri": "https://localhost:8080/",
          "height": 211
        },
        "outputId": "9f72b170-ff88-47ee-b447-88f6bc930687"
      },
      "source": [
        "!pip install Avpy"
      ],
      "execution_count": null,
      "outputs": [
        {
          "output_type": "stream",
          "text": [
            "Collecting Avpy\n",
            "\u001b[?25l  Downloading https://files.pythonhosted.org/packages/69/14/5fae270b7740539ab5f3fd9cde4a36d3b0f0cbc33055924dc05cbb5d2dae/Avpy-0.1.3.tar.gz (112kB)\n",
            "\r\u001b[K     |███                             | 10kB 23.8MB/s eta 0:00:01\r\u001b[K     |█████▉                          | 20kB 5.8MB/s eta 0:00:01\r\u001b[K     |████████▊                       | 30kB 6.8MB/s eta 0:00:01\r\u001b[K     |███████████▊                    | 40kB 5.3MB/s eta 0:00:01\r\u001b[K     |██████████████▋                 | 51kB 6.5MB/s eta 0:00:01\r\u001b[K     |█████████████████▌              | 61kB 7.5MB/s eta 0:00:01\r\u001b[K     |████████████████████▍           | 71kB 8.3MB/s eta 0:00:01\r\u001b[K     |███████████████████████▍        | 81kB 8.3MB/s eta 0:00:01\r\u001b[K     |██████████████████████████▎     | 92kB 9.1MB/s eta 0:00:01\r\u001b[K     |█████████████████████████████▏  | 102kB 8.4MB/s eta 0:00:01\r\u001b[K     |████████████████████████████████| 112kB 8.4MB/s \n",
            "\u001b[?25hBuilding wheels for collected packages: Avpy\n",
            "  Building wheel for Avpy (setup.py) ... \u001b[?25l\u001b[?25hdone\n",
            "  Created wheel for Avpy: filename=Avpy-0.1.3-cp36-none-any.whl size=106848 sha256=fec220325aca72709c251769b73a64f2cc6e52c603ca8d40ad3f3661209f1f27\n",
            "  Stored in directory: /root/.cache/pip/wheels/7a/53/b9/919a80c29b516914b28cde442eb74859507f3b135918c4b72c\n",
            "Successfully built Avpy\n",
            "Installing collected packages: Avpy\n",
            "Successfully installed Avpy-0.1.3\n"
          ],
          "name": "stdout"
        }
      ]
    },
    {
      "cell_type": "markdown",
      "metadata": {
        "id": "v8BiIJkjChmH",
        "colab_type": "text"
      },
      "source": [
        "### pydub\n",
        "\n",
        "\n",
        "> pydub library is used to export .m4a audio file to .wav audio files.\n"
      ]
    },
    {
      "cell_type": "code",
      "metadata": {
        "id": "0QfKNw76J-oA",
        "colab_type": "code",
        "colab": {
          "base_uri": "https://localhost:8080/",
          "height": 107
        },
        "outputId": "5b26c212-40c1-4d9b-e875-75b673072ad5"
      },
      "source": [
        "!pip install pydub"
      ],
      "execution_count": null,
      "outputs": [
        {
          "output_type": "stream",
          "text": [
            "Collecting pydub\n",
            "  Downloading https://files.pythonhosted.org/packages/79/db/eaf620b73a1eec3c8c6f8f5b0b236a50f9da88ad57802154b7ba7664d0b8/pydub-0.23.1-py2.py3-none-any.whl\n",
            "Installing collected packages: pydub\n",
            "Successfully installed pydub-0.23.1\n"
          ],
          "name": "stdout"
        }
      ]
    },
    {
      "cell_type": "markdown",
      "metadata": {
        "id": "l4pLVLhPCx-i",
        "colab_type": "text"
      },
      "source": [
        "### praat-parselmouth\n",
        "\n",
        "> praat-parselmouth library is used to extract required features from audio files."
      ]
    },
    {
      "cell_type": "code",
      "metadata": {
        "id": "tZzE36IYJ-oE",
        "colab_type": "code",
        "colab": {
          "base_uri": "https://localhost:8080/",
          "height": 141
        },
        "outputId": "2c851e24-5329-4819-a421-92e905052d2d"
      },
      "source": [
        "!pip install praat-parselmouth"
      ],
      "execution_count": null,
      "outputs": [
        {
          "output_type": "stream",
          "text": [
            "Collecting praat-parselmouth\n",
            "\u001b[?25l  Downloading https://files.pythonhosted.org/packages/09/7b/9fa1172a63b6277603d27bb5613559b5a8888f58e68c1698017b87b0061d/praat_parselmouth-0.3.3-cp36-cp36m-manylinux1_x86_64.whl (9.0MB)\n",
            "\u001b[K     |████████████████████████████████| 9.0MB 100kB/s \n",
            "\u001b[?25hRequirement already satisfied: numpy>=1.7.0 in /usr/local/lib/python3.6/dist-packages (from praat-parselmouth) (1.17.4)\n",
            "Installing collected packages: praat-parselmouth\n",
            "Successfully installed praat-parselmouth-0.3.3\n"
          ],
          "name": "stdout"
        }
      ]
    },
    {
      "cell_type": "markdown",
      "metadata": {
        "id": "eCJ3tABoD8GW",
        "colab_type": "text"
      },
      "source": [
        "### librosa\n",
        "\n",
        "\n",
        "> praat-parselmouth library is used to extract required features from audio files.\n",
        "\n"
      ]
    },
    {
      "cell_type": "code",
      "metadata": {
        "id": "tRVfs8vrJ-oH",
        "colab_type": "code",
        "colab": {
          "base_uri": "https://localhost:8080/",
          "height": 228
        },
        "outputId": "636271de-9913-49ef-d691-1d8eb16f0b68"
      },
      "source": [
        "!pip install librosa"
      ],
      "execution_count": null,
      "outputs": [
        {
          "output_type": "stream",
          "text": [
            "Requirement already satisfied: librosa in /usr/local/lib/python3.6/dist-packages (0.6.3)\n",
            "Requirement already satisfied: resampy>=0.2.0 in /usr/local/lib/python3.6/dist-packages (from librosa) (0.2.2)\n",
            "Requirement already satisfied: scipy>=1.0.0 in /usr/local/lib/python3.6/dist-packages (from librosa) (1.3.3)\n",
            "Requirement already satisfied: joblib>=0.12 in /usr/local/lib/python3.6/dist-packages (from librosa) (0.14.1)\n",
            "Requirement already satisfied: audioread>=2.0.0 in /usr/local/lib/python3.6/dist-packages (from librosa) (2.1.8)\n",
            "Requirement already satisfied: scikit-learn!=0.19.0,>=0.14.0 in /usr/local/lib/python3.6/dist-packages (from librosa) (0.21.3)\n",
            "Requirement already satisfied: decorator>=3.0.0 in /usr/local/lib/python3.6/dist-packages (from librosa) (4.4.1)\n",
            "Requirement already satisfied: numpy>=1.8.0 in /usr/local/lib/python3.6/dist-packages (from librosa) (1.17.4)\n",
            "Requirement already satisfied: six>=1.3 in /usr/local/lib/python3.6/dist-packages (from librosa) (1.12.0)\n",
            "Requirement already satisfied: numba>=0.38.0 in /usr/local/lib/python3.6/dist-packages (from librosa) (0.40.1)\n",
            "Requirement already satisfied: llvmlite>=0.25.0dev0 in /usr/local/lib/python3.6/dist-packages (from numba>=0.38.0->librosa) (0.30.0)\n"
          ],
          "name": "stdout"
        }
      ]
    },
    {
      "cell_type": "markdown",
      "metadata": {
        "id": "l7fiAweIUiI_",
        "colab_type": "text"
      },
      "source": [
        "#Audio File download and Coversion  \n"
      ]
    },
    {
      "cell_type": "code",
      "metadata": {
        "id": "iZieQqmRJ-oK",
        "colab_type": "code",
        "colab": {}
      },
      "source": [
        "from synapseutils import notifyMe\n",
        "import synapseclient\n",
        "from synapseclient import Activity\n",
        "from synapseclient import Entity, Project, Folder, File, Link\n",
        "from synapseclient import Evaluation, Submission, SubmissionStatus\n",
        "from synapseclient import Wiki\n",
        "import os\n",
        "import librosa\n",
        "import librosa.display\n",
        "import pandas as pd\n",
        "import numpy as np\n",
        "import matplotlib.pyplot as plt\n",
        "%matplotlib inline\n",
        "import os\n",
        "import csv\n",
        "\n",
        "import parselmouth\n",
        "from parselmouth.praat import call\n",
        "from parselmouth import MFCC\n",
        "import glob\n",
        "import os.path\n",
        "from pydub import AudioSegment\n",
        "import warnings\n",
        "warnings.filterwarnings('ignore')\n"
      ],
      "execution_count": null,
      "outputs": []
    },
    {
      "cell_type": "markdown",
      "metadata": {
        "id": "sWal384L75ta",
        "colab_type": "text"
      },
      "source": [
        "### Login to Synapse database "
      ]
    },
    {
      "cell_type": "code",
      "metadata": {
        "id": "cnN9gi0mKLoR",
        "colab_type": "code",
        "colab": {
          "base_uri": "https://localhost:8080/",
          "height": 52
        },
        "outputId": "52da1fb5-7ff3-4e56-9c2a-2ceb93664f24"
      },
      "source": [
        "syn = synapseclient.Synapse()\n",
        "syn.login('username', 'password')"
      ],
      "execution_count": null,
      "outputs": [
        {
          "output_type": "stream",
          "text": [
            "Welcome, Tejaswini Kale!\n",
            "\n"
          ],
          "name": "stdout"
        }
      ]
    },
    {
      "cell_type": "code",
      "metadata": {
        "id": "hE2axINpJ-oO",
        "colab_type": "code",
        "colab": {
          "base_uri": "https://localhost:8080/",
          "height": 35
        },
        "outputId": "7572ae39-518a-472a-df3c-6bfa2823b2ca"
      },
      "source": [
        "entity = syn.get('syn5511444')\n",
        "entity = syn.get('syn5511444', downloadLocation='/content/drive/My Drive/Audio')\n",
        "print(entity.name)\n",
        "# print(entity.path)\n"
      ],
      "execution_count": null,
      "outputs": [
        {
          "output_type": "stream",
          "text": [
            "Voice Activity\n"
          ],
          "name": "stdout"
        }
      ]
    },
    {
      "cell_type": "markdown",
      "metadata": {
        "id": "Sd6QsNeo8IN-",
        "colab_type": "text"
      },
      "source": [
        "###Fetch Audio File \n",
        "\n",
        "1.   Audio files are extracted from syn5511444 table.\n",
        "\n",
        "2.   Other realted information about people participated is extracted from syn511429 table.\n",
        "3.   Using data frame to store information extracted from tables\n",
        "4. As data is in two different dataframes, we used merged with inner join on healthCode which act as unique key for each participant to combine two dataframes."
      ]
    },
    {
      "cell_type": "code",
      "metadata": {
        "id": "KRCcl4gQKV4J",
        "colab_type": "code",
        "colab": {}
      },
      "source": [
        "def downloadAll():\n",
        "  results = syn.tableQuery(\"SELECT  * FROM syn5511444 \")\n",
        "  demographic = syn.tableQuery('SELECT* FROM syn5511429')\n",
        "  df=results.asDataFrame(rowIdAndVersionInIndex=True)\n",
        "  df.set_index(['recordId'], inplace = False) \n",
        "  demographicdf=demographic.asDataFrame(rowIdAndVersionInIndex=True)\n",
        "  colList=['healthCode','professional-diagnosis','age','gender']\n",
        "  demographicdf=demographicdf[colList]\n",
        "  mergedDf = pd.merge(df, demographicdf, how='inner', on=['healthCode'])\n",
        "  mergedDf = mergedDf.set_index(\"audio_audio.m4a\", drop = False)\n",
        "  return mergedDf\n"
      ],
      "execution_count": null,
      "outputs": []
    },
    {
      "cell_type": "code",
      "metadata": {
        "id": "B00UoF2NUgrY",
        "colab_type": "code",
        "colab": {
          "base_uri": "https://localhost:8080/",
          "height": 1000
        },
        "outputId": "954a6859-0100-43fd-d3cf-50631b389821"
      },
      "source": [
        "downloadAll()"
      ],
      "execution_count": null,
      "outputs": [
        {
          "output_type": "execute_result",
          "data": {
            "text/html": [
              "<div>\n",
              "<style scoped>\n",
              "    .dataframe tbody tr th:only-of-type {\n",
              "        vertical-align: middle;\n",
              "    }\n",
              "\n",
              "    .dataframe tbody tr th {\n",
              "        vertical-align: top;\n",
              "    }\n",
              "\n",
              "    .dataframe thead th {\n",
              "        text-align: right;\n",
              "    }\n",
              "</style>\n",
              "<table border=\"1\" class=\"dataframe\">\n",
              "  <thead>\n",
              "    <tr style=\"text-align: right;\">\n",
              "      <th></th>\n",
              "      <th>recordId</th>\n",
              "      <th>healthCode</th>\n",
              "      <th>createdOn</th>\n",
              "      <th>appVersion</th>\n",
              "      <th>phoneInfo</th>\n",
              "      <th>audio_audio.m4a</th>\n",
              "      <th>audio_countdown.m4a</th>\n",
              "      <th>medTimepoint</th>\n",
              "      <th>professional-diagnosis</th>\n",
              "      <th>age</th>\n",
              "      <th>gender</th>\n",
              "    </tr>\n",
              "    <tr>\n",
              "      <th>audio_audio.m4a</th>\n",
              "      <th></th>\n",
              "      <th></th>\n",
              "      <th></th>\n",
              "      <th></th>\n",
              "      <th></th>\n",
              "      <th></th>\n",
              "      <th></th>\n",
              "      <th></th>\n",
              "      <th></th>\n",
              "      <th></th>\n",
              "      <th></th>\n",
              "    </tr>\n",
              "  </thead>\n",
              "  <tbody>\n",
              "    <tr>\n",
              "      <th>5404521</th>\n",
              "      <td>177d6c17-6635-4884-8481-a671fca06266</td>\n",
              "      <td>639e8a78-3631-4231-bda1-c911c1b169e5</td>\n",
              "      <td>1425904701000</td>\n",
              "      <td>version 1.0, build 7</td>\n",
              "      <td>iPhone 6</td>\n",
              "      <td>5404521</td>\n",
              "      <td>5404533</td>\n",
              "      <td>I don't take Parkinson medications</td>\n",
              "      <td>False</td>\n",
              "      <td>24.0</td>\n",
              "      <td>Male</td>\n",
              "    </tr>\n",
              "    <tr>\n",
              "      <th>5410381</th>\n",
              "      <td>d59f922b-3ab9-4105-be30-4c2c481e99ed</td>\n",
              "      <td>52fe366a-2a9f-4260-9fb1-0fbc637a6cf4</td>\n",
              "      <td>1425926292000</td>\n",
              "      <td>version 1.0, build 7</td>\n",
              "      <td>iPhone 5s (GSM)</td>\n",
              "      <td>5410381</td>\n",
              "      <td>5410398</td>\n",
              "      <td>I don't take Parkinson medications</td>\n",
              "      <td>False</td>\n",
              "      <td>38.0</td>\n",
              "      <td>Female</td>\n",
              "    </tr>\n",
              "    <tr>\n",
              "      <th>5773552</th>\n",
              "      <td>5c3b56ea-2a8a-4a9b-9d04-271928ff7044</td>\n",
              "      <td>52fe366a-2a9f-4260-9fb1-0fbc637a6cf4</td>\n",
              "      <td>1426297608000</td>\n",
              "      <td>version 1.0, build 7</td>\n",
              "      <td>iPhone 5s (GSM)</td>\n",
              "      <td>5773552</td>\n",
              "      <td>5773599</td>\n",
              "      <td>I don't take Parkinson medications</td>\n",
              "      <td>False</td>\n",
              "      <td>38.0</td>\n",
              "      <td>Female</td>\n",
              "    </tr>\n",
              "    <tr>\n",
              "      <th>5805736</th>\n",
              "      <td>9a3d4bd0-a6a6-4218-a442-4bdf4785e953</td>\n",
              "      <td>52fe366a-2a9f-4260-9fb1-0fbc637a6cf4</td>\n",
              "      <td>1426297632000</td>\n",
              "      <td>version 1.0, build 7</td>\n",
              "      <td>iPhone 5s (GSM)</td>\n",
              "      <td>5805736</td>\n",
              "      <td>5805781</td>\n",
              "      <td>I don't take Parkinson medications</td>\n",
              "      <td>False</td>\n",
              "      <td>38.0</td>\n",
              "      <td>Female</td>\n",
              "    </tr>\n",
              "    <tr>\n",
              "      <th>5390859</th>\n",
              "      <td>0e85415c-75ee-45d2-8d38-ac7b2c8c5c50</td>\n",
              "      <td>67bdd316-26fc-4fc7-8431-bf9f41a649dd</td>\n",
              "      <td>1425926706000</td>\n",
              "      <td>version 1.0, build 7</td>\n",
              "      <td>iPhone 6 Plus</td>\n",
              "      <td>5390859</td>\n",
              "      <td>5390881</td>\n",
              "      <td>I don't take Parkinson medications</td>\n",
              "      <td>False</td>\n",
              "      <td>32.0</td>\n",
              "      <td>Male</td>\n",
              "    </tr>\n",
              "    <tr>\n",
              "      <th>...</th>\n",
              "      <td>...</td>\n",
              "      <td>...</td>\n",
              "      <td>...</td>\n",
              "      <td>...</td>\n",
              "      <td>...</td>\n",
              "      <td>...</td>\n",
              "      <td>...</td>\n",
              "      <td>...</td>\n",
              "      <td>...</td>\n",
              "      <td>...</td>\n",
              "      <td>...</td>\n",
              "    </tr>\n",
              "    <tr>\n",
              "      <th>6092095</th>\n",
              "      <td>341bddb3-7861-4c83-ac4a-04ba1ffe9b59</td>\n",
              "      <td>a11611b4-6a24-4f6c-ae18-d93b849ef188</td>\n",
              "      <td>1441831411000</td>\n",
              "      <td>version 1.1, build 22</td>\n",
              "      <td>iPhone 6</td>\n",
              "      <td>6092095</td>\n",
              "      <td>6092122</td>\n",
              "      <td>I don't take Parkinson medications</td>\n",
              "      <td>False</td>\n",
              "      <td>73.0</td>\n",
              "      <td>Male</td>\n",
              "    </tr>\n",
              "    <tr>\n",
              "      <th>6091540</th>\n",
              "      <td>68767b8b-bf07-43ec-8547-c9858529bb42</td>\n",
              "      <td>a11611b4-6a24-4f6c-ae18-d93b849ef188</td>\n",
              "      <td>1441837503000</td>\n",
              "      <td>version 1.1, build 22</td>\n",
              "      <td>iPhone 6</td>\n",
              "      <td>6091540</td>\n",
              "      <td>6091577</td>\n",
              "      <td>I don't take Parkinson medications</td>\n",
              "      <td>False</td>\n",
              "      <td>73.0</td>\n",
              "      <td>Male</td>\n",
              "    </tr>\n",
              "    <tr>\n",
              "      <th>6092590</th>\n",
              "      <td>ed309a5b-3784-4750-9dc5-d803f751476c</td>\n",
              "      <td>1c9d0333-b4ac-474d-ac87-f7941fb02443</td>\n",
              "      <td>1441841339000</td>\n",
              "      <td>version 1.1, build 22</td>\n",
              "      <td>iPhone 5 (GSM)</td>\n",
              "      <td>6092590</td>\n",
              "      <td>6092609</td>\n",
              "      <td>I don't take Parkinson medications</td>\n",
              "      <td>False</td>\n",
              "      <td>20.0</td>\n",
              "      <td>Female</td>\n",
              "    </tr>\n",
              "    <tr>\n",
              "      <th>6091758</th>\n",
              "      <td>b57a5075-adac-45b8-85f5-7c77f4b52366</td>\n",
              "      <td>1c9d0333-b4ac-474d-ac87-f7941fb02443</td>\n",
              "      <td>1441841369000</td>\n",
              "      <td>version 1.1, build 22</td>\n",
              "      <td>iPhone 5 (GSM)</td>\n",
              "      <td>6091758</td>\n",
              "      <td>6091793</td>\n",
              "      <td>I don't take Parkinson medications</td>\n",
              "      <td>False</td>\n",
              "      <td>20.0</td>\n",
              "      <td>Female</td>\n",
              "    </tr>\n",
              "    <tr>\n",
              "      <th>6092458</th>\n",
              "      <td>bd1c11dd-b311-40c5-be1c-082cdb004ef4</td>\n",
              "      <td>1c9d0333-b4ac-474d-ac87-f7941fb02443</td>\n",
              "      <td>1441842337000</td>\n",
              "      <td>version 1.1, build 22</td>\n",
              "      <td>iPhone 5 (GSM)</td>\n",
              "      <td>6092458</td>\n",
              "      <td>6092494</td>\n",
              "      <td>I don't take Parkinson medications</td>\n",
              "      <td>False</td>\n",
              "      <td>20.0</td>\n",
              "      <td>Female</td>\n",
              "    </tr>\n",
              "  </tbody>\n",
              "</table>\n",
              "<p>63255 rows × 11 columns</p>\n",
              "</div>"
            ],
            "text/plain": [
              "                                             recordId  ...  gender\n",
              "audio_audio.m4a                                        ...        \n",
              "5404521          177d6c17-6635-4884-8481-a671fca06266  ...    Male\n",
              "5410381          d59f922b-3ab9-4105-be30-4c2c481e99ed  ...  Female\n",
              "5773552          5c3b56ea-2a8a-4a9b-9d04-271928ff7044  ...  Female\n",
              "5805736          9a3d4bd0-a6a6-4218-a442-4bdf4785e953  ...  Female\n",
              "5390859          0e85415c-75ee-45d2-8d38-ac7b2c8c5c50  ...    Male\n",
              "...                                               ...  ...     ...\n",
              "6092095          341bddb3-7861-4c83-ac4a-04ba1ffe9b59  ...    Male\n",
              "6091540          68767b8b-bf07-43ec-8547-c9858529bb42  ...    Male\n",
              "6092590          ed309a5b-3784-4750-9dc5-d803f751476c  ...  Female\n",
              "6091758          b57a5075-adac-45b8-85f5-7c77f4b52366  ...  Female\n",
              "6092458          bd1c11dd-b311-40c5-be1c-082cdb004ef4  ...  Female\n",
              "\n",
              "[63255 rows x 11 columns]"
            ]
          },
          "metadata": {
            "tags": []
          },
          "execution_count": 11
        }
      ]
    },
    {
      "cell_type": "markdown",
      "metadata": {
        "id": "SfG8qiuo-5x4",
        "colab_type": "text"
      },
      "source": [
        "### Download Audio Files\n",
        "\n",
        "\n",
        "> We can not directly download audio files from table, we get unique id for each audio file from table and following code will download actual audio files.\n",
        "\n",
        "\n",
        "> This code will return dictionary with unique values of audio file as key and download location as values for key.\n",
        "\n",
        "### Changing Extension of Downloaded Audio files \n",
        "\n",
        "\n",
        "> Downloaded audio files have extension as .tmp which can not be used as directly.\n",
        "\n",
        "\n",
        "> Original format of file is .m4a thus can not be directly converted to .wav file, thus had to rename to change extension to m4a first.\n",
        "\n",
        "\n"
      ]
    },
    {
      "cell_type": "code",
      "metadata": {
        "id": "r_sSQD4aGf5F",
        "colab_type": "code",
        "colab": {}
      },
      "source": [
        "def dowloadByRecordId(recordId):\n",
        "   results = syn.tableQuery(\"SELECT  * FROM syn5511444 where recordId =\"+\"'\"+recordId+\"'\")\n",
        "   downloadLoc=syn.downloadTableColumns(results,\"audio_audio.m4a\")\n",
        "   keys=downloadLoc.keys()\n",
        "   for i in keys:\n",
        "      os.rename(downloadLoc.get(i), i +'.m4a')\n",
        "      return os.getcwd()+\"/\"+ i +'.m4a'\n"
      ],
      "execution_count": null,
      "outputs": []
    },
    {
      "cell_type": "code",
      "metadata": {
        "id": "kOWompyzbD0i",
        "colab_type": "code",
        "colab": {}
      },
      "source": [
        ""
      ],
      "execution_count": null,
      "outputs": []
    },
    {
      "cell_type": "markdown",
      "metadata": {
        "id": "hIsiSQXMBHTt",
        "colab_type": "text"
      },
      "source": [
        "### Export as '.wav' File\n",
        "\n",
        "\n",
        "> For feature extration from audio file we are using Librosa and Praat library which takes only .wav audio file as input thus, need to export all .m4a audio files to .wav files using library pydub.\n",
        "\n"
      ]
    },
    {
      "cell_type": "code",
      "metadata": {
        "id": "xB805gnAJ-oV",
        "colab_type": "code",
        "colab": {}
      },
      "source": [
        "def covertToWav (location):\n",
        "  try:\n",
        "    base=os.path.splitext(location)[0]\n",
        "    sound = AudioSegment.from_file(location, format=\"m4a\")\n",
        "    file_handle = sound.export(base+\".wav\", format=\"wav\")\n",
        "    return  base+\".wav\"\n",
        "  except:\n",
        "    print()\n",
        "    #os.remove(location)\n"
      ],
      "execution_count": null,
      "outputs": []
    },
    {
      "cell_type": "markdown",
      "metadata": {
        "id": "PQZ_XfERZ6u5",
        "colab_type": "text"
      },
      "source": [
        "###Get Audio features from Librosa Library\n",
        "> chroma_stft : "
      ]
    },
    {
      "cell_type": "code",
      "metadata": {
        "id": "DbM8Ja4AQDlv",
        "colab_type": "code",
        "colab": {}
      },
      "source": [
        "def librosaMeasures(y,sr):\n",
        "    chroma_stft = librosa.feature.chroma_stft(y=y, sr=sr)\n",
        "    rmse = librosa.feature.rmse(y=y)\n",
        "    spec_cent = librosa.feature.spectral_centroid(y=y, sr=sr)\n",
        "    spec_bw = librosa.feature.spectral_bandwidth(y=y, sr=sr)\n",
        "    rolloff = librosa.feature.spectral_rolloff(y=y, sr=sr)\n",
        "    zcr = librosa.feature.zero_crossing_rate(y)\n",
        "    mfcc = librosa.feature.mfcc(y=y, sr=sr)\n",
        "    return chroma_stft, rmse, spec_cent ,spec_bw ,rolloff ,zcr,mfcc"
      ],
      "execution_count": null,
      "outputs": []
    },
    {
      "cell_type": "code",
      "metadata": {
        "id": "6xGw0YcuRACw",
        "colab_type": "code",
        "colab": {}
      },
      "source": [
        "def pitchHrnMeasures(f0min,f0max,unit):\n",
        "    pitch = call(sound, \"To Pitch\", 0.0, f0min, f0max) #create a praat pitch object\n",
        "    pitchMean = call(pitch, \"Get mean\", 0, 0, unit) # get mean pitch\n",
        "    PitchStdev = call(pitch, \"Get standard deviation\", 0 ,0, unit) # get standard deviation\n",
        "    harmonicity = call(sound, \"To Harmonicity (cc)\", 0.01, f0min, 0.1, 1.0)\n",
        "    hnr = call(harmonicity, \"Get mean\", 0, 0)\n",
        "    return pitchMean, PitchStdev, hnr\n"
      ],
      "execution_count": null,
      "outputs": []
    },
    {
      "cell_type": "code",
      "metadata": {
        "id": "S2E3_yH3Rvkx",
        "colab_type": "code",
        "colab": {}
      },
      "source": [
        "def jitterShimmerMeasures(sound,pointProcess):\n",
        "    localJitter = call(pointProcess, \"Get jitter (local)\", 0, 0, 0.0001, 0.02, 1.3)\n",
        "    localabsoluteJitter = call(pointProcess, \"Get jitter (local, absolute)\", 0, 0, 0.0001, 0.02, 1.3)\n",
        "    rapJitter = call(pointProcess, \"Get jitter (rap)\", 0, 0, 0.0001, 0.02, 1.3)\n",
        "    ppq5Jitter = call(pointProcess, \"Get jitter (ppq5)\", 0, 0, 0.0001, 0.02, 1.3)\n",
        "    ddpJitter = call(pointProcess, \"Get jitter (ddp)\", 0, 0, 0.0001, 0.02, 1.3)\n",
        "    localShimmer =  call([sound, pointProcess], \"Get shimmer (local)\", 0, 0, 0.0001, 0.02, 1.3, 1.6)\n",
        "    localdbShimmer = call([sound, pointProcess], \"Get shimmer (local_dB)\", 0, 0, 0.0001, 0.02, 1.3, 1.6)\n",
        "    apq3Shimmer = call([sound, pointProcess], \"Get shimmer (apq3)\", 0, 0, 0.0001, 0.02, 1.3, 1.6)\n",
        "    aqpq5Shimmer = call([sound, pointProcess], \"Get shimmer (apq5)\", 0, 0, 0.0001, 0.02, 1.3, 1.6)\n",
        "    apq11Shimmer =  call([sound, pointProcess], \"Get shimmer (apq11)\", 0, 0, 0.0001, 0.02, 1.3, 1.6)\n",
        "    ddaShimmer = call([sound, pointProcess], \"Get shimmer (dda)\", 0, 0, 0.0001, 0.02, 1.3, 1.6)\n",
        "    return localJitter ,localabsoluteJitter ,rapJitter, ppq5Jitter, ddpJitter, localShimmer, localdbShimmer, apq3Shimmer, aqpq5Shimmer, apq11Shimmer, ddaShimmer"
      ],
      "execution_count": null,
      "outputs": []
    },
    {
      "cell_type": "code",
      "metadata": {
        "id": "zFuUVIvKS3dV",
        "colab_type": "code",
        "colab": {}
      },
      "source": [
        "def formantMeasures(sound,pointProcess):\n",
        "    formants = call(sound, \"To Formant (burg)\", 0.0025, 5, 5000, 0.025, 50)\n",
        "    numPoints = call(pointProcess, \"Get number of points\")\n",
        "    f1_list = []\n",
        "    f2_list = []\n",
        "    f3_list = []\n",
        "    f4_list = []\n",
        "    \n",
        "    # Measure formants only at glottal pulses\n",
        "    for point in range(0, numPoints):\n",
        "        point += 1\n",
        "        t = call(pointProcess, \"Get time from index\", point)\n",
        "        f1 = call(formants, \"Get value at time\", 1, t, 'Hertz', 'Linear')\n",
        "        f2 = call(formants, \"Get value at time\", 2, t, 'Hertz', 'Linear')\n",
        "        f3 = call(formants, \"Get value at time\", 3, t, 'Hertz', 'Linear')\n",
        "        f4 = call(formants, \"Get value at time\", 4, t, 'Hertz', 'Linear')\n",
        "        f1_list.append(f1)\n",
        "        f2_list.append(f2)\n",
        "        f3_list.append(f3)\n",
        "        f4_list.append(f4)\n",
        "    \n",
        "    f1_list = [f1 for f1 in f1_list if str(f1) != 'nan']\n",
        "    f2_list = [f2 for f2 in f2_list if str(f2) != 'nan']\n",
        "    f3_list = [f3 for f3 in f3_list if str(f3) != 'nan']\n",
        "    f4_list = [f4 for f4 in f4_list if str(f4) != 'nan']\n",
        "    \n",
        "    # calculate mean formants across pulses\n",
        "    f1_mean = np.mean(f1_list)\n",
        "    f2_mean = np.mean(f2_list)\n",
        "    f3_mean = np.mean(f3_list)\n",
        "    f4_mean = np.mean(f4_list)\n",
        "    return f1_mean,f2_mean,f3_mean,f4_mean\n"
      ],
      "execution_count": null,
      "outputs": []
    },
    {
      "cell_type": "markdown",
      "metadata": {
        "id": "fPzd2Wp-U-MM",
        "colab_type": "text"
      },
      "source": [
        "#Feature Extraction"
      ]
    },
    {
      "cell_type": "code",
      "metadata": {
        "id": "CAtjzplzYMRX",
        "colab_type": "code",
        "colab": {
          "base_uri": "https://localhost:8080/",
          "height": 235
        },
        "outputId": "9b9777ba-7ade-4162-96db-1840a40eb0c0"
      },
      "source": [
        "f0min,f0max=70,600\n",
        "unit=\"Hertz\"\n",
        "header = 'lable audioId recordId healthCode age gender time pitchMean pitchStdev hnr chroma_stft rmse spectral_centroid spectral_bandwidth rolloff localJitter localabsoluteJitter rapJitter ppq5Jitter ddpJitter localShimmer localdbShimmer aqpq5Shimmer apq11Shimmer ddaShimmer formant1Mean formant2Mean formant3Mean formant4Mean'\n",
        "for i in range(1, 21):\n",
        "    header += f' mfcc{i}'\n",
        "header = header.split()\n",
        "file = open('/content/drive/My Drive/dataEvery.csv', 'a', newline='')\n",
        "with file:\n",
        "    writer = csv.writer(file)\n",
        "    writer.writerow(header)"
      ],
      "execution_count": null,
      "outputs": [
        {
          "output_type": "error",
          "ename": "FileNotFoundError",
          "evalue": "ignored",
          "traceback": [
            "\u001b[0;31m---------------------------------------------------------------------------\u001b[0m",
            "\u001b[0;31mFileNotFoundError\u001b[0m                         Traceback (most recent call last)",
            "\u001b[0;32m<ipython-input-18-3379e30a6fa6>\u001b[0m in \u001b[0;36m<module>\u001b[0;34m()\u001b[0m\n\u001b[1;32m      5\u001b[0m     \u001b[0mheader\u001b[0m \u001b[0;34m+=\u001b[0m \u001b[0;34mf' mfcc{i}'\u001b[0m\u001b[0;34m\u001b[0m\u001b[0;34m\u001b[0m\u001b[0m\n\u001b[1;32m      6\u001b[0m \u001b[0mheader\u001b[0m \u001b[0;34m=\u001b[0m \u001b[0mheader\u001b[0m\u001b[0;34m.\u001b[0m\u001b[0msplit\u001b[0m\u001b[0;34m(\u001b[0m\u001b[0;34m)\u001b[0m\u001b[0;34m\u001b[0m\u001b[0;34m\u001b[0m\u001b[0m\n\u001b[0;32m----> 7\u001b[0;31m \u001b[0mfile\u001b[0m \u001b[0;34m=\u001b[0m \u001b[0mopen\u001b[0m\u001b[0;34m(\u001b[0m\u001b[0;34m'/content/drive/My Drive/dataEvery.csv'\u001b[0m\u001b[0;34m,\u001b[0m \u001b[0;34m'a'\u001b[0m\u001b[0;34m,\u001b[0m \u001b[0mnewline\u001b[0m\u001b[0;34m=\u001b[0m\u001b[0;34m''\u001b[0m\u001b[0;34m)\u001b[0m\u001b[0;34m\u001b[0m\u001b[0;34m\u001b[0m\u001b[0m\n\u001b[0m\u001b[1;32m      8\u001b[0m \u001b[0;32mwith\u001b[0m \u001b[0mfile\u001b[0m\u001b[0;34m:\u001b[0m\u001b[0;34m\u001b[0m\u001b[0;34m\u001b[0m\u001b[0m\n\u001b[1;32m      9\u001b[0m     \u001b[0mwriter\u001b[0m \u001b[0;34m=\u001b[0m \u001b[0mcsv\u001b[0m\u001b[0;34m.\u001b[0m\u001b[0mwriter\u001b[0m\u001b[0;34m(\u001b[0m\u001b[0mfile\u001b[0m\u001b[0;34m)\u001b[0m\u001b[0;34m\u001b[0m\u001b[0;34m\u001b[0m\u001b[0m\n",
            "\u001b[0;31mFileNotFoundError\u001b[0m: [Errno 2] No such file or directory: '/content/drive/My Drive/dataEvery.csv'"
          ]
        }
      ]
    },
    {
      "cell_type": "code",
      "metadata": {
        "id": "M2__yO9xaYwG",
        "colab_type": "code",
        "colab": {}
      },
      "source": [
        "dataCheck=pd.read_csv('/content/drive/My Drive/dataCheck.csv', usecols=range(0, 49))"
      ],
      "execution_count": null,
      "outputs": []
    },
    {
      "cell_type": "code",
      "metadata": {
        "id": "U2s1JiR2J-ob",
        "colab_type": "code",
        "colab": {}
      },
      "source": [
        " "
      ],
      "execution_count": null,
      "outputs": []
    },
    {
      "cell_type": "markdown",
      "metadata": {
        "id": "BvMEie6SSwYf",
        "colab_type": "text"
      },
      "source": [
        "# Machine Learning Models"
      ]
    },
    {
      "cell_type": "code",
      "metadata": {
        "id": "orsjlVjOLWJg",
        "colab_type": "code",
        "colab": {}
      },
      "source": [
        "from sklearn.linear_model import LinearRegression\n",
        "import statsmodels.api as sm\n",
        "import statsmodels.formula.api as smf\n",
        "from sklearn.preprocessing import scale \n",
        "from sklearn.model_selection import train_test_split, GridSearchCV, cross_val_score\n",
        "from sklearn.metrics import confusion_matrix, accuracy_score, classification_report\n",
        "from sklearn.metrics import roc_auc_score,roc_curve\n",
        "import statsmodels.formula.api as smf\n",
        "from sklearn.linear_model import LogisticRegression\n",
        "import matplotlib.pyplot as plt\n",
        "import pandas as pd\n",
        "import numpy as np\n",
        "import os"
      ],
      "execution_count": null,
      "outputs": []
    },
    {
      "cell_type": "code",
      "metadata": {
        "id": "BeBCDQJhjjks",
        "colab_type": "code",
        "colab": {}
      },
      "source": [
        "data = pd.read_csv('/content/dataCheck.csv')"
      ],
      "execution_count": null,
      "outputs": []
    },
    {
      "cell_type": "code",
      "metadata": {
        "id": "GpAQTsPE_xra",
        "colab_type": "code",
        "colab": {
          "base_uri": "https://localhost:8080/",
          "height": 69
        },
        "outputId": "fa3a5ab1-653e-490e-bb31-40ad4db1920b"
      },
      "source": [
        "count = data.lable.value_counts()\n",
        "count"
      ],
      "execution_count": null,
      "outputs": [
        {
          "output_type": "execute_result",
          "data": {
            "text/plain": [
              "NoParkinson    15658\n",
              "Parkinson      14926\n",
              "Name: lable, dtype: int64"
            ]
          },
          "metadata": {
            "tags": []
          },
          "execution_count": 73
        }
      ]
    },
    {
      "cell_type": "code",
      "metadata": {
        "id": "6-WhoH2uAAAz",
        "colab_type": "code",
        "colab": {
          "base_uri": "https://localhost:8080/",
          "height": 348
        },
        "outputId": "28ffbbea-bf9c-4685-e131-dc0b607c3c40"
      },
      "source": [
        "count.plot(kind='bar',color=(\"#006699\",\"#ff9900\"))\n",
        "plt.title(\"Distribution of No Parkinson and Parkinson\")\n",
        "plt.xlabel(\"Diagnosis\")\n",
        "plt.ylabel(\"count\");"
      ],
      "execution_count": null,
      "outputs": [
        {
          "output_type": "display_data",
          "data": {
            "image/png": "[encoded data removed]",
            "text/plain": [
              "<Figure size 432x288 with 1 Axes>"
            ]
          },
          "metadata": {
            "tags": []
          }
        }
      ]
    },
    {
      "cell_type": "code",
      "metadata": {
        "id": "zZBMQ7zeH5zT",
        "colab_type": "code",
        "colab": {}
      },
      "source": [
        "data=data.drop(['audioId', 'recordId', 'healthCode', 'age'], axis=1)"
      ],
      "execution_count": null,
      "outputs": []
    },
    {
      "cell_type": "code",
      "metadata": {
        "id": "9_T-6dPLRl3_",
        "colab_type": "code",
        "colab": {}
      },
      "source": [
        "data = data.dropna(how='any',axis=0)"
      ],
      "execution_count": null,
      "outputs": []
    },
    {
      "cell_type": "code",
      "metadata": {
        "id": "s48q5aQqMSk0",
        "colab_type": "code",
        "colab": {}
      },
      "source": [
        "y=data.lable.values #dependent variable\n",
        "data=data.drop([\"lable\"], axis=1) #Independent variable\n"
      ],
      "execution_count": null,
      "outputs": []
    },
    {
      "cell_type": "code",
      "metadata": {
        "id": "fcNkmVcRYGlX",
        "colab_type": "code",
        "colab": {}
      },
      "source": [
        "(X_train, X_test, y_train, y_test) = train_test_split(data.values, y, \n",
        "                                                    test_size=0.20, \n",
        "                                                    \n",
        "                                                    stratify=y)\n",
        "lable = {'NoParkinson':0, 'Parkinson':1}\n",
        "\n",
        "y_train = [lable[i] for i in y_train]\n",
        "y_test = [lable[i] for i in y_test]\n"
      ],
      "execution_count": null,
      "outputs": []
    },
    {
      "cell_type": "code",
      "metadata": {
        "id": "5h9ynQRxueSp",
        "colab_type": "code",
        "colab": {}
      },
      "source": [
        "result_table = pd.DataFrame(columns=['classifiers', 'fpr','tpr','auc'])"
      ],
      "execution_count": null,
      "outputs": []
    },
    {
      "cell_type": "markdown",
      "metadata": {
        "id": "Yj3dYsYKSkcM",
        "colab_type": "text"
      },
      "source": [
        "###Logistic Regression"
      ]
    },
    {
      "cell_type": "markdown",
      "metadata": {
        "id": "JIQsZg3p3daw",
        "colab_type": "text"
      },
      "source": [
        "**Accuracy from cross validation**"
      ]
    },
    {
      "cell_type": "code",
      "metadata": {
        "colab_type": "code",
        "id": "GTmAT4Y6lzxR",
        "colab": {}
      },
      "source": [
        "from sklearn.linear_model import LogisticRegression\n",
        "from sklearn.model_selection import StratifiedKFold\n",
        "\n",
        "logi = LogisticRegression(solver='liblinear')\n",
        "kfold = StratifiedKFold(n_splits=10, shuffle=True)\n",
        "results = cross_val_score(logi, X_train, y_train, cv=kfold)\n",
        "results.mean()"
      ],
      "execution_count": null,
      "outputs": []
    },
    {
      "cell_type": "markdown",
      "metadata": {
        "id": "mNHYJmNn3njW",
        "colab_type": "text"
      },
      "source": [
        "**Accuracy withiut cross validation**"
      ]
    },
    {
      "cell_type": "code",
      "metadata": {
        "colab_type": "code",
        "id": "wxnPWb0klzxV",
        "colab": {
          "base_uri": "https://localhost:8080/",
          "height": 35
        },
        "outputId": "6f9a5c36-e015-4a86-f5ba-1c8633ad9686"
      },
      "source": [
        "logiModel=logi.fit(X_train, y_train)\n",
        "y_pred = logiModel.predict(X_test)\n",
        "\n",
        "accuracy_score(y_test, y_pred)"
      ],
      "execution_count": null,
      "outputs": [
        {
          "output_type": "execute_result",
          "data": {
            "text/plain": [
              "0.7122772600948177"
            ]
          },
          "metadata": {
            "tags": []
          },
          "execution_count": 10
        }
      ]
    },
    {
      "cell_type": "markdown",
      "metadata": {
        "id": "lwh_CqltmBKL",
        "colab_type": "text"
      },
      "source": [
        "**Confusion Matrix**"
      ]
    },
    {
      "cell_type": "code",
      "metadata": {
        "id": "wWyNMsD4l_rq",
        "colab_type": "code",
        "colab": {
          "base_uri": "https://localhost:8080/",
          "height": 52
        },
        "outputId": "6aa3fca3-88c4-421a-f10e-53d797071ce6"
      },
      "source": [
        "confusion_matrix(y_test, y_pred)"
      ],
      "execution_count": null,
      "outputs": [
        {
          "output_type": "execute_result",
          "data": {
            "text/plain": [
              "array([[2275,  857],\n",
              "       [ 903, 2082]])"
            ]
          },
          "metadata": {
            "tags": []
          },
          "execution_count": 11
        }
      ]
    },
    {
      "cell_type": "markdown",
      "metadata": {
        "id": "E5FMRFSXmle-",
        "colab_type": "text"
      },
      "source": [
        "**AUC**"
      ]
    },
    {
      "cell_type": "code",
      "metadata": {
        "id": "p-Htjv660CO8",
        "colab_type": "code",
        "colab": {
          "base_uri": "https://localhost:8080/",
          "height": 279
        },
        "outputId": "062f7464-9a10-4af5-abb5-84ce009c850c"
      },
      "source": [
        "pred=logiModel.predict_proba(X_test)[:,1]\n",
        "auc=roc_auc_score(y_test, pred)\n",
        "lr_fpr, lr_tpr, _ = roc_curve(y_test, pred)\n",
        "plt.plot(lr_fpr, lr_tpr, marker='', label='Logistic')\n",
        "plt.text(0.45, 0.5, 'AUC : '+str(np.round(auc,4)))\n",
        "plt.xlabel('True Positive Rate')\n",
        "plt.ylabel('False Positive Rate')\n",
        "plt.legend()\n",
        "plt.show()"
      ],
      "execution_count": null,
      "outputs": [
        {
          "output_type": "display_data",
          "data": {
            "image/png": "[encoded data removed]",
            "text/plain": [
              "<Figure size 432x288 with 1 Axes>"
            ]
          },
          "metadata": {
            "tags": []
          }
        }
      ]
    },
    {
      "cell_type": "code",
      "metadata": {
        "id": "S8sGKRsmuvjg",
        "colab_type": "code",
        "colab": {}
      },
      "source": [
        "result_table = result_table.append({'classifiers':'Logistic Regression',\n",
        "                                        'fpr':lr_fpr, \n",
        "                                        'tpr':lr_tpr, \n",
        "                                        'auc':auc}, ignore_index=True)"
      ],
      "execution_count": null,
      "outputs": []
    },
    {
      "cell_type": "code",
      "metadata": {
        "colab_type": "code",
        "id": "WmfFefSulzxc",
        "colab": {
          "base_uri": "https://localhost:8080/",
          "height": 173
        },
        "outputId": "9e4f93a2-31c5-47c1-fbcb-40468738cc5e"
      },
      "source": [
        "print(classification_report(y_test, y_pred))"
      ],
      "execution_count": null,
      "outputs": [
        {
          "output_type": "stream",
          "text": [
            "              precision    recall  f1-score   support\n",
            "\n",
            "           0       0.72      0.72      0.72      3132\n",
            "           1       0.71      0.70      0.70      2985\n",
            "\n",
            "    accuracy                           0.71      6117\n",
            "   macro avg       0.71      0.71      0.71      6117\n",
            "weighted avg       0.71      0.71      0.71      6117\n",
            "\n"
          ],
          "name": "stdout"
        }
      ]
    },
    {
      "cell_type": "markdown",
      "metadata": {
        "id": "NPcqGaJ0V6O6",
        "colab_type": "text"
      },
      "source": [
        "### Decision Tree"
      ]
    },
    {
      "cell_type": "markdown",
      "metadata": {
        "id": "p_rVvGgzq3_a",
        "colab_type": "text"
      },
      "source": [
        "**Accuracy from cross validation**"
      ]
    },
    {
      "cell_type": "code",
      "metadata": {
        "id": "Xn6rfEV4V49k",
        "colab_type": "code",
        "colab": {}
      },
      "source": [
        "from sklearn import tree\n",
        "dTree = tree.DecisionTreeClassifier()\n",
        "kfold = StratifiedKFold(n_splits=10, shuffle=True)\n",
        "results = cross_val_score(dTree, X_train, y_train, cv=kfold)\n",
        "results.mean()\n"
      ],
      "execution_count": null,
      "outputs": []
    },
    {
      "cell_type": "markdown",
      "metadata": {
        "id": "3bOBbT90q6t1",
        "colab_type": "text"
      },
      "source": [
        "**Accuracy without cross validation**"
      ]
    },
    {
      "cell_type": "code",
      "metadata": {
        "id": "-z1OV6gNnPeE",
        "colab_type": "code",
        "colab": {
          "base_uri": "https://localhost:8080/",
          "height": 35
        },
        "outputId": "def4dcb2-494c-4756-d050-e0a24e3c49ff"
      },
      "source": [
        "dTree = dTree.fit(X_train, y_train)\n",
        "y_pred = dTree.predict(X_test)\n",
        "accuracy_score(y_test, y_pred)"
      ],
      "execution_count": null,
      "outputs": [
        {
          "output_type": "execute_result",
          "data": {
            "text/plain": [
              "0.7459538989700834"
            ]
          },
          "metadata": {
            "tags": []
          },
          "execution_count": 15
        }
      ]
    },
    {
      "cell_type": "markdown",
      "metadata": {
        "colab_type": "text",
        "id": "zUYm2dSIrQBZ"
      },
      "source": [
        "**Confusion Matrix**"
      ]
    },
    {
      "cell_type": "code",
      "metadata": {
        "colab_type": "code",
        "id": "EILYxa35rQBf",
        "colab": {
          "base_uri": "https://localhost:8080/",
          "height": 52
        },
        "outputId": "711413dc-ca70-40e1-a634-a379c8e4b52b"
      },
      "source": [
        "confusion_matrix(y_test, y_pred)"
      ],
      "execution_count": null,
      "outputs": [
        {
          "output_type": "execute_result",
          "data": {
            "text/plain": [
              "array([[2309,  823],\n",
              "       [ 816, 2169]])"
            ]
          },
          "metadata": {
            "tags": []
          },
          "execution_count": 216
        }
      ]
    },
    {
      "cell_type": "markdown",
      "metadata": {
        "colab_type": "text",
        "id": "_yJ3L-2grQBm"
      },
      "source": [
        "**AUC**"
      ]
    },
    {
      "cell_type": "code",
      "metadata": {
        "colab_type": "code",
        "id": "cZlExbN3rQBn",
        "colab": {
          "base_uri": "https://localhost:8080/",
          "height": 279
        },
        "outputId": "1fcdbd0a-30da-4dec-a00d-1963dd636a9c"
      },
      "source": [
        "pred=dTree.predict_proba(X_test)[:,1]\n",
        "auc=roc_auc_score(y_test, pred)\n",
        "lr_fpr, lr_tpr, _ = roc_curve(y_test, pred)\n",
        "plt.plot(lr_fpr, lr_tpr, marker='', label='Decision Tree')\n",
        "plt.text(0.45, 0.5, 'AUC : '+str(np.round(auc,4)))\n",
        "plt.xlabel('True Positive Rate')\n",
        "plt.ylabel('False Positive Rate')\n",
        "plt.legend()\n",
        "plt.show()"
      ],
      "execution_count": null,
      "outputs": [
        {
          "output_type": "display_data",
          "data": {
            "image/png": "[encoded data removed]",
            "text/plain": [
              "<Figure size 432x288 with 1 Axes>"
            ]
          },
          "metadata": {
            "tags": []
          }
        }
      ]
    },
    {
      "cell_type": "code",
      "metadata": {
        "id": "TTa5TkGivnBE",
        "colab_type": "code",
        "colab": {}
      },
      "source": [
        "result_table = result_table.append({'classifiers':'Decision Tree',\n",
        "                                        'fpr':lr_fpr, \n",
        "                                        'tpr':lr_tpr, \n",
        "                                        'auc':auc}, ignore_index=True)"
      ],
      "execution_count": null,
      "outputs": []
    },
    {
      "cell_type": "code",
      "metadata": {
        "id": "JTrt-6_ik4SD",
        "colab_type": "code",
        "colab": {
          "base_uri": "https://localhost:8080/",
          "height": 173
        },
        "outputId": "7439a6e4-df33-430f-e2c6-50f0a34f386d"
      },
      "source": [
        "print(classification_report(y_test, y_pred))\n"
      ],
      "execution_count": null,
      "outputs": [
        {
          "output_type": "stream",
          "text": [
            "              precision    recall  f1-score   support\n",
            "\n",
            "           0       0.74      0.74      0.74      3132\n",
            "           1       0.72      0.73      0.73      2985\n",
            "\n",
            "    accuracy                           0.73      6117\n",
            "   macro avg       0.73      0.73      0.73      6117\n",
            "weighted avg       0.73      0.73      0.73      6117\n",
            "\n"
          ],
          "name": "stdout"
        }
      ]
    },
    {
      "cell_type": "markdown",
      "metadata": {
        "id": "FJ7DdP27oo_L",
        "colab_type": "text"
      },
      "source": [
        "###SVM"
      ]
    },
    {
      "cell_type": "markdown",
      "metadata": {
        "colab_type": "text",
        "id": "HVtItceBprT2"
      },
      "source": [
        "**Accurecy from cross validation**"
      ]
    },
    {
      "cell_type": "code",
      "metadata": {
        "colab_type": "code",
        "id": "LboxuhxSprT3",
        "colab": {}
      },
      "source": [
        "from sklearn.svm import SVC\n",
        "svclassifier = SVC(kernel='linear',probability=True)\n",
        "kfold = StratifiedKFold(n_splits=10, shuffle=True)\n",
        "results = cross_val_score(svclassifier, X_train, y_train, cv=kfold)\n",
        "results.mean()"
      ],
      "execution_count": null,
      "outputs": []
    },
    {
      "cell_type": "markdown",
      "metadata": {
        "colab_type": "text",
        "id": "OKT1Ui8AqLMr"
      },
      "source": [
        "**Accuracy withiut cross validation**"
      ]
    },
    {
      "cell_type": "code",
      "metadata": {
        "id": "EvRp6adWooXL",
        "colab_type": "code",
        "colab": {}
      },
      "source": [
        "svclassifier.fit(X_train, y_train)\n",
        "y_pred=svclassifier.predict(X_test)\n",
        "accuracy_score(y_test, y_pred)"
      ],
      "execution_count": null,
      "outputs": []
    },
    {
      "cell_type": "markdown",
      "metadata": {
        "colab_type": "text",
        "id": "BPdip1qYpf4t"
      },
      "source": [
        "**Confusion Matrix**"
      ]
    },
    {
      "cell_type": "code",
      "metadata": {
        "colab_type": "code",
        "id": "jWjeV-aCpf4v",
        "colab": {}
      },
      "source": [
        "confusion_matrix(y_test, y_pred)"
      ],
      "execution_count": null,
      "outputs": []
    },
    {
      "cell_type": "markdown",
      "metadata": {
        "id": "KW-hsFNu81yq",
        "colab_type": "text"
      },
      "source": [
        "**AUC**"
      ]
    },
    {
      "cell_type": "code",
      "metadata": {
        "id": "T89LqsOSqWvB",
        "colab_type": "code",
        "colab": {}
      },
      "source": [
        "probas_ = svclassifier.predict_proba(X_test)[:,1]"
      ],
      "execution_count": null,
      "outputs": []
    },
    {
      "cell_type": "code",
      "metadata": {
        "colab_type": "code",
        "id": "CYFUl9F9qXAG",
        "colab": {}
      },
      "source": [
        "#pred=probas_[:, 1]\n",
        "auc=roc_auc_score(y_test, probas_ )\n",
        "lr_fpr, lr_tpr, _ = roc_curve(y_test, pred)\n",
        "plt.plot(lr_fpr, lr_tpr, marker='', label='SVM')\n",
        "plt.text(0.45, 0.5, 'AUC : '+str(np.round(auc,4)))\n",
        "plt.xlabel('True Positive Rate')\n",
        "plt.ylabel('False Positive Rate')\n",
        "plt.legend()\n",
        "plt.show()"
      ],
      "execution_count": null,
      "outputs": []
    },
    {
      "cell_type": "code",
      "metadata": {
        "colab_type": "code",
        "id": "TliaXaTrqXAI",
        "colab": {}
      },
      "source": [
        "print(classification_report(y_test, y_pred))"
      ],
      "execution_count": null,
      "outputs": []
    },
    {
      "cell_type": "markdown",
      "metadata": {
        "id": "_W664NEGTjAX",
        "colab_type": "text"
      },
      "source": [
        "### KNN (K-Nearst Neigbourhood)"
      ]
    },
    {
      "cell_type": "code",
      "metadata": {
        "id": "IX31QWZ_SK2F",
        "colab_type": "code",
        "colab": {
          "base_uri": "https://localhost:8080/",
          "height": 35
        },
        "outputId": "3ccbf63a-64ff-4ab4-b3ad-a0c57a2eb00f"
      },
      "source": [
        "from sklearn.neighbors import KNeighborsClassifier\n",
        "knn = KNeighborsClassifier()\n",
        "knn_model = knn.fit(X_train, y_train)\n",
        "y_pred = knn_model.predict(X_test)\n",
        "accuracy_score(y_test, y_pred)"
      ],
      "execution_count": null,
      "outputs": [
        {
          "output_type": "execute_result",
          "data": {
            "text/plain": [
              "0.7258460029426189"
            ]
          },
          "metadata": {
            "tags": []
          },
          "execution_count": 18
        }
      ]
    },
    {
      "cell_type": "markdown",
      "metadata": {
        "colab_type": "text",
        "id": "ilokXFJp9AoJ"
      },
      "source": [
        "**Confusion Matrix**"
      ]
    },
    {
      "cell_type": "code",
      "metadata": {
        "colab_type": "code",
        "id": "V2x6A-ly9AoT",
        "colab": {}
      },
      "source": [
        "confusion_matrix(y_test, y_pred)"
      ],
      "execution_count": null,
      "outputs": []
    },
    {
      "cell_type": "markdown",
      "metadata": {
        "colab_type": "text",
        "id": "0BeyOcsb9Aoc"
      },
      "source": [
        "**AUC**"
      ]
    },
    {
      "cell_type": "code",
      "metadata": {
        "colab_type": "code",
        "id": "Yym3u4oM9Aoe",
        "colab": {}
      },
      "source": [
        "probas_ = knn_model.predict_proba(X_test)"
      ],
      "execution_count": null,
      "outputs": []
    },
    {
      "cell_type": "code",
      "metadata": {
        "colab_type": "code",
        "id": "BpNF5qeT9Aoo",
        "colab": {
          "base_uri": "https://localhost:8080/",
          "height": 279
        },
        "outputId": "340b2082-bf40-4fa7-c0bd-c23fc483e7d6"
      },
      "source": [
        "pred=probas_[:, 1]\n",
        "auc=roc_auc_score(y_test, pred)\n",
        "lr_fpr, lr_tpr, _ = roc_curve(y_test, pred)\n",
        "plt.plot(lr_fpr, lr_tpr, marker='', label='KNN')\n",
        "plt.text(0.45, 0.5, 'AUC : '+str(np.round(auc,4)))\n",
        "plt.xlabel('True Positive Rate')\n",
        "plt.ylabel('False Positive Rate')\n",
        "plt.legend()\n",
        "plt.show()"
      ],
      "execution_count": null,
      "outputs": [
        {
          "output_type": "display_data",
          "data": {
            "image/png": "[encoded data removed]",
            "text/plain": [
              "<Figure size 432x288 with 1 Axes>"
            ]
          },
          "metadata": {
            "tags": []
          }
        }
      ]
    },
    {
      "cell_type": "code",
      "metadata": {
        "id": "j5cahswYxT4x",
        "colab_type": "code",
        "colab": {}
      },
      "source": [
        "result_table = result_table.append({'classifiers':'KNN',\n",
        "                                        'fpr':lr_fpr, \n",
        "                                        'tpr':lr_tpr, \n",
        "                                        'auc':auc}, ignore_index=True)"
      ],
      "execution_count": null,
      "outputs": []
    },
    {
      "cell_type": "code",
      "metadata": {
        "id": "g7tbRvNNTzAX",
        "colab_type": "code",
        "colab": {}
      },
      "source": [
        "print(classification_report(y_test, y_pred))"
      ],
      "execution_count": null,
      "outputs": []
    },
    {
      "cell_type": "markdown",
      "metadata": {
        "id": "n-IDJzY7Dx4O",
        "colab_type": "text"
      },
      "source": [
        "## Random Forest"
      ]
    },
    {
      "cell_type": "code",
      "metadata": {
        "id": "0rs5GXFh5Qc3",
        "colab_type": "code",
        "colab": {
          "base_uri": "https://localhost:8080/",
          "height": 89
        },
        "outputId": "2ffc7c69-86fe-424b-f5b5-3e5fee3d6a92"
      },
      "source": [
        "from sklearn.ensemble import RandomForestClassifier\n",
        "randForest = RandomForestClassifier()\n",
        "randForest_model = randForest.fit(X_train, y_train)\n",
        "y_pred = randForest_model.predict(X_test)\n",
        "accuracy_score(y_test, y_pred)"
      ],
      "execution_count": null,
      "outputs": [
        {
          "output_type": "stream",
          "text": [
            "/usr/local/lib/python3.6/dist-packages/sklearn/ensemble/forest.py:245: FutureWarning: The default value of n_estimators will change from 10 in version 0.20 to 100 in 0.22.\n",
            "  \"10 in version 0.20 to 100 in 0.22.\", FutureWarning)\n"
          ],
          "name": "stderr"
        },
        {
          "output_type": "execute_result",
          "data": {
            "text/plain": [
              "0.8191924145823116"
            ]
          },
          "metadata": {
            "tags": []
          },
          "execution_count": 22
        }
      ]
    },
    {
      "cell_type": "markdown",
      "metadata": {
        "colab_type": "text",
        "id": "qJ6Mg8eeEiGy"
      },
      "source": [
        "**Confusion Matrix**"
      ]
    },
    {
      "cell_type": "code",
      "metadata": {
        "colab_type": "code",
        "id": "XAMXFx9DEiG8",
        "colab": {}
      },
      "source": [
        "confusion_matrix(y_test, y_pred)"
      ],
      "execution_count": null,
      "outputs": []
    },
    {
      "cell_type": "markdown",
      "metadata": {
        "colab_type": "text",
        "id": "Z_1yo92-EiHI"
      },
      "source": [
        "**AUC**"
      ]
    },
    {
      "cell_type": "code",
      "metadata": {
        "colab_type": "code",
        "id": "WYq4skk5EiHL",
        "colab": {}
      },
      "source": [
        "probas_ =randForest_model.predict_proba(X_test)"
      ],
      "execution_count": null,
      "outputs": []
    },
    {
      "cell_type": "code",
      "metadata": {
        "colab_type": "code",
        "id": "kH6WcccOEiHS",
        "colab": {
          "base_uri": "https://localhost:8080/",
          "height": 279
        },
        "outputId": "83eea729-efa1-4994-edcd-e196bbf8e792"
      },
      "source": [
        "pred=probas_[:, 1]\n",
        "auc=roc_auc_score(y_test, pred)\n",
        "lr_fpr, lr_tpr, _ = roc_curve(y_test, pred)\n",
        "plt.plot(lr_fpr, lr_tpr, marker='', label='Random forest')\n",
        "plt.text(0.45, 0.5, 'AUC : '+str(np.round(auc,4)))\n",
        "plt.xlabel('True Positive Rate')\n",
        "plt.ylabel('False Positive Rate')\n",
        "plt.legend()\n",
        "plt.show()"
      ],
      "execution_count": null,
      "outputs": [
        {
          "output_type": "display_data",
          "data": {
            "image/png": "[encoded data removed]",
            "text/plain": [
              "<Figure size 432x288 with 1 Axes>"
            ]
          },
          "metadata": {
            "tags": []
          }
        }
      ]
    },
    {
      "cell_type": "code",
      "metadata": {
        "id": "huWsF4mhxdlK",
        "colab_type": "code",
        "colab": {}
      },
      "source": [
        "result_table = result_table.append({'classifiers':'Random Forest',\n",
        "                                        'fpr':lr_fpr, \n",
        "                                        'tpr':lr_tpr, \n",
        "                                        'auc':auc}, ignore_index=True)"
      ],
      "execution_count": null,
      "outputs": []
    },
    {
      "cell_type": "code",
      "metadata": {
        "colab_type": "code",
        "id": "-vGYagV0EiHZ",
        "colab": {}
      },
      "source": [
        "print(classification_report(y_test, y_pred))"
      ],
      "execution_count": null,
      "outputs": []
    },
    {
      "cell_type": "markdown",
      "metadata": {
        "id": "rg8M_9GOGSDe",
        "colab_type": "text"
      },
      "source": [
        "# Deep Learning"
      ]
    },
    {
      "cell_type": "markdown",
      "metadata": {
        "id": "LaWzBD8lnxaU",
        "colab_type": "text"
      },
      "source": [
        "## H20"
      ]
    },
    {
      "cell_type": "code",
      "metadata": {
        "id": "pzcOi_otqYam",
        "colab_type": "code",
        "colab": {
          "base_uri": "https://localhost:8080/",
          "height": 349
        },
        "outputId": "cf3156f6-8f7e-44fc-850c-bd8d5ff05c22"
      },
      "source": [
        "pip install h2o"
      ],
      "execution_count": null,
      "outputs": [
        {
          "output_type": "stream",
          "text": [
            "Collecting h2o\n",
            "  Using cached https://files.pythonhosted.org/packages/6b/d1/aaa74df4716b2454d6034261807ef3855d014862c801f0e9b803b568006d/h2o-3.28.0.1.tar.gz\n",
            "Requirement already satisfied: requests in /usr/local/lib/python3.6/dist-packages (from h2o) (2.21.0)\n",
            "Requirement already satisfied: tabulate in /usr/local/lib/python3.6/dist-packages (from h2o) (0.8.6)\n",
            "Requirement already satisfied: future in /usr/local/lib/python3.6/dist-packages (from h2o) (0.16.0)\n",
            "Collecting colorama>=0.3.8\n",
            "  Using cached https://files.pythonhosted.org/packages/c9/dc/45cdef1b4d119eb96316b3117e6d5708a08029992b2fee2c143c7a0a5cc5/colorama-0.4.3-py2.py3-none-any.whl\n",
            "Requirement already satisfied: urllib3<1.25,>=1.21.1 in /usr/local/lib/python3.6/dist-packages (from requests->h2o) (1.24.3)\n",
            "Requirement already satisfied: chardet<3.1.0,>=3.0.2 in /usr/local/lib/python3.6/dist-packages (from requests->h2o) (3.0.4)\n",
            "Requirement already satisfied: certifi>=2017.4.17 in /usr/local/lib/python3.6/dist-packages (from requests->h2o) (2019.11.28)\n",
            "Requirement already satisfied: idna<2.9,>=2.5 in /usr/local/lib/python3.6/dist-packages (from requests->h2o) (2.8)\n",
            "Building wheels for collected packages: h2o\n",
            "  Building wheel for h2o (setup.py) ... \u001b[?25l\u001b[?25hdone\n",
            "  Created wheel for h2o: filename=h2o-3.28.0.1-py2.py3-none-any.whl size=123410554 sha256=76053dc4c197bee5f389940ebc0394eddd06ce9f53af67ddff72766766818969\n",
            "  Stored in directory: /root/.cache/pip/wheels/ff/82/f4/3fe9c895b93c53b25ae44dc44aa54dad571c711f48bc485fe9\n",
            "Successfully built h2o\n",
            "Installing collected packages: colorama, h2o\n",
            "Successfully installed colorama-0.4.3 h2o-3.28.0.1\n"
          ],
          "name": "stdout"
        }
      ]
    },
    {
      "cell_type": "code",
      "metadata": {
        "id": "A_s3iLGwqJ3j",
        "colab_type": "code",
        "colab": {}
      },
      "source": [
        "import h2o\n",
        "import matplotlib.pyplot as plt\n",
        "from h2o.grid.grid_search import H2OGridSearch\n",
        "import pandas as pd\n",
        "import numpy as np\n",
        "from h2o.estimators.deeplearning import H2OAutoEncoderEstimator, H2ODeepLearningEstimator\n",
        "import os"
      ],
      "execution_count": null,
      "outputs": []
    },
    {
      "cell_type": "code",
      "metadata": {
        "id": "jWUCnaBUsrOp",
        "colab_type": "code",
        "colab": {
          "base_uri": "https://localhost:8080/",
          "height": 1000
        },
        "outputId": "39e51b29-ecf2-435a-f0b7-af3ceb43aa3b"
      },
      "source": [
        "h2o.init(ip=\"127.0.0.1\",max_mem_size_GB = 2)\n",
        "h2o.connect()\n"
      ],
      "execution_count": null,
      "outputs": [
        {
          "output_type": "stream",
          "text": [
            "Checking whether there is an H2O instance running at http://127.0.0.1:54321 ..... not found.\n",
            "Attempting to start a local H2O server...\n",
            "  Java Version: openjdk version \"11.0.5\" 2019-10-15; OpenJDK Runtime Environment (build 11.0.5+10-post-Ubuntu-0ubuntu1.118.04); OpenJDK 64-Bit Server VM (build 11.0.5+10-post-Ubuntu-0ubuntu1.118.04, mixed mode, sharing)\n",
            "  Starting server from /usr/local/lib/python3.6/dist-packages/h2o/backend/bin/h2o.jar\n",
            "  Ice root: /tmp/tmpce4jts98\n",
            "  JVM stdout: /tmp/tmpce4jts98/h2o_unknownUser_started_from_python.out\n",
            "  JVM stderr: /tmp/tmpce4jts98/h2o_unknownUser_started_from_python.err\n",
            "  Server is running at http://127.0.0.1:54321\n",
            "Connecting to H2O server at http://127.0.0.1:54321 ... successful.\n"
          ],
          "name": "stdout"
        },
        {
          "output_type": "display_data",
          "data": {
            "text/html": [
              "<div style=\"overflow:auto\"><table style=\"width:50%\"><tr><td>H2O cluster uptime:</td>\n",
              "<td>02 secs</td></tr>\n",
              "<tr><td>H2O cluster timezone:</td>\n",
              "<td>Etc/UTC</td></tr>\n",
              "<tr><td>H2O data parsing timezone:</td>\n",
              "<td>UTC</td></tr>\n",
              "<tr><td>H2O cluster version:</td>\n",
              "<td>3.28.0.1</td></tr>\n",
              "<tr><td>H2O cluster version age:</td>\n",
              "<td>20 days </td></tr>\n",
              "<tr><td>H2O cluster name:</td>\n",
              "<td>H2O_from_python_unknownUser_fhd33k</td></tr>\n",
              "<tr><td>H2O cluster total nodes:</td>\n",
              "<td>1</td></tr>\n",
              "<tr><td>H2O cluster free memory:</td>\n",
              "<td>2 Gb</td></tr>\n",
              "<tr><td>H2O cluster total cores:</td>\n",
              "<td>2</td></tr>\n",
              "<tr><td>H2O cluster allowed cores:</td>\n",
              "<td>2</td></tr>\n",
              "<tr><td>H2O cluster status:</td>\n",
              "<td>accepting new members, healthy</td></tr>\n",
              "<tr><td>H2O connection url:</td>\n",
              "<td>http://127.0.0.1:54321</td></tr>\n",
              "<tr><td>H2O connection proxy:</td>\n",
              "<td>{'http': None, 'https': None}</td></tr>\n",
              "<tr><td>H2O internal security:</td>\n",
              "<td>False</td></tr>\n",
              "<tr><td>H2O API Extensions:</td>\n",
              "<td>Amazon S3, XGBoost, Algos, AutoML, Core V3, TargetEncoder, Core V4</td></tr>\n",
              "<tr><td>Python version:</td>\n",
              "<td>3.6.9 final</td></tr></table></div>"
            ],
            "text/plain": [
              "--------------------------  ------------------------------------------------------------------\n",
              "H2O cluster uptime:         02 secs\n",
              "H2O cluster timezone:       Etc/UTC\n",
              "H2O data parsing timezone:  UTC\n",
              "H2O cluster version:        3.28.0.1\n",
              "H2O cluster version age:    20 days\n",
              "H2O cluster name:           H2O_from_python_unknownUser_fhd33k\n",
              "H2O cluster total nodes:    1\n",
              "H2O cluster free memory:    2 Gb\n",
              "H2O cluster total cores:    2\n",
              "H2O cluster allowed cores:  2\n",
              "H2O cluster status:         accepting new members, healthy\n",
              "H2O connection url:         http://127.0.0.1:54321\n",
              "H2O connection proxy:       {'http': None, 'https': None}\n",
              "H2O internal security:      False\n",
              "H2O API Extensions:         Amazon S3, XGBoost, Algos, AutoML, Core V3, TargetEncoder, Core V4\n",
              "Python version:             3.6.9 final\n",
              "--------------------------  ------------------------------------------------------------------"
            ]
          },
          "metadata": {
            "tags": []
          }
        },
        {
          "output_type": "stream",
          "text": [
            "Connecting to H2O server at http://localhost:54321 ... successful.\n"
          ],
          "name": "stdout"
        },
        {
          "output_type": "display_data",
          "data": {
            "text/html": [
              "<div style=\"overflow:auto\"><table style=\"width:50%\"><tr><td>H2O cluster uptime:</td>\n",
              "<td>02 secs</td></tr>\n",
              "<tr><td>H2O cluster timezone:</td>\n",
              "<td>Etc/UTC</td></tr>\n",
              "<tr><td>H2O data parsing timezone:</td>\n",
              "<td>UTC</td></tr>\n",
              "<tr><td>H2O cluster version:</td>\n",
              "<td>3.28.0.1</td></tr>\n",
              "<tr><td>H2O cluster version age:</td>\n",
              "<td>20 days </td></tr>\n",
              "<tr><td>H2O cluster name:</td>\n",
              "<td>H2O_from_python_unknownUser_fhd33k</td></tr>\n",
              "<tr><td>H2O cluster total nodes:</td>\n",
              "<td>1</td></tr>\n",
              "<tr><td>H2O cluster free memory:</td>\n",
              "<td>2 Gb</td></tr>\n",
              "<tr><td>H2O cluster total cores:</td>\n",
              "<td>2</td></tr>\n",
              "<tr><td>H2O cluster allowed cores:</td>\n",
              "<td>2</td></tr>\n",
              "<tr><td>H2O cluster status:</td>\n",
              "<td>locked, healthy</td></tr>\n",
              "<tr><td>H2O connection url:</td>\n",
              "<td>http://localhost:54321</td></tr>\n",
              "<tr><td>H2O connection proxy:</td>\n",
              "<td>{'http': None, 'https': None}</td></tr>\n",
              "<tr><td>H2O internal security:</td>\n",
              "<td>False</td></tr>\n",
              "<tr><td>H2O API Extensions:</td>\n",
              "<td>Amazon S3, XGBoost, Algos, AutoML, Core V3, TargetEncoder, Core V4</td></tr>\n",
              "<tr><td>Python version:</td>\n",
              "<td>3.6.9 final</td></tr></table></div>"
            ],
            "text/plain": [
              "--------------------------  ------------------------------------------------------------------\n",
              "H2O cluster uptime:         02 secs\n",
              "H2O cluster timezone:       Etc/UTC\n",
              "H2O data parsing timezone:  UTC\n",
              "H2O cluster version:        3.28.0.1\n",
              "H2O cluster version age:    20 days\n",
              "H2O cluster name:           H2O_from_python_unknownUser_fhd33k\n",
              "H2O cluster total nodes:    1\n",
              "H2O cluster free memory:    2 Gb\n",
              "H2O cluster total cores:    2\n",
              "H2O cluster allowed cores:  2\n",
              "H2O cluster status:         locked, healthy\n",
              "H2O connection url:         http://localhost:54321\n",
              "H2O connection proxy:       {'http': None, 'https': None}\n",
              "H2O internal security:      False\n",
              "H2O API Extensions:         Amazon S3, XGBoost, Algos, AutoML, Core V3, TargetEncoder, Core V4\n",
              "Python version:             3.6.9 final\n",
              "--------------------------  ------------------------------------------------------------------"
            ]
          },
          "metadata": {
            "tags": []
          }
        },
        {
          "output_type": "execute_result",
          "data": {
            "text/plain": [
              "<H2OConnection to http://localhost:54321, no session>"
            ]
          },
          "metadata": {
            "tags": []
          },
          "execution_count": 29
        }
      ]
    },
    {
      "cell_type": "code",
      "metadata": {
        "id": "9avnRJSMtR0q",
        "colab_type": "code",
        "colab": {
          "base_uri": "https://localhost:8080/",
          "height": 35
        },
        "outputId": "95c896c5-2314-426d-b5de-59d2337f9418"
      },
      "source": [
        "dataCheck_df = h2o.import_file(path = os.path.realpath(\"../content/dataCheck.csv\"))"
      ],
      "execution_count": null,
      "outputs": [
        {
          "output_type": "stream",
          "text": [
            "Parse progress: |█████████████████████████████████████████████████████████| 100%\n"
          ],
          "name": "stdout"
        }
      ]
    },
    {
      "cell_type": "code",
      "metadata": {
        "id": "E95hpamVtrnE",
        "colab_type": "code",
        "colab": {}
      },
      "source": [
        "#split the data as described above\n",
        "train, valid,test = dataCheck_df.split_frame([0.6, 0.2], seed=1234)\n",
        "\n",
        "X = dataCheck_df.col_names[5:]\n",
        "y = dataCheck_df.col_names[0]"
      ],
      "execution_count": null,
      "outputs": []
    },
    {
      "cell_type": "markdown",
      "metadata": {
        "id": "CnMrImJEKSoW",
        "colab_type": "text"
      },
      "source": [
        "###H2O Model"
      ]
    },
    {
      "cell_type": "code",
      "metadata": {
        "id": "uALwHQRnu96i",
        "colab_type": "code",
        "colab": {}
      },
      "source": [
        "model= H2ODeepLearningEstimator(\n",
        "    hidden=[50,190,150],\n",
        "    activation = \"tanh\", \n",
        "    epochs = 10,\n",
        "    distribution=\"bernoulli\",\n",
        "    loss='CrossEntropy',\n",
        "    nfolds=10,\n",
        "    l2=0,\n",
        "    l1=0,\n",
        "    mini_batch_size=1)\n",
        "model.train(X, y, training_frame = train, validation_frame = valid)"
      ],
      "execution_count": null,
      "outputs": []
    },
    {
      "cell_type": "code",
      "metadata": {
        "id": "GYgxCc2NZWXD",
        "colab_type": "code",
        "colab": {}
      },
      "source": [
        "model.get_params()"
      ],
      "execution_count": null,
      "outputs": []
    },
    {
      "cell_type": "code",
      "metadata": {
        "id": "M51wGbpxxuXA",
        "colab_type": "code",
        "colab": {}
      },
      "source": [
        "model.accuracy()"
      ],
      "execution_count": null,
      "outputs": []
    },
    {
      "cell_type": "code",
      "metadata": {
        "id": "kTBHNqDCxnsb",
        "colab_type": "code",
        "colab": {}
      },
      "source": [
        "lr_fpr=model.model_performance(test).fprs\n",
        "lr_tpr=model.model_performance(test).tprs\n",
        "auc=model.model_performance(test).auc()\n",
        "result_table = result_table.append({'classifiers':'Deep Neural Network H2O',\n",
        "                                        'fpr':lr_fpr, \n",
        "                                        'tpr':lr_tpr, \n",
        "                                        'auc':auc}, ignore_index=True)"
      ],
      "execution_count": null,
      "outputs": []
    },
    {
      "cell_type": "code",
      "metadata": {
        "id": "ZEE6D3sqxoju",
        "colab_type": "code",
        "colab": {}
      },
      "source": [
        "modelPerform=model.model_performance(test)"
      ],
      "execution_count": null,
      "outputs": []
    },
    {
      "cell_type": "code",
      "metadata": {
        "id": "x0XX0gIaOrRI",
        "colab_type": "code",
        "colab": {}
      },
      "source": [
        "modelPerform.confusion_matrix()"
      ],
      "execution_count": null,
      "outputs": []
    },
    {
      "cell_type": "code",
      "metadata": {
        "id": "pGKNfz6QlkAn",
        "colab_type": "code",
        "colab": {}
      },
      "source": [
        " modelPerform.accuracy()"
      ],
      "execution_count": null,
      "outputs": []
    },
    {
      "cell_type": "markdown",
      "metadata": {
        "id": "mPinMGhdIrMK",
        "colab_type": "text"
      },
      "source": [
        "**Plot**"
      ]
    },
    {
      "cell_type": "code",
      "metadata": {
        "id": "SRSFn5S-Rtz5",
        "colab_type": "code",
        "colab": {}
      },
      "source": [
        "model.plot()"
      ],
      "execution_count": null,
      "outputs": []
    },
    {
      "cell_type": "code",
      "metadata": {
        "id": "LKWvvX_o_42C",
        "colab_type": "code",
        "colab": {}
      },
      "source": [
        "model_hist = model.score_history()"
      ],
      "execution_count": null,
      "outputs": []
    },
    {
      "cell_type": "code",
      "metadata": {
        "id": "GM82eTseRZhK",
        "colab_type": "code",
        "colab": {}
      },
      "source": [
        "plt.plot( model_hist['epochs'],model_hist['training_classification_error']  ,label=\"training_classification_error\" )\n",
        "plt.plot( model_hist['epochs'],model_hist['validation_classification_error'] ,label=\"validation_classification_error\"   )\n",
        "plt.xlabel('Epochs')\n",
        "plt.ylabel('classification_error')\n",
        "plt.legend();"
      ],
      "execution_count": null,
      "outputs": []
    },
    {
      "cell_type": "markdown",
      "metadata": {
        "id": "8K725frzJ39-",
        "colab_type": "text"
      },
      "source": [
        "###Grid Search"
      ]
    },
    {
      "cell_type": "code",
      "metadata": {
        "id": "bkf5FqjMvui9",
        "colab_type": "code",
        "colab": {}
      },
      "source": [
        "hyper_params = {'activation': ['tanh', 'rectifier', 'RectifierWithDropout'],\n",
        "                'hidden': [ [50,50], [50,50,50]],\n",
        "                'l1': [0, 1e-3, 1e-5],\n",
        "                'l2': [0, 1e-3, 1e-5]}\n",
        "# Set up DNN grid search\n",
        "# Add a seed for reproducibility\n",
        "dnn_rand_grid = H2OGridSearch(\n",
        "                    H2ODeepLearningEstimator(\n",
        "                        model_id = 'dnn_rand_grid', \n",
        "                        seed = 1234,\n",
        "                        epochs = 20,   \n",
        "                        nfolds = 5,\n",
        "                        fold_assignment = \"Modulo\",                \n",
        "                        keep_cross_validation_predictions = True),  \n",
        "                        hyper_params = hyper_params)\n",
        "# Use .train() to start the grid search\n",
        "dnn_rand_grid.train(covtype_X, covtype_y, training_frame = train, validation_frame = valid)\n",
        "dnn_rand_grid_sorted = dnn_rand_grid.get_grid(sort_by='mse', decreasing=False)\n",
        "# Extract the best model from random grid search\n",
        "best_dnn_model_id = dnn_rand_grid_sorted.model_ids[0]\n",
        "best_dnn_from_rand_grid = h2o.get_model(best_dnn_model_id)"
      ],
      "execution_count": null,
      "outputs": []
    },
    {
      "cell_type": "code",
      "metadata": {
        "id": "yzgrftj-Y014",
        "colab_type": "code",
        "colab": {}
      },
      "source": [
        "best_dnn_from_rand_grid.get_params"
      ],
      "execution_count": null,
      "outputs": []
    },
    {
      "cell_type": "code",
      "metadata": {
        "id": "9pn4RaP2wXJy",
        "colab_type": "code",
        "colab": {}
      },
      "source": [
        "bb=best_dnn_from_rand_grid.model_performance(test)"
      ],
      "execution_count": null,
      "outputs": []
    },
    {
      "cell_type": "code",
      "metadata": {
        "id": "EqGQ4UnYYv1B",
        "colab_type": "code",
        "colab": {}
      },
      "source": [
        "bb.accuracy()"
      ],
      "execution_count": null,
      "outputs": []
    },
    {
      "cell_type": "markdown",
      "metadata": {
        "id": "xoSQW2-gZ_Ow",
        "colab_type": "text"
      },
      "source": [
        "### H2O Model Evaluation"
      ]
    },
    {
      "cell_type": "code",
      "metadata": {
        "id": "FZ_ZpzDhhKVc",
        "colab_type": "code",
        "colab": {}
      },
      "source": [
        "h2o.save_model(model=model, force=True)"
      ],
      "execution_count": null,
      "outputs": []
    },
    {
      "cell_type": "code",
      "metadata": {
        "id": "B4LjI3PwhZNo",
        "colab_type": "code",
        "colab": {}
      },
      "source": [
        "saved_model = h2o.load_model('/content/DNNH2OModel')"
      ],
      "execution_count": null,
      "outputs": []
    },
    {
      "cell_type": "code",
      "metadata": {
        "id": "bz5O6BWMg8Un",
        "colab_type": "code",
        "colab": {}
      },
      "source": [
        "saved_model.get_params"
      ],
      "execution_count": null,
      "outputs": []
    },
    {
      "cell_type": "code",
      "metadata": {
        "id": "tTqPTrlN3OQX",
        "colab_type": "code",
        "colab": {}
      },
      "source": [
        "testPerformance=saved_model.model_performance(test)"
      ],
      "execution_count": null,
      "outputs": []
    },
    {
      "cell_type": "code",
      "metadata": {
        "id": "lpw-7jCQYyzS",
        "colab_type": "code",
        "colab": {}
      },
      "source": [
        "testPerformance.plot()"
      ],
      "execution_count": null,
      "outputs": []
    },
    {
      "cell_type": "code",
      "metadata": {
        "id": "TdN4X-jVD7SY",
        "colab_type": "code",
        "colab": {}
      },
      "source": [
        "testPerformance.accuracy()"
      ],
      "execution_count": null,
      "outputs": []
    },
    {
      "cell_type": "code",
      "metadata": {
        "id": "7oIk4w2kD_rk",
        "colab_type": "code",
        "colab": {}
      },
      "source": [
        "testPerformance.auc()"
      ],
      "execution_count": null,
      "outputs": []
    },
    {
      "cell_type": "code",
      "metadata": {
        "id": "lMFigj4FEJ7M",
        "colab_type": "code",
        "colab": {}
      },
      "source": [
        "testPerformance.confusion_matrix()"
      ],
      "execution_count": null,
      "outputs": []
    },
    {
      "cell_type": "markdown",
      "metadata": {
        "id": "wY6G7JD3s8nb",
        "colab_type": "text"
      },
      "source": [
        "## ANN"
      ]
    },
    {
      "cell_type": "code",
      "metadata": {
        "id": "aaEDzbjgMRvD",
        "colab_type": "code",
        "colab": {
          "base_uri": "https://localhost:8080/",
          "height": 171
        },
        "outputId": "4333e673-0485-490d-8c6b-25a13ba7cd1b"
      },
      "source": [
        "import keras\n",
        "from keras.models import Sequential\n",
        "from keras.layers import Dense, Conv2D, Dropout, Flatten,AveragePooling1D, AveragePooling2D,MaxPooling2D,GlobalMaxPool2D,Conv1D, Dropout, Flatten, MaxPooling1D,GlobalMaxPool1D\n",
        "from keras.models import model_from_json\n",
        "import tensorflow as tf\n",
        "import tensorflow.compat.v1 as tf\n",
        "tf.disable_v2_behavior()\n",
        "%load_ext tensorboard\n",
        "import datetime\n",
        "!rm -rf ./logs/ \n"
      ],
      "execution_count": null,
      "outputs": [
        {
          "output_type": "stream",
          "text": [
            "Using TensorFlow backend.\n"
          ],
          "name": "stderr"
        },
        {
          "output_type": "display_data",
          "data": {
            "text/html": [
              "<p style=\"color: red;\">\n",
              "The default version of TensorFlow in Colab will soon switch to TensorFlow 2.x.<br>\n",
              "We recommend you <a href=\"https://www.tensorflow.org/guide/migrate\" target=\"_blank\">upgrade</a> now \n",
              "or ensure your notebook will continue to use TensorFlow 1.x via the <code>%tensorflow_version 1.x</code> magic:\n",
              "<a href=\"https://colab.research.google.com/notebooks/tensorflow_version.ipynb\" target=\"_blank\">more info</a>.</p>\n"
            ],
            "text/plain": [
              "<IPython.core.display.HTML object>"
            ]
          },
          "metadata": {
            "tags": []
          }
        },
        {
          "output_type": "stream",
          "text": [
            "WARNING:tensorflow:From /usr/local/lib/python3.6/dist-packages/tensorflow_core/python/compat/v2_compat.py:68: disable_resource_variables (from tensorflow.python.ops.variable_scope) is deprecated and will be removed in a future version.\n",
            "Instructions for updating:\n",
            "non-resource variables are not supported in the long term\n"
          ],
          "name": "stderr"
        }
      ]
    },
    {
      "cell_type": "code",
      "metadata": {
        "id": "WxrqruLzPgvz",
        "colab_type": "code",
        "colab": {}
      },
      "source": [
        "from sklearn import preprocessing\n",
        "min_max_scaler = preprocessing.MinMaxScaler(feature_range=(0,1))\n",
        "X_scale = min_max_scaler.fit_transform(data)"
      ],
      "execution_count": null,
      "outputs": []
    },
    {
      "cell_type": "code",
      "metadata": {
        "id": "xDueXjIKPuTt",
        "colab_type": "code",
        "colab": {}
      },
      "source": [
        "X_train, X_test, y_train, y_test = train_test_split(X_scale, y, test_size=0.3)"
      ],
      "execution_count": null,
      "outputs": []
    },
    {
      "cell_type": "code",
      "metadata": {
        "id": "ZsBKIptQQBj6",
        "colab_type": "code",
        "colab": {}
      },
      "source": [
        "lable = {'NoParkinson':0, 'Parkinson':1}\n",
        "\n",
        "y_train = [lable[i] for i in y_train]\n",
        "y_test = [lable[i] for i in y_test]"
      ],
      "execution_count": null,
      "outputs": []
    },
    {
      "cell_type": "code",
      "metadata": {
        "id": "zLW2WC_StSrG",
        "colab_type": "code",
        "colab": {}
      },
      "source": [
        "import keras.backend as K\n",
        "K.clear_session()\n",
        "model = Sequential()\n",
        "model.add(Dense(42, activation='relu', input_shape=(X_train.shape[1],)))\n",
        "model.add(Dense(250, activation='relu'))\n",
        "model.add(Dense(350, activation='relu'))\n",
        "model.add(Dense(450, activation='relu'))\n",
        "model.add(Dense(1, activation='sigmoid'))\n",
        "model.compile(optimizer='sgd', loss='binary_crossentropy',metrics=['accuracy','binary_crossentropy'])"
      ],
      "execution_count": null,
      "outputs": []
    },
    {
      "cell_type": "code",
      "metadata": {
        "id": "cMQTjjLnv6ev",
        "colab_type": "code",
        "colab": {}
      },
      "source": [
        "logdir = os.path.join(\"logs\", datetime.datetime.now().strftime(\"%Y%m%d-%H%M%S\"))\n",
        "tensorboard_callback = keras.callbacks.TensorBoard(logdir, histogram_freq=1)"
      ],
      "execution_count": null,
      "outputs": []
    },
    {
      "cell_type": "code",
      "metadata": {
        "id": "IDhvukJ2J3fF",
        "colab_type": "code",
        "colab": {
          "base_uri": "https://localhost:8080/",
          "height": 1000
        },
        "outputId": "9fcef483-0e1a-4387-9909-ed84424226b4"
      },
      "source": [
        "model.fit(x=X_train,y= y_train, validation_split=0.3, callbacks=[tensorboard_callback],epochs=100)"
      ],
      "execution_count": null,
      "outputs": [
        {
          "output_type": "stream",
          "text": [
            "Train on 14985 samples, validate on 6423 samples\n",
            "Epoch 1/100\n",
            "14985/14985 [==============================] - 2s 118us/step - loss: 0.0919 - acc: 0.9672 - binary_crossentropy: 0.0919 - val_loss: 0.4895 - val_acc: 0.8622 - val_binary_crossentropy: 0.4895\n",
            "Epoch 2/100\n",
            "14985/14985 [==============================] - 2s 124us/step - loss: 0.1077 - acc: 0.9610 - binary_crossentropy: 0.1077 - val_loss: 0.4810 - val_acc: 0.8583 - val_binary_crossentropy: 0.4810\n",
            "Epoch 3/100\n",
            "14985/14985 [==============================] - 2s 123us/step - loss: 0.0813 - acc: 0.9726 - binary_crossentropy: 0.0813 - val_loss: 0.5736 - val_acc: 0.8501 - val_binary_crossentropy: 0.5736\n",
            "Epoch 4/100\n",
            "14985/14985 [==============================] - 2s 119us/step - loss: 0.0794 - acc: 0.9728 - binary_crossentropy: 0.0794 - val_loss: 1.4435 - val_acc: 0.7369 - val_binary_crossentropy: 1.4435\n",
            "Epoch 5/100\n",
            "14985/14985 [==============================] - 2s 121us/step - loss: 0.0904 - acc: 0.9662 - binary_crossentropy: 0.0904 - val_loss: 0.5229 - val_acc: 0.8616 - val_binary_crossentropy: 0.5229\n",
            "Epoch 6/100\n",
            "14985/14985 [==============================] - 2s 121us/step - loss: 0.0798 - acc: 0.9710 - binary_crossentropy: 0.0798 - val_loss: 0.5754 - val_acc: 0.8457 - val_binary_crossentropy: 0.5754\n",
            "Epoch 7/100\n",
            "14985/14985 [==============================] - 2s 120us/step - loss: 0.0666 - acc: 0.9753 - binary_crossentropy: 0.0666 - val_loss: 0.7005 - val_acc: 0.7978 - val_binary_crossentropy: 0.7005\n",
            "Epoch 8/100\n",
            "14985/14985 [==============================] - 2s 122us/step - loss: 0.0592 - acc: 0.9794 - binary_crossentropy: 0.0592 - val_loss: 0.5435 - val_acc: 0.8502 - val_binary_crossentropy: 0.5435\n",
            "Epoch 9/100\n",
            "14985/14985 [==============================] - 2s 122us/step - loss: 0.0854 - acc: 0.9684 - binary_crossentropy: 0.0854 - val_loss: 0.5755 - val_acc: 0.8480 - val_binary_crossentropy: 0.5755\n",
            "Epoch 10/100\n",
            "14985/14985 [==============================] - 2s 118us/step - loss: 0.0655 - acc: 0.9776 - binary_crossentropy: 0.0655 - val_loss: 0.5251 - val_acc: 0.8639 - val_binary_crossentropy: 0.5251\n",
            "Epoch 11/100\n",
            "14985/14985 [==============================] - 2s 125us/step - loss: 0.0591 - acc: 0.9792 - binary_crossentropy: 0.0591 - val_loss: 0.8384 - val_acc: 0.7814 - val_binary_crossentropy: 0.8384\n",
            "Epoch 12/100\n",
            "14985/14985 [==============================] - 2s 127us/step - loss: 0.0884 - acc: 0.9709 - binary_crossentropy: 0.0884 - val_loss: 0.5773 - val_acc: 0.8589 - val_binary_crossentropy: 0.5773\n",
            "Epoch 13/100\n",
            "14985/14985 [==============================] - 2s 125us/step - loss: 0.0754 - acc: 0.9742 - binary_crossentropy: 0.0754 - val_loss: 1.4171 - val_acc: 0.7110 - val_binary_crossentropy: 1.4171\n",
            "Epoch 14/100\n",
            "14985/14985 [==============================] - 2s 121us/step - loss: 0.0688 - acc: 0.9750 - binary_crossentropy: 0.0688 - val_loss: 0.5502 - val_acc: 0.8568 - val_binary_crossentropy: 0.5502\n",
            "Epoch 15/100\n",
            "14985/14985 [==============================] - 2s 121us/step - loss: 0.0828 - acc: 0.9726 - binary_crossentropy: 0.0828 - val_loss: 0.5192 - val_acc: 0.8642 - val_binary_crossentropy: 0.5192\n",
            "Epoch 16/100\n",
            "14985/14985 [==============================] - 2s 121us/step - loss: 0.0908 - acc: 0.9680 - binary_crossentropy: 0.0908 - val_loss: 0.5452 - val_acc: 0.8537 - val_binary_crossentropy: 0.5452\n",
            "Epoch 17/100\n",
            "14985/14985 [==============================] - 2s 128us/step - loss: 0.0587 - acc: 0.9785 - binary_crossentropy: 0.0587 - val_loss: 0.5861 - val_acc: 0.8381 - val_binary_crossentropy: 0.5861\n",
            "Epoch 18/100\n",
            "14985/14985 [==============================] - 2s 122us/step - loss: 0.0559 - acc: 0.9815 - binary_crossentropy: 0.0559 - val_loss: 0.4960 - val_acc: 0.8674 - val_binary_crossentropy: 0.4960\n",
            "Epoch 19/100\n",
            "14985/14985 [==============================] - 2s 124us/step - loss: 0.0584 - acc: 0.9814 - binary_crossentropy: 0.0584 - val_loss: 1.5874 - val_acc: 0.7409 - val_binary_crossentropy: 1.5874\n",
            "Epoch 20/100\n",
            "14985/14985 [==============================] - 2s 127us/step - loss: 0.1029 - acc: 0.9686 - binary_crossentropy: 0.1029 - val_loss: 0.5469 - val_acc: 0.8628 - val_binary_crossentropy: 0.5469\n",
            "Epoch 21/100\n",
            "14985/14985 [==============================] - 2s 130us/step - loss: 0.0627 - acc: 0.9770 - binary_crossentropy: 0.0627 - val_loss: 0.5336 - val_acc: 0.8566 - val_binary_crossentropy: 0.5336\n",
            "Epoch 22/100\n",
            "14985/14985 [==============================] - 2s 122us/step - loss: 0.0526 - acc: 0.9828 - binary_crossentropy: 0.0526 - val_loss: 0.5602 - val_acc: 0.8537 - val_binary_crossentropy: 0.5602\n",
            "Epoch 23/100\n",
            "14985/14985 [==============================] - 2s 118us/step - loss: 0.0670 - acc: 0.9780 - binary_crossentropy: 0.0670 - val_loss: 0.5853 - val_acc: 0.8522 - val_binary_crossentropy: 0.5853\n",
            "Epoch 24/100\n",
            "14985/14985 [==============================] - 2s 124us/step - loss: 0.0915 - acc: 0.9729 - binary_crossentropy: 0.0915 - val_loss: 0.7558 - val_acc: 0.8183 - val_binary_crossentropy: 0.7558\n",
            "Epoch 25/100\n",
            "14985/14985 [==============================] - 2s 122us/step - loss: 0.0538 - acc: 0.9828 - binary_crossentropy: 0.0538 - val_loss: 0.5321 - val_acc: 0.8638 - val_binary_crossentropy: 0.5321\n",
            "Epoch 26/100\n",
            "14985/14985 [==============================] - 2s 122us/step - loss: 0.0470 - acc: 0.9855 - binary_crossentropy: 0.0470 - val_loss: 0.6188 - val_acc: 0.8591 - val_binary_crossentropy: 0.6188\n",
            "Epoch 27/100\n",
            "14985/14985 [==============================] - 2s 124us/step - loss: 0.0577 - acc: 0.9809 - binary_crossentropy: 0.0577 - val_loss: 0.6458 - val_acc: 0.8420 - val_binary_crossentropy: 0.6458\n",
            "Epoch 28/100\n",
            "14985/14985 [==============================] - 3s 182us/step - loss: 0.0472 - acc: 0.9851 - binary_crossentropy: 0.0472 - val_loss: 0.5379 - val_acc: 0.8627 - val_binary_crossentropy: 0.5379\n",
            "Epoch 29/100\n",
            "14985/14985 [==============================] - 2s 120us/step - loss: 0.0675 - acc: 0.9762 - binary_crossentropy: 0.0675 - val_loss: 1.3396 - val_acc: 0.7291 - val_binary_crossentropy: 1.3396\n",
            "Epoch 30/100\n",
            "14985/14985 [==============================] - 2s 124us/step - loss: 0.0962 - acc: 0.9742 - binary_crossentropy: 0.0962 - val_loss: 0.5405 - val_acc: 0.8692 - val_binary_crossentropy: 0.5405\n",
            "Epoch 31/100\n",
            "14985/14985 [==============================] - 2s 128us/step - loss: 0.0636 - acc: 0.9820 - binary_crossentropy: 0.0636 - val_loss: 0.7578 - val_acc: 0.8379 - val_binary_crossentropy: 0.7578\n",
            "Epoch 32/100\n",
            "14985/14985 [==============================] - 2s 124us/step - loss: 0.0499 - acc: 0.9838 - binary_crossentropy: 0.0499 - val_loss: 0.5271 - val_acc: 0.8706 - val_binary_crossentropy: 0.5271\n",
            "Epoch 33/100\n",
            "14985/14985 [==============================] - 2s 120us/step - loss: 0.0406 - acc: 0.9877 - binary_crossentropy: 0.0406 - val_loss: 0.5455 - val_acc: 0.8642 - val_binary_crossentropy: 0.5455\n",
            "Epoch 34/100\n",
            "14985/14985 [==============================] - 2s 123us/step - loss: 0.0712 - acc: 0.9754 - binary_crossentropy: 0.0712 - val_loss: 0.5577 - val_acc: 0.8602 - val_binary_crossentropy: 0.5577\n",
            "Epoch 35/100\n",
            "14985/14985 [==============================] - 2s 123us/step - loss: 0.0429 - acc: 0.9873 - binary_crossentropy: 0.0429 - val_loss: 0.5462 - val_acc: 0.8586 - val_binary_crossentropy: 0.5462\n",
            "Epoch 36/100\n",
            "14985/14985 [==============================] - 2s 124us/step - loss: 0.0531 - acc: 0.9818 - binary_crossentropy: 0.0531 - val_loss: 0.5483 - val_acc: 0.8638 - val_binary_crossentropy: 0.5483\n",
            "Epoch 37/100\n",
            "14985/14985 [==============================] - 2s 120us/step - loss: 0.0498 - acc: 0.9837 - binary_crossentropy: 0.0498 - val_loss: 0.5999 - val_acc: 0.8561 - val_binary_crossentropy: 0.5999\n",
            "Epoch 38/100\n",
            "14985/14985 [==============================] - 2s 126us/step - loss: 0.0622 - acc: 0.9792 - binary_crossentropy: 0.0622 - val_loss: 0.8844 - val_acc: 0.8200 - val_binary_crossentropy: 0.8844\n",
            "Epoch 39/100\n",
            "14985/14985 [==============================] - 2s 122us/step - loss: 0.0916 - acc: 0.9725 - binary_crossentropy: 0.0916 - val_loss: 2.6393 - val_acc: 0.6882 - val_binary_crossentropy: 2.6393\n",
            "Epoch 40/100\n",
            "14985/14985 [==============================] - 2s 123us/step - loss: 0.0799 - acc: 0.9731 - binary_crossentropy: 0.0799 - val_loss: 0.5530 - val_acc: 0.8639 - val_binary_crossentropy: 0.5530\n",
            "Epoch 41/100\n",
            "14985/14985 [==============================] - 2s 121us/step - loss: 0.0513 - acc: 0.9846 - binary_crossentropy: 0.0513 - val_loss: 0.8813 - val_acc: 0.8023 - val_binary_crossentropy: 0.8813\n",
            "Epoch 42/100\n",
            "14985/14985 [==============================] - 2s 123us/step - loss: 0.0334 - acc: 0.9920 - binary_crossentropy: 0.0334 - val_loss: 0.5754 - val_acc: 0.8594 - val_binary_crossentropy: 0.5754\n",
            "Epoch 43/100\n",
            "14985/14985 [==============================] - 2s 129us/step - loss: 0.0660 - acc: 0.9814 - binary_crossentropy: 0.0660 - val_loss: 0.5394 - val_acc: 0.8653 - val_binary_crossentropy: 0.5394\n",
            "Epoch 44/100\n",
            "14985/14985 [==============================] - 2s 121us/step - loss: 0.0330 - acc: 0.9917 - binary_crossentropy: 0.0330 - val_loss: 0.5810 - val_acc: 0.8566 - val_binary_crossentropy: 0.5810\n",
            "Epoch 45/100\n",
            "14985/14985 [==============================] - 2s 126us/step - loss: 0.0289 - acc: 0.9931 - binary_crossentropy: 0.0289 - val_loss: 0.7252 - val_acc: 0.8262 - val_binary_crossentropy: 0.7252\n",
            "Epoch 46/100\n",
            "14985/14985 [==============================] - 2s 120us/step - loss: 0.0975 - acc: 0.9781 - binary_crossentropy: 0.0975 - val_loss: 0.5794 - val_acc: 0.8586 - val_binary_crossentropy: 0.5794\n",
            "Epoch 47/100\n",
            "14985/14985 [==============================] - 2s 122us/step - loss: 0.0424 - acc: 0.9867 - binary_crossentropy: 0.0424 - val_loss: 0.5709 - val_acc: 0.8650 - val_binary_crossentropy: 0.5709\n",
            "Epoch 48/100\n",
            "14985/14985 [==============================] - 2s 120us/step - loss: 0.0279 - acc: 0.9933 - binary_crossentropy: 0.0279 - val_loss: 0.5700 - val_acc: 0.8603 - val_binary_crossentropy: 0.5700\n",
            "Epoch 49/100\n",
            "14985/14985 [==============================] - 2s 127us/step - loss: 0.0307 - acc: 0.9923 - binary_crossentropy: 0.0307 - val_loss: 0.6241 - val_acc: 0.8616 - val_binary_crossentropy: 0.6241\n",
            "Epoch 50/100\n",
            "14985/14985 [==============================] - 2s 125us/step - loss: 0.0267 - acc: 0.9940 - binary_crossentropy: 0.0267 - val_loss: 0.5908 - val_acc: 0.8647 - val_binary_crossentropy: 0.5908\n",
            "Epoch 51/100\n",
            "14985/14985 [==============================] - 2s 123us/step - loss: 0.0484 - acc: 0.9875 - binary_crossentropy: 0.0484 - val_loss: 0.5978 - val_acc: 0.8667 - val_binary_crossentropy: 0.5978\n",
            "Epoch 52/100\n",
            "14985/14985 [==============================] - 2s 120us/step - loss: 0.0885 - acc: 0.9690 - binary_crossentropy: 0.0885 - val_loss: 0.5803 - val_acc: 0.8622 - val_binary_crossentropy: 0.5803\n",
            "Epoch 53/100\n",
            "14985/14985 [==============================] - 2s 125us/step - loss: 0.1567 - acc: 0.9606 - binary_crossentropy: 0.1567 - val_loss: 0.6166 - val_acc: 0.8555 - val_binary_crossentropy: 0.6166\n",
            "Epoch 54/100\n",
            "14985/14985 [==============================] - 2s 127us/step - loss: 0.0352 - acc: 0.9906 - binary_crossentropy: 0.0352 - val_loss: 0.5523 - val_acc: 0.8681 - val_binary_crossentropy: 0.5523\n",
            "Epoch 55/100\n",
            "14985/14985 [==============================] - 2s 121us/step - loss: 0.0256 - acc: 0.9947 - binary_crossentropy: 0.0256 - val_loss: 0.5516 - val_acc: 0.8650 - val_binary_crossentropy: 0.5516\n",
            "Epoch 56/100\n",
            "14985/14985 [==============================] - 2s 120us/step - loss: 0.0227 - acc: 0.9953 - binary_crossentropy: 0.0227 - val_loss: 0.6080 - val_acc: 0.8588 - val_binary_crossentropy: 0.6080\n",
            "Epoch 57/100\n",
            "14985/14985 [==============================] - 2s 123us/step - loss: 0.0321 - acc: 0.9911 - binary_crossentropy: 0.0321 - val_loss: 0.5802 - val_acc: 0.8666 - val_binary_crossentropy: 0.5802\n",
            "Epoch 58/100\n",
            "14985/14985 [==============================] - 2s 121us/step - loss: 0.0192 - acc: 0.9974 - binary_crossentropy: 0.0192 - val_loss: 0.5666 - val_acc: 0.8635 - val_binary_crossentropy: 0.5666\n",
            "Epoch 59/100\n",
            "14985/14985 [==============================] - 2s 119us/step - loss: 0.0225 - acc: 0.9943 - binary_crossentropy: 0.0225 - val_loss: 0.5938 - val_acc: 0.8650 - val_binary_crossentropy: 0.5938\n",
            "Epoch 60/100\n",
            "14985/14985 [==============================] - 2s 124us/step - loss: 0.0207 - acc: 0.9961 - binary_crossentropy: 0.0207 - val_loss: 0.5997 - val_acc: 0.8647 - val_binary_crossentropy: 0.5997\n",
            "Epoch 61/100\n",
            "14985/14985 [==============================] - 2s 122us/step - loss: 0.0190 - acc: 0.9965 - binary_crossentropy: 0.0190 - val_loss: 0.5939 - val_acc: 0.8670 - val_binary_crossentropy: 0.5939\n",
            "Epoch 62/100\n",
            "14985/14985 [==============================] - 2s 120us/step - loss: 0.0176 - acc: 0.9976 - binary_crossentropy: 0.0176 - val_loss: 0.6044 - val_acc: 0.8677 - val_binary_crossentropy: 0.6044\n",
            "Epoch 63/100\n",
            "14985/14985 [==============================] - 2s 126us/step - loss: 0.1361 - acc: 0.9648 - binary_crossentropy: 0.1361 - val_loss: 1.0739 - val_acc: 0.8023 - val_binary_crossentropy: 1.0739\n",
            "Epoch 64/100\n",
            "14985/14985 [==============================] - 2s 125us/step - loss: 0.0711 - acc: 0.9760 - binary_crossentropy: 0.0711 - val_loss: 0.6296 - val_acc: 0.8614 - val_binary_crossentropy: 0.6296\n",
            "Epoch 65/100\n",
            "14985/14985 [==============================] - 2s 126us/step - loss: 0.1072 - acc: 0.9661 - binary_crossentropy: 0.1072 - val_loss: 1.2457 - val_acc: 0.7742 - val_binary_crossentropy: 1.2457\n",
            "Epoch 66/100\n",
            "14985/14985 [==============================] - 2s 121us/step - loss: 0.0566 - acc: 0.9797 - binary_crossentropy: 0.0566 - val_loss: 0.5867 - val_acc: 0.8569 - val_binary_crossentropy: 0.5867\n",
            "Epoch 67/100\n",
            "14985/14985 [==============================] - 2s 125us/step - loss: 0.0251 - acc: 0.9943 - binary_crossentropy: 0.0251 - val_loss: 0.7068 - val_acc: 0.8314 - val_binary_crossentropy: 0.7068\n",
            "Epoch 68/100\n",
            "14985/14985 [==============================] - 2s 121us/step - loss: 0.0190 - acc: 0.9967 - binary_crossentropy: 0.0190 - val_loss: 0.5829 - val_acc: 0.8674 - val_binary_crossentropy: 0.5829\n",
            "Epoch 69/100\n",
            "14985/14985 [==============================] - 2s 124us/step - loss: 0.0156 - acc: 0.9982 - binary_crossentropy: 0.0156 - val_loss: 0.5978 - val_acc: 0.8642 - val_binary_crossentropy: 0.5978\n",
            "Epoch 70/100\n",
            "14985/14985 [==============================] - 2s 128us/step - loss: 0.0153 - acc: 0.9983 - binary_crossentropy: 0.0153 - val_loss: 0.6091 - val_acc: 0.8691 - val_binary_crossentropy: 0.6091\n",
            "Epoch 71/100\n",
            "14985/14985 [==============================] - 2s 122us/step - loss: 0.0173 - acc: 0.9971 - binary_crossentropy: 0.0173 - val_loss: 0.6746 - val_acc: 0.8589 - val_binary_crossentropy: 0.6746\n",
            "Epoch 72/100\n",
            "14985/14985 [==============================] - 2s 128us/step - loss: 0.1111 - acc: 0.9735 - binary_crossentropy: 0.1111 - val_loss: 0.6133 - val_acc: 0.8599 - val_binary_crossentropy: 0.6133\n",
            "Epoch 73/100\n",
            "14985/14985 [==============================] - 2s 121us/step - loss: 0.0226 - acc: 0.9953 - binary_crossentropy: 0.0226 - val_loss: 0.5979 - val_acc: 0.8688 - val_binary_crossentropy: 0.5979\n",
            "Epoch 74/100\n",
            "14985/14985 [==============================] - 2s 125us/step - loss: 0.0153 - acc: 0.9981 - binary_crossentropy: 0.0153 - val_loss: 0.9250 - val_acc: 0.8255 - val_binary_crossentropy: 0.9250\n",
            "Epoch 75/100\n",
            "14985/14985 [==============================] - 2s 123us/step - loss: 0.0310 - acc: 0.9920 - binary_crossentropy: 0.0310 - val_loss: 0.6183 - val_acc: 0.8591 - val_binary_crossentropy: 0.6183\n",
            "Epoch 76/100\n",
            "14985/14985 [==============================] - 2s 125us/step - loss: 0.0144 - acc: 0.9981 - binary_crossentropy: 0.0144 - val_loss: 0.6174 - val_acc: 0.8639 - val_binary_crossentropy: 0.6174\n",
            "Epoch 77/100\n",
            "14985/14985 [==============================] - 2s 126us/step - loss: 0.0130 - acc: 0.9987 - binary_crossentropy: 0.0130 - val_loss: 0.6191 - val_acc: 0.8639 - val_binary_crossentropy: 0.6191\n",
            "Epoch 78/100\n",
            "14985/14985 [==============================] - 2s 122us/step - loss: 0.0131 - acc: 0.9981 - binary_crossentropy: 0.0131 - val_loss: 0.6298 - val_acc: 0.8670 - val_binary_crossentropy: 0.6298\n",
            "Epoch 79/100\n",
            "14985/14985 [==============================] - 2s 126us/step - loss: 0.0115 - acc: 0.9991 - binary_crossentropy: 0.0115 - val_loss: 0.6239 - val_acc: 0.8656 - val_binary_crossentropy: 0.6239\n",
            "Epoch 80/100\n",
            "14985/14985 [==============================] - 2s 123us/step - loss: 0.0116 - acc: 0.9989 - binary_crossentropy: 0.0116 - val_loss: 0.6392 - val_acc: 0.8692 - val_binary_crossentropy: 0.6392\n",
            "Epoch 81/100\n",
            "14985/14985 [==============================] - 2s 129us/step - loss: 0.0099 - acc: 0.9991 - binary_crossentropy: 0.0099 - val_loss: 0.6765 - val_acc: 0.8569 - val_binary_crossentropy: 0.6765\n",
            "Epoch 82/100\n",
            "14985/14985 [==============================] - 2s 125us/step - loss: 0.0121 - acc: 0.9983 - binary_crossentropy: 0.0121 - val_loss: 0.6542 - val_acc: 0.8672 - val_binary_crossentropy: 0.6542\n",
            "Epoch 83/100\n",
            "14985/14985 [==============================] - 2s 129us/step - loss: 0.0097 - acc: 0.9994 - binary_crossentropy: 0.0097 - val_loss: 0.6874 - val_acc: 0.8505 - val_binary_crossentropy: 0.6874\n",
            "Epoch 84/100\n",
            "14985/14985 [==============================] - 2s 121us/step - loss: 0.0120 - acc: 0.9981 - binary_crossentropy: 0.0120 - val_loss: 0.6609 - val_acc: 0.8669 - val_binary_crossentropy: 0.6609\n",
            "Epoch 85/100\n",
            "14985/14985 [==============================] - 2s 121us/step - loss: 0.1526 - acc: 0.9688 - binary_crossentropy: 0.1526 - val_loss: 0.7850 - val_acc: 0.8359 - val_binary_crossentropy: 0.7850\n",
            "Epoch 86/100\n",
            "14985/14985 [==============================] - 2s 123us/step - loss: 0.0455 - acc: 0.9850 - binary_crossentropy: 0.0455 - val_loss: 0.6724 - val_acc: 0.8608 - val_binary_crossentropy: 0.6724\n",
            "Epoch 87/100\n",
            "14985/14985 [==============================] - 2s 125us/step - loss: 0.0151 - acc: 0.9977 - binary_crossentropy: 0.0151 - val_loss: 0.6196 - val_acc: 0.8669 - val_binary_crossentropy: 0.6196\n",
            "Epoch 88/100\n",
            "14985/14985 [==============================] - 2s 123us/step - loss: 0.0107 - acc: 0.9992 - binary_crossentropy: 0.0107 - val_loss: 0.6402 - val_acc: 0.8675 - val_binary_crossentropy: 0.6402\n",
            "Epoch 89/100\n",
            "14985/14985 [==============================] - 2s 129us/step - loss: 0.0096 - acc: 0.9994 - binary_crossentropy: 0.0096 - val_loss: 0.6697 - val_acc: 0.8672 - val_binary_crossentropy: 0.6697\n",
            "Epoch 90/100\n",
            "14985/14985 [==============================] - 2s 128us/step - loss: 0.0089 - acc: 0.9993 - binary_crossentropy: 0.0089 - val_loss: 0.6578 - val_acc: 0.8650 - val_binary_crossentropy: 0.6578\n",
            "Epoch 91/100\n",
            "14985/14985 [==============================] - 2s 123us/step - loss: 0.0083 - acc: 0.9995 - binary_crossentropy: 0.0083 - val_loss: 0.6447 - val_acc: 0.8663 - val_binary_crossentropy: 0.6447\n",
            "Epoch 92/100\n",
            "14985/14985 [==============================] - 2s 122us/step - loss: 0.0080 - acc: 0.9994 - binary_crossentropy: 0.0080 - val_loss: 0.6564 - val_acc: 0.8666 - val_binary_crossentropy: 0.6564\n",
            "Epoch 93/100\n",
            "14985/14985 [==============================] - 2s 127us/step - loss: 0.0080 - acc: 0.9994 - binary_crossentropy: 0.0080 - val_loss: 0.6653 - val_acc: 0.8628 - val_binary_crossentropy: 0.6653\n",
            "Epoch 94/100\n",
            "14985/14985 [==============================] - 2s 121us/step - loss: 0.0070 - acc: 0.9997 - binary_crossentropy: 0.0070 - val_loss: 0.6605 - val_acc: 0.8669 - val_binary_crossentropy: 0.6605\n",
            "Epoch 95/100\n",
            "14985/14985 [==============================] - 2s 121us/step - loss: 0.0070 - acc: 0.9997 - binary_crossentropy: 0.0070 - val_loss: 0.6662 - val_acc: 0.8650 - val_binary_crossentropy: 0.6662\n",
            "Epoch 96/100\n",
            "14985/14985 [==============================] - 2s 125us/step - loss: 0.0067 - acc: 0.9997 - binary_crossentropy: 0.0067 - val_loss: 0.6715 - val_acc: 0.8661 - val_binary_crossentropy: 0.6715\n",
            "Epoch 97/100\n",
            "14985/14985 [==============================] - 2s 129us/step - loss: 0.0066 - acc: 0.9997 - binary_crossentropy: 0.0066 - val_loss: 0.6698 - val_acc: 0.8694 - val_binary_crossentropy: 0.6698\n",
            "Epoch 98/100\n",
            "14985/14985 [==============================] - 2s 121us/step - loss: 0.0062 - acc: 0.9997 - binary_crossentropy: 0.0062 - val_loss: 0.6693 - val_acc: 0.8661 - val_binary_crossentropy: 0.6693\n",
            "Epoch 99/100\n",
            "14985/14985 [==============================] - 2s 121us/step - loss: 0.0059 - acc: 0.9997 - binary_crossentropy: 0.0059 - val_loss: 0.6794 - val_acc: 0.8672 - val_binary_crossentropy: 0.6794\n",
            "Epoch 100/100\n",
            "14985/14985 [==============================] - 2s 133us/step - loss: 0.0062 - acc: 0.9998 - binary_crossentropy: 0.0062 - val_loss: 0.6841 - val_acc: 0.8638 - val_binary_crossentropy: 0.6841\n"
          ],
          "name": "stdout"
        },
        {
          "output_type": "execute_result",
          "data": {
            "text/plain": [
              "<keras.callbacks.History at 0x7f142a3fd908>"
            ]
          },
          "metadata": {
            "tags": []
          },
          "execution_count": 60
        }
      ]
    },
    {
      "cell_type": "code",
      "metadata": {
        "id": "Gl9s0wc9zycR",
        "colab_type": "code",
        "colab": {}
      },
      "source": [
        "test_y_predictions = model.predict_classes(X_test)"
      ],
      "execution_count": null,
      "outputs": []
    },
    {
      "cell_type": "code",
      "metadata": {
        "id": "5CDO52S4w7lq",
        "colab_type": "code",
        "colab": {
          "base_uri": "https://localhost:8080/",
          "height": 35
        },
        "outputId": "674fbe56-fef5-4c48-81ab-581b5e441fa5"
      },
      "source": [
        "accuracy_score(y_test, test_y_predictions)"
      ],
      "execution_count": null,
      "outputs": [
        {
          "output_type": "execute_result",
          "data": {
            "text/plain": [
              "0.8690061028770706"
            ]
          },
          "metadata": {
            "tags": []
          },
          "execution_count": 62
        }
      ]
    },
    {
      "cell_type": "code",
      "metadata": {
        "id": "XuPsCZr5cuSU",
        "colab_type": "code",
        "colab": {
          "base_uri": "https://localhost:8080/",
          "height": 52
        },
        "outputId": "f5869fcc-5cca-434f-a90d-5c086e74479d"
      },
      "source": [
        "confusion_matrix(y_test,test_y_predictions)"
      ],
      "execution_count": null,
      "outputs": [
        {
          "output_type": "execute_result",
          "data": {
            "text/plain": [
              "array([[4057,  678],\n",
              "       [ 524, 3917]])"
            ]
          },
          "metadata": {
            "tags": []
          },
          "execution_count": 63
        }
      ]
    },
    {
      "cell_type": "code",
      "metadata": {
        "id": "7pjOwdEPdEIn",
        "colab_type": "code",
        "colab": {
          "base_uri": "https://localhost:8080/",
          "height": 279
        },
        "outputId": "ca103878-560c-4335-d93a-8293dbef33ad"
      },
      "source": [
        "auc=roc_auc_score(y_test, model.predict(X_test))\n",
        "lr_fpr, lr_tpr, _ = roc_curve(y_test,  model.predict(X_test))\n",
        "plt.plot(lr_fpr, lr_tpr, marker='', label='Artificial Neural Network')\n",
        "plt.text(0.45, 0.5, 'AUC : '+str(np.round(auc,4)))\n",
        "plt.xlabel('True Positive Rate')\n",
        "plt.ylabel('False Positive Rate')\n",
        "plt.legend()\n",
        "plt.show()"
      ],
      "execution_count": null,
      "outputs": [
        {
          "output_type": "display_data",
          "data": {
            "image/png": "[encoded data removed]",
            "text/plain": [
              "<Figure size 432x288 with 1 Axes>"
            ]
          },
          "metadata": {
            "tags": []
          }
        }
      ]
    },
    {
      "cell_type": "code",
      "metadata": {
        "id": "IcSAv0LBVCrs",
        "colab_type": "code",
        "colab": {}
      },
      "source": [
        "result_table = result_table.append({'classifiers':'Artificial Neural Network',\n",
        "                                        'fpr':lr_fpr, \n",
        "                                        'tpr':lr_tpr, \n",
        "                                        'auc':auc}, ignore_index=True)"
      ],
      "execution_count": null,
      "outputs": []
    },
    {
      "cell_type": "code",
      "metadata": {
        "id": "nGg2_M2iBd0u",
        "colab_type": "code",
        "colab": {}
      },
      "source": [
        "model.save('ANNModel.h5')"
      ],
      "execution_count": null,
      "outputs": []
    },
    {
      "cell_type": "code",
      "metadata": {
        "id": "Uu7DzOsM7CYb",
        "colab_type": "code",
        "colab": {}
      },
      "source": [
        "%tensorboard --logdir logs"
      ],
      "execution_count": null,
      "outputs": []
    },
    {
      "cell_type": "markdown",
      "metadata": {
        "id": "DE0Caw07i72M",
        "colab_type": "text"
      },
      "source": [
        "##CNN On Mel Scale images"
      ]
    },
    {
      "cell_type": "markdown",
      "metadata": {
        "id": "ZmpLOI-_mw1a",
        "colab_type": "text"
      },
      "source": [
        "**Model Building**"
      ]
    },
    {
      "cell_type": "code",
      "metadata": {
        "id": "OrHnk1nrCMiH",
        "colab_type": "code",
        "colab": {}
      },
      "source": [
        ""
      ],
      "execution_count": null,
      "outputs": []
    },
    {
      "cell_type": "code",
      "metadata": {
        "colab_type": "code",
        "id": "X4rfZXbrCM9t",
        "colab": {}
      },
      "source": [
        "from sklearn import preprocessing\n",
        "min_max_scaler = preprocessing.MinMaxScaler(feature_range=(0,1))\n",
        "X_scale = min_max_scaler.fit_transform(data)"
      ],
      "execution_count": null,
      "outputs": []
    },
    {
      "cell_type": "code",
      "metadata": {
        "colab_type": "code",
        "id": "V9qdUN6aCM92",
        "colab": {}
      },
      "source": [
        "X_train, X_test, y_train, y_test = train_test_split(X_scale, y, test_size=0.3)"
      ],
      "execution_count": null,
      "outputs": []
    },
    {
      "cell_type": "code",
      "metadata": {
        "colab_type": "code",
        "id": "R2rO1tdsCM97",
        "colab": {}
      },
      "source": [
        "lable = {'NoParkinson':0, 'Parkinson':1}\n",
        "\n",
        "y_train = [lable[i] for i in y_train]\n",
        "y_test = [lable[i] for i in y_test]"
      ],
      "execution_count": null,
      "outputs": []
    },
    {
      "cell_type": "code",
      "metadata": {
        "id": "uv3zKhur1wKi",
        "colab_type": "code",
        "colab": {}
      },
      "source": [
        "X_train=X_train.reshape(X_train.shape[0], 42,1)\n",
        "X_test=X_test.reshape(X_test.shape[0], 42,1)"
      ],
      "execution_count": null,
      "outputs": []
    },
    {
      "cell_type": "code",
      "metadata": {
        "id": "jnS31EStRaQD",
        "colab_type": "code",
        "colab": {}
      },
      "source": [
        "model = Sequential()\n",
        "model.add(Conv1D(32, kernel_size=(10), activation='tanh', input_shape=(42,1)))\n",
        "model.add(Conv1D(64, kernel_size=(10), activation='tanh'))\n",
        "model.add(AveragePooling1D(pool_size=(3)))\n",
        "\n",
        "\n",
        "model.add(Flatten())\n",
        "model.add(Dense(150, activation='tanh'))\n",
        "\n",
        "model.add(Dense(1, activation='sigmoid'))"
      ],
      "execution_count": null,
      "outputs": []
    },
    {
      "cell_type": "code",
      "metadata": {
        "id": "RhkS4z-lkCfD",
        "colab_type": "code",
        "colab": {
          "base_uri": "https://localhost:8080/",
          "height": 364
        },
        "outputId": "7475fa55-f6f5-4c7f-ede1-6a2489613d01"
      },
      "source": [
        "model.summary()"
      ],
      "execution_count": null,
      "outputs": [
        {
          "output_type": "stream",
          "text": [
            "Model: \"sequential_2\"\n",
            "_________________________________________________________________\n",
            "Layer (type)                 Output Shape              Param #   \n",
            "=================================================================\n",
            "conv1d_1 (Conv1D)            (None, 33, 32)            352       \n",
            "_________________________________________________________________\n",
            "conv1d_2 (Conv1D)            (None, 24, 64)            20544     \n",
            "_________________________________________________________________\n",
            "average_pooling1d_1 (Average (None, 8, 64)             0         \n",
            "_________________________________________________________________\n",
            "flatten_1 (Flatten)          (None, 512)               0         \n",
            "_________________________________________________________________\n",
            "dense_6 (Dense)              (None, 150)               76950     \n",
            "_________________________________________________________________\n",
            "dense_7 (Dense)              (None, 1)                 151       \n",
            "=================================================================\n",
            "Total params: 97,997\n",
            "Trainable params: 97,997\n",
            "Non-trainable params: 0\n",
            "_________________________________________________________________\n"
          ],
          "name": "stdout"
        }
      ]
    },
    {
      "cell_type": "code",
      "metadata": {
        "id": "WL78LnHQkIMe",
        "colab_type": "code",
        "colab": {}
      },
      "source": [
        "model.compile(loss='binary_crossentropy',optimizer='sgd',metrics=['accuracy'])"
      ],
      "execution_count": null,
      "outputs": []
    },
    {
      "cell_type": "code",
      "metadata": {
        "id": "6gFrpj6BkU0y",
        "colab_type": "code",
        "colab": {
          "base_uri": "https://localhost:8080/",
          "height": 591
        },
        "outputId": "82d19b60-98ae-4879-cbd8-d5fedebe8e5c"
      },
      "source": [
        "model.fit(X_train, y_train, epochs=400, validation_split=0.2)"
      ],
      "execution_count": null,
      "outputs": [
        {
          "output_type": "stream",
          "text": [
            "Train on 17126 samples, validate on 4282 samples\n",
            "Epoch 1/400\n",
            "17126/17126 [==============================] - 2s 119us/sample - loss: 0.2674 - acc: 0.8914 - val_loss: 0.3862 - val_acc: 0.8356\n",
            "Epoch 2/400\n",
            "17126/17126 [==============================] - 2s 107us/sample - loss: 0.2661 - acc: 0.8937 - val_loss: 0.4995 - val_acc: 0.8001\n",
            "Epoch 3/400\n",
            "17126/17126 [==============================] - 2s 118us/sample - loss: 0.2647 - acc: 0.8911 - val_loss: 0.4281 - val_acc: 0.8272\n",
            "Epoch 4/400\n",
            "17126/17126 [==============================] - 2s 107us/sample - loss: 0.2647 - acc: 0.8910 - val_loss: 0.3533 - val_acc: 0.8515\n",
            "Epoch 5/400\n",
            "17126/17126 [==============================] - 2s 108us/sample - loss: 0.2648 - acc: 0.8927 - val_loss: 0.5596 - val_acc: 0.7536\n",
            "Epoch 6/400\n",
            "17126/17126 [==============================] - 2s 110us/sample - loss: 0.2638 - acc: 0.8919 - val_loss: 0.8622 - val_acc: 0.7022\n",
            "Epoch 7/400\n",
            " 9856/17126 [================>.............] - ETA: 0s - loss: 0.2600 - acc: 0.8945"
          ],
          "name": "stdout"
        },
        {
          "output_type": "error",
          "ename": "KeyboardInterrupt",
          "evalue": "ignored",
          "traceback": [
            "\u001b[0;31m---------------------------------------------------------------------------\u001b[0m",
            "\u001b[0;31mKeyboardInterrupt\u001b[0m                         Traceback (most recent call last)",
            "\u001b[0;32m<ipython-input-149-18b343607f80>\u001b[0m in \u001b[0;36m<module>\u001b[0;34m()\u001b[0m\n\u001b[0;32m----> 1\u001b[0;31m \u001b[0mmodel\u001b[0m\u001b[0;34m.\u001b[0m\u001b[0mfit\u001b[0m\u001b[0;34m(\u001b[0m\u001b[0mX_train\u001b[0m\u001b[0;34m,\u001b[0m \u001b[0my_train\u001b[0m\u001b[0;34m,\u001b[0m \u001b[0mepochs\u001b[0m\u001b[0;34m=\u001b[0m\u001b[0;36m400\u001b[0m\u001b[0;34m,\u001b[0m \u001b[0mvalidation_split\u001b[0m\u001b[0;34m=\u001b[0m\u001b[0;36m0.2\u001b[0m\u001b[0;34m)\u001b[0m\u001b[0;34m\u001b[0m\u001b[0;34m\u001b[0m\u001b[0m\n\u001b[0m",
            "\u001b[0;32m/usr/local/lib/python3.6/dist-packages/tensorflow_core/python/keras/engine/training.py\u001b[0m in \u001b[0;36mfit\u001b[0;34m(self, x, y, batch_size, epochs, verbose, callbacks, validation_split, validation_data, shuffle, class_weight, sample_weight, initial_epoch, steps_per_epoch, validation_steps, validation_freq, max_queue_size, workers, use_multiprocessing, **kwargs)\u001b[0m\n\u001b[1;32m    725\u001b[0m         \u001b[0mmax_queue_size\u001b[0m\u001b[0;34m=\u001b[0m\u001b[0mmax_queue_size\u001b[0m\u001b[0;34m,\u001b[0m\u001b[0;34m\u001b[0m\u001b[0;34m\u001b[0m\u001b[0m\n\u001b[1;32m    726\u001b[0m         \u001b[0mworkers\u001b[0m\u001b[0;34m=\u001b[0m\u001b[0mworkers\u001b[0m\u001b[0;34m,\u001b[0m\u001b[0;34m\u001b[0m\u001b[0;34m\u001b[0m\u001b[0m\n\u001b[0;32m--> 727\u001b[0;31m         use_multiprocessing=use_multiprocessing)\n\u001b[0m\u001b[1;32m    728\u001b[0m \u001b[0;34m\u001b[0m\u001b[0m\n\u001b[1;32m    729\u001b[0m   def evaluate(self,\n",
            "\u001b[0;32m/usr/local/lib/python3.6/dist-packages/tensorflow_core/python/keras/engine/training_arrays.py\u001b[0m in \u001b[0;36mfit\u001b[0;34m(self, model, x, y, batch_size, epochs, verbose, callbacks, validation_split, validation_data, shuffle, class_weight, sample_weight, initial_epoch, steps_per_epoch, validation_steps, validation_freq, **kwargs)\u001b[0m\n\u001b[1;32m    673\u001b[0m         \u001b[0mvalidation_steps\u001b[0m\u001b[0;34m=\u001b[0m\u001b[0mvalidation_steps\u001b[0m\u001b[0;34m,\u001b[0m\u001b[0;34m\u001b[0m\u001b[0;34m\u001b[0m\u001b[0m\n\u001b[1;32m    674\u001b[0m         \u001b[0mvalidation_freq\u001b[0m\u001b[0;34m=\u001b[0m\u001b[0mvalidation_freq\u001b[0m\u001b[0;34m,\u001b[0m\u001b[0;34m\u001b[0m\u001b[0;34m\u001b[0m\u001b[0m\n\u001b[0;32m--> 675\u001b[0;31m         steps_name='steps_per_epoch')\n\u001b[0m\u001b[1;32m    676\u001b[0m \u001b[0;34m\u001b[0m\u001b[0m\n\u001b[1;32m    677\u001b[0m   def evaluate(self,\n",
            "\u001b[0;32m/usr/local/lib/python3.6/dist-packages/tensorflow_core/python/keras/engine/training_arrays.py\u001b[0m in \u001b[0;36mmodel_iteration\u001b[0;34m(model, inputs, targets, sample_weights, batch_size, epochs, verbose, callbacks, val_inputs, val_targets, val_sample_weights, shuffle, initial_epoch, steps_per_epoch, validation_steps, validation_freq, mode, validation_in_fit, prepared_feed_values_from_dataset, steps_name, **kwargs)\u001b[0m\n\u001b[1;32m    392\u001b[0m \u001b[0;34m\u001b[0m\u001b[0m\n\u001b[1;32m    393\u001b[0m         \u001b[0;31m# Get outputs.\u001b[0m\u001b[0;34m\u001b[0m\u001b[0;34m\u001b[0m\u001b[0;34m\u001b[0m\u001b[0m\n\u001b[0;32m--> 394\u001b[0;31m         \u001b[0mbatch_outs\u001b[0m \u001b[0;34m=\u001b[0m \u001b[0mf\u001b[0m\u001b[0;34m(\u001b[0m\u001b[0mins_batch\u001b[0m\u001b[0;34m)\u001b[0m\u001b[0;34m\u001b[0m\u001b[0;34m\u001b[0m\u001b[0m\n\u001b[0m\u001b[1;32m    395\u001b[0m         \u001b[0;32mif\u001b[0m \u001b[0;32mnot\u001b[0m \u001b[0misinstance\u001b[0m\u001b[0;34m(\u001b[0m\u001b[0mbatch_outs\u001b[0m\u001b[0;34m,\u001b[0m \u001b[0mlist\u001b[0m\u001b[0;34m)\u001b[0m\u001b[0;34m:\u001b[0m\u001b[0;34m\u001b[0m\u001b[0;34m\u001b[0m\u001b[0m\n\u001b[1;32m    396\u001b[0m           \u001b[0mbatch_outs\u001b[0m \u001b[0;34m=\u001b[0m \u001b[0;34m[\u001b[0m\u001b[0mbatch_outs\u001b[0m\u001b[0;34m]\u001b[0m\u001b[0;34m\u001b[0m\u001b[0;34m\u001b[0m\u001b[0m\n",
            "\u001b[0;32m/usr/local/lib/python3.6/dist-packages/tensorflow_core/python/keras/backend.py\u001b[0m in \u001b[0;36m__call__\u001b[0;34m(self, inputs)\u001b[0m\n\u001b[1;32m   3474\u001b[0m \u001b[0;34m\u001b[0m\u001b[0m\n\u001b[1;32m   3475\u001b[0m     fetched = self._callable_fn(*array_vals,\n\u001b[0;32m-> 3476\u001b[0;31m                                 run_metadata=self.run_metadata)\n\u001b[0m\u001b[1;32m   3477\u001b[0m     \u001b[0mself\u001b[0m\u001b[0;34m.\u001b[0m\u001b[0m_call_fetch_callbacks\u001b[0m\u001b[0;34m(\u001b[0m\u001b[0mfetched\u001b[0m\u001b[0;34m[\u001b[0m\u001b[0;34m-\u001b[0m\u001b[0mlen\u001b[0m\u001b[0;34m(\u001b[0m\u001b[0mself\u001b[0m\u001b[0;34m.\u001b[0m\u001b[0m_fetches\u001b[0m\u001b[0;34m)\u001b[0m\u001b[0;34m:\u001b[0m\u001b[0;34m]\u001b[0m\u001b[0;34m)\u001b[0m\u001b[0;34m\u001b[0m\u001b[0;34m\u001b[0m\u001b[0m\n\u001b[1;32m   3478\u001b[0m     output_structure = nest.pack_sequence_as(\n",
            "\u001b[0;32m/usr/local/lib/python3.6/dist-packages/tensorflow_core/python/client/session.py\u001b[0m in \u001b[0;36m__call__\u001b[0;34m(self, *args, **kwargs)\u001b[0m\n\u001b[1;32m   1470\u001b[0m         ret = tf_session.TF_SessionRunCallable(self._session._session,\n\u001b[1;32m   1471\u001b[0m                                                \u001b[0mself\u001b[0m\u001b[0;34m.\u001b[0m\u001b[0m_handle\u001b[0m\u001b[0;34m,\u001b[0m \u001b[0margs\u001b[0m\u001b[0;34m,\u001b[0m\u001b[0;34m\u001b[0m\u001b[0;34m\u001b[0m\u001b[0m\n\u001b[0;32m-> 1472\u001b[0;31m                                                run_metadata_ptr)\n\u001b[0m\u001b[1;32m   1473\u001b[0m         \u001b[0;32mif\u001b[0m \u001b[0mrun_metadata\u001b[0m\u001b[0;34m:\u001b[0m\u001b[0;34m\u001b[0m\u001b[0;34m\u001b[0m\u001b[0m\n\u001b[1;32m   1474\u001b[0m           \u001b[0mproto_data\u001b[0m \u001b[0;34m=\u001b[0m \u001b[0mtf_session\u001b[0m\u001b[0;34m.\u001b[0m\u001b[0mTF_GetBuffer\u001b[0m\u001b[0;34m(\u001b[0m\u001b[0mrun_metadata_ptr\u001b[0m\u001b[0;34m)\u001b[0m\u001b[0;34m\u001b[0m\u001b[0;34m\u001b[0m\u001b[0m\n",
            "\u001b[0;31mKeyboardInterrupt\u001b[0m: "
          ]
        }
      ]
    },
    {
      "cell_type": "code",
      "metadata": {
        "colab_type": "code",
        "id": "G8z-XS1wGWNz",
        "colab": {}
      },
      "source": [
        "test_y_predictions = model.predict_classes(X_test)"
      ],
      "execution_count": null,
      "outputs": []
    },
    {
      "cell_type": "code",
      "metadata": {
        "id": "1nlEb7fBPNT6",
        "colab_type": "code",
        "colab": {
          "base_uri": "https://localhost:8080/",
          "height": 52
        },
        "outputId": "5dba5221-453f-437a-ed1b-0ed1e6fb50c0"
      },
      "source": [
        "confusion_matrix(y_test,test_y_predictions)"
      ],
      "execution_count": null,
      "outputs": [
        {
          "output_type": "execute_result",
          "data": {
            "text/plain": [
              "array([[4271,  400],\n",
              "       [ 966, 3539]])"
            ]
          },
          "metadata": {
            "tags": []
          },
          "execution_count": 144
        }
      ]
    },
    {
      "cell_type": "code",
      "metadata": {
        "colab_type": "code",
        "id": "R2zXrmYTGWN8",
        "colab": {
          "base_uri": "https://localhost:8080/",
          "height": 35
        },
        "outputId": "17822286-9a05-423f-9809-f0145c2beda4"
      },
      "source": [
        "accuracy_score(y_test, test_y_predictions)"
      ],
      "execution_count": null,
      "outputs": [
        {
          "output_type": "execute_result",
          "data": {
            "text/plain": [
              "0.8511333914559721"
            ]
          },
          "metadata": {
            "tags": []
          },
          "execution_count": 139
        }
      ]
    },
    {
      "cell_type": "code",
      "metadata": {
        "id": "CPbkD-7DJniD",
        "colab_type": "code",
        "colab": {}
      },
      "source": [
        "model.save('CNNModel1.h5')"
      ],
      "execution_count": null,
      "outputs": []
    },
    {
      "cell_type": "code",
      "metadata": {
        "id": "CZ7hQ_MhWhyv",
        "colab_type": "code",
        "colab": {
          "base_uri": "https://localhost:8080/",
          "height": 55
        },
        "outputId": "eba86963-fc89-43eb-f170-452791cafc4d"
      },
      "source": [
        "model = tf.keras.models.load_model('CNNModel1.h5')\n"
      ],
      "execution_count": null,
      "outputs": [
        {
          "output_type": "stream",
          "text": [
            "WARNING:tensorflow:Error in loading the saved optimizer state. As a result, your model is starting with a freshly initialized optimizer.\n"
          ],
          "name": "stderr"
        }
      ]
    },
    {
      "cell_type": "code",
      "metadata": {
        "id": "3QpStW-IT2tT",
        "colab_type": "code",
        "colab": {
          "base_uri": "https://localhost:8080/",
          "height": 279
        },
        "outputId": "82667865-af8d-4a26-fc86-627b40283cd2"
      },
      "source": [
        "auc=roc_auc_score(y_test, model.predict(X_test))\n",
        "lr_fpr, lr_tpr, _ = roc_curve(y_test,  model.predict(X_test))\n",
        "plt.plot(lr_fpr, lr_tpr, marker='', label='Convolution Neural Network')\n",
        "plt.text(0.45, 0.5, 'AUC : '+str(np.round(auc,4)))\n",
        "plt.xlabel('True Positive Rate')\n",
        "plt.ylabel('False Positive Rate')\n",
        "plt.legend()\n",
        "plt.show()"
      ],
      "execution_count": null,
      "outputs": [
        {
          "output_type": "display_data",
          "data": {
            "image/png": "[encoded data removed]",
            "text/plain": [
              "<Figure size 432x288 with 1 Axes>"
            ]
          },
          "metadata": {
            "tags": []
          }
        }
      ]
    },
    {
      "cell_type": "code",
      "metadata": {
        "id": "PbRnVVu1a34y",
        "colab_type": "code",
        "colab": {}
      },
      "source": [
        "result_table = result_table.append({'classifiers':'Convolution Neural Network',\n",
        "                                        'fpr':lr_fpr, \n",
        "                                        'tpr':lr_tpr, \n",
        "                                        'auc':auc}, ignore_index=True)"
      ],
      "execution_count": null,
      "outputs": []
    },
    {
      "cell_type": "markdown",
      "metadata": {
        "id": "ge7dt242LbdU",
        "colab_type": "text"
      },
      "source": [
        ""
      ]
    },
    {
      "cell_type": "markdown",
      "metadata": {
        "id": "i4FGXcOPSMI9",
        "colab_type": "text"
      },
      "source": [
        "# Visualization"
      ]
    },
    {
      "cell_type": "markdown",
      "metadata": {
        "id": "bsUOq7yBHBr7",
        "colab_type": "text"
      },
      "source": [
        "**ROC**"
      ]
    },
    {
      "cell_type": "code",
      "metadata": {
        "id": "_ihHP1OlzeCS",
        "colab_type": "code",
        "colab": {
          "base_uri": "https://localhost:8080/",
          "height": 367
        },
        "outputId": "42be7e6d-61b0-4c82-ce15-88bb2c7b1aab"
      },
      "source": [
        "fig = plt.figure(figsize=(8,6))\n",
        "\n",
        "for i in result_table.index:\n",
        "    plt.plot(result_table.loc[i]['fpr'], \n",
        "             result_table.loc[i]['tpr'], \n",
        "             label=\"{}, AUC={:.3f}\".format( result_table.loc[i]['classifiers'], result_table.loc[i]['auc']))\n",
        "    \n",
        "plt.plot([0,1], [0,1], color='orange', linestyle='--')\n",
        "\n",
        "plt.xticks(np.arange(0.0, 1.1, step=0.1))\n",
        "plt.xlabel(\"Flase Positive Rate\", fontsize=15)\n",
        "\n",
        "plt.yticks(np.arange(0.0, 1.1, step=0.1))\n",
        "plt.ylabel(\"True Positive Rate\", fontsize=15)\n",
        "\n",
        "plt.title('Rectifer ROC Curve Analysis', fontweight='bold', fontsize=15)\n",
        "plt.legend(prop={'size':10}, loc='lower right')\n",
        "\n",
        "plt.show()"
      ],
      "execution_count": null,
      "outputs": [
        {
          "output_type": "execute_result",
          "data": {
            "text/html": [
              "<div>\n",
              "<style scoped>\n",
              "    .dataframe tbody tr th:only-of-type {\n",
              "        vertical-align: middle;\n",
              "    }\n",
              "\n",
              "    .dataframe tbody tr th {\n",
              "        vertical-align: top;\n",
              "    }\n",
              "\n",
              "    .dataframe thead th {\n",
              "        text-align: right;\n",
              "    }\n",
              "</style>\n",
              "<table border=\"1\" class=\"dataframe\">\n",
              "  <thead>\n",
              "    <tr style=\"text-align: right;\">\n",
              "      <th></th>\n",
              "      <th>classifiers</th>\n",
              "      <th>fpr</th>\n",
              "      <th>tpr</th>\n",
              "      <th>auc</th>\n",
              "    </tr>\n",
              "  </thead>\n",
              "  <tbody>\n",
              "    <tr>\n",
              "      <th>0</th>\n",
              "      <td>Logistic Regression</td>\n",
              "      <td>[0.0, 0.0, 0.0, 0.00031928480204342275, 0.0003...</td>\n",
              "      <td>[0.0, 0.00033500837520938025, 0.00134003350083...</td>\n",
              "      <td>0.778552</td>\n",
              "    </tr>\n",
              "    <tr>\n",
              "      <th>1</th>\n",
              "      <td>Decision Tree</td>\n",
              "      <td>[0.0, 0.24489144316730524, 1.0]</td>\n",
              "      <td>[0.0, 0.7363484087102178, 1.0]</td>\n",
              "      <td>0.745728</td>\n",
              "    </tr>\n",
              "    <tr>\n",
              "      <th>2</th>\n",
              "      <td>KNN</td>\n",
              "      <td>[0.0, 0.037675606641123884, 0.1050446998722860...</td>\n",
              "      <td>[0.0, 0.30385259631490785, 0.5212730318257957,...</td>\n",
              "      <td>0.786747</td>\n",
              "    </tr>\n",
              "    <tr>\n",
              "      <th>3</th>\n",
              "      <td>Random Forest</td>\n",
              "      <td>[0.0, 0.0009578544061302681, 0.007343550446998...</td>\n",
              "      <td>[0.0, 0.15879396984924624, 0.32964824120603015...</td>\n",
              "      <td>0.896712</td>\n",
              "    </tr>\n",
              "    <tr>\n",
              "      <th>4</th>\n",
              "      <td>Deep Neural Network H2O</td>\n",
              "      <td>[0.00032289312237649337, 0.0006457862447529867...</td>\n",
              "      <td>[0.0925862658011616, 0.18004783054321832, 0.24...</td>\n",
              "      <td>0.933203</td>\n",
              "    </tr>\n",
              "    <tr>\n",
              "      <th>5</th>\n",
              "      <td>Artificial Neural Network</td>\n",
              "      <td>[0.0, 0.0023231256599788807, 0.002323125659978...</td>\n",
              "      <td>[0.0, 0.34001351047061473, 0.35419950461607747...</td>\n",
              "      <td>0.937155</td>\n",
              "    </tr>\n",
              "    <tr>\n",
              "      <th>6</th>\n",
              "      <td>Convolution Neural Network</td>\n",
              "      <td>[0.0, 0.0, 0.0, 0.0, 0.0, 0.000214086919289231...</td>\n",
              "      <td>[0.0, 0.00022197558268590456, 0.00066592674805...</td>\n",
              "      <td>0.928833</td>\n",
              "    </tr>\n",
              "  </tbody>\n",
              "</table>\n",
              "</div>"
            ],
            "text/plain": [
              "                  classifiers  ...       auc\n",
              "0         Logistic Regression  ...  0.778552\n",
              "1               Decision Tree  ...  0.745728\n",
              "2                         KNN  ...  0.786747\n",
              "3               Random Forest  ...  0.896712\n",
              "4     Deep Neural Network H2O  ...  0.933203\n",
              "5   Artificial Neural Network  ...  0.937155\n",
              "6  Convolution Neural Network  ...  0.928833\n",
              "\n",
              "[7 rows x 4 columns]"
            ]
          },
          "metadata": {
            "tags": []
          },
          "execution_count": 145
        }
      ]
    },
    {
      "cell_type": "code",
      "metadata": {
        "id": "7hJxy3A2nJ-2",
        "colab_type": "code",
        "colab": {
          "base_uri": "https://localhost:8080/",
          "height": 352
        },
        "outputId": "1ae43054-99aa-4a6f-f522-9339783f7327"
      },
      "source": [
        "import matplotlib.pyplot as plt\n",
        "fig = plt.figure()\n",
        "ax = fig.add_axes([0,0,1,1])\n",
        "langs = ['Deep Neural Network','Artificial Neural Network','Random Forest', 'Convolution Neural Network','Decision Tree', 'KNN','Logistic Regression','Naive Bayes','GLM']\n",
        "students = [86.12,86,82.67,78,74.39,72.07,70.91,65.19,50.01]\n",
        "ax.barh(langs,students,color='darkblue')\n",
        "plt.title('Accuracies of Models ')\n",
        "#plt.bar(range(len(students)), students, )\n",
        "plt.show()"
      ],
      "execution_count": null,
      "outputs": [
        {
          "output_type": "display_data",
          "data": {
            "image/png": "[encoded data removed]",
            "text/plain": [
              "<Figure size 432x288 with 1 Axes>"
            ]
          },
          "metadata": {
            "tags": []
          }
        }
      ]
    },
    {
      "cell_type": "code",
      "metadata": {
        "id": "WiMhEpGd2i6t",
        "colab_type": "code",
        "colab": {}
      },
      "source": [
        ""
      ],
      "execution_count": null,
      "outputs": []
    },
    {
      "cell_type": "code",
      "metadata": {
        "id": "-qmHjCfizJuN",
        "colab_type": "code",
        "colab": {}
      },
      "source": [
        " Py, sr = librosa.load(\"/content/drive/My Drive/AudioFile/Audio5612135.wav\")"
      ],
      "execution_count": null,
      "outputs": []
    },
    {
      "cell_type": "code",
      "metadata": {
        "id": "g8P9CfocW0ID",
        "colab_type": "code",
        "colab": {}
      },
      "source": [
        " NPy, sr = librosa.load(\"/content/drive/My Drive/AudioFile/Audio5463488.wav\")"
      ],
      "execution_count": null,
      "outputs": []
    },
    {
      "cell_type": "code",
      "metadata": {
        "id": "4wZgxN5pyeG7",
        "colab_type": "code",
        "colab": {}
      },
      "source": [
        "D = np.abs(librosa.stft(Py))"
      ],
      "execution_count": null,
      "outputs": []
    },
    {
      "cell_type": "code",
      "metadata": {
        "id": "keOEyMRdyl-c",
        "colab_type": "code",
        "colab": {
          "base_uri": "https://localhost:8080/",
          "height": 271
        },
        "outputId": "5eb2e5ff-1e1c-4040-ec0c-0b592e71bc91"
      },
      "source": [
        ""
      ],
      "execution_count": null,
      "outputs": [
        {
          "output_type": "execute_result",
          "data": {
            "text/plain": [
              "<matplotlib.axes._subplots.AxesSubplot at 0x7f9dc3453d30>"
            ]
          },
          "metadata": {
            "tags": []
          },
          "execution_count": 23
        },
        {
          "output_type": "display_data",
          "data": {
            "image/png": "[encoded data removed]",
            "text/plain": [
              "<Figure size 432x288 with 1 Axes>"
            ]
          },
          "metadata": {
            "tags": []
          }
        }
      ]
    },
    {
      "cell_type": "code",
      "metadata": {
        "id": "9nM3solTziy7",
        "colab_type": "code",
        "colab": {
          "base_uri": "https://localhost:8080/",
          "height": 313
        },
        "outputId": "c0e7fa78-b9c9-4636-991e-f5aa274eb279"
      },
      "source": [
        "#Plot the amplitude envelope of a waveform.\n",
        "import matplotlib.pyplot as plt\n",
        "plt.subplot(2, 1, 1)\n",
        "librosa.display.waveplot(Py,sr)\n",
        "plt.title('Parkinson Patient')\n",
        "plt.subplot(2, 1, 2)\n",
        "librosa.display.waveplot(NPy,sr)\n",
        "plt.title('Healthy Person')\n",
        "plt.tight_layout()\n",
        "plt.show()"
      ],
      "execution_count": null,
      "outputs": [
        {
          "output_type": "execute_result",
          "data": {
            "text/plain": [
              "Text(0.5, 1.0, 'Parkinson Patient')"
            ]
          },
          "metadata": {
            "tags": []
          },
          "execution_count": 6
        },
        {
          "output_type": "display_data",
          "data": {
            "image/png": "[encoded data removed]",
            "text/plain": [
              "<Figure size 432x288 with 1 Axes>"
            ]
          },
          "metadata": {
            "tags": []
          }
        }
      ]
    },
    {
      "cell_type": "code",
      "metadata": {
        "id": "c92NA_T_1UCa",
        "colab_type": "code",
        "colab": {}
      },
      "source": [
        "plt.subplot(2, 1,1)\n",
        "Pspec = librosa.feature.melspectrogram(Py, sr=sr)\n",
        "librosa.display.specshow(Pspec,y_axis='mel', x_axis='s', sr=sr)\n",
        "plt.title('Melspectrogram of Parkinson Patient')\n",
        "plt.colorbar()\n",
        "plt.subplot(2,1,2)\n",
        "\n",
        "NPspec = librosa.feature.melspectrogram(NPy, sr=sr)\n",
        "librosa.display.specshow(NPspec,y_axis='mel', x_axis='s', sr=sr)\n",
        "plt.colorbar()\n",
        "plt.title('Melspectrogram of Non Parkinson')\n",
        "plt.tight_layout()\n",
        "plt.show()"
      ],
      "execution_count": null,
      "outputs": []
    },
    {
      "cell_type": "code",
      "metadata": {
        "id": "v63Nk_ANmR1E",
        "colab_type": "code",
        "colab": {
          "base_uri": "https://localhost:8080/",
          "height": 235
        },
        "outputId": "b727a116-ab45-4d7f-e608-79e91d86e6bf"
      },
      "source": [
        "plt.subplot(2, 1,1)\n",
        "Pspec = librosa.feature.melspectrogram(Py, sr=sr)\n",
        "db_spec = librosa.power_to_db(Pspec, ref=np.max,)\n",
        "librosa.display.specshow(db_spec,y_axis='mel', x_axis='s', sr=sr)\n",
        "plt.title(' Spectrogram of Parkinson')\n",
        "plt.colorbar();\n",
        "plt.subplot(2, 1,2)\n",
        "db_spec = librosa.power_to_db(NPspec, ref=np.max,)\n",
        "librosa.display.specshow(db_spec,y_axis='mel', x_axis='s', sr=sr)\n",
        "plt.title('Power Spectrogram of Non Parkinson')\n",
        "plt.colorbar();\n",
        "plt.tight_layout()\n",
        "plt.show()"
      ],
      "execution_count": null,
      "outputs": [
        {
          "output_type": "error",
          "ename": "NameError",
          "evalue": "ignored",
          "traceback": [
            "\u001b[0;31m---------------------------------------------------------------------------\u001b[0m",
            "\u001b[0;31mNameError\u001b[0m                                 Traceback (most recent call last)",
            "\u001b[0;32m<ipython-input-2-68dae80fe666>\u001b[0m in \u001b[0;36m<module>\u001b[0;34m()\u001b[0m\n\u001b[0;32m----> 1\u001b[0;31m \u001b[0mplt\u001b[0m\u001b[0;34m.\u001b[0m\u001b[0msubplot\u001b[0m\u001b[0;34m(\u001b[0m\u001b[0;36m2\u001b[0m\u001b[0;34m,\u001b[0m \u001b[0;36m1\u001b[0m\u001b[0;34m,\u001b[0m\u001b[0;36m1\u001b[0m\u001b[0;34m)\u001b[0m\u001b[0;34m\u001b[0m\u001b[0;34m\u001b[0m\u001b[0m\n\u001b[0m\u001b[1;32m      2\u001b[0m \u001b[0mPspec\u001b[0m \u001b[0;34m=\u001b[0m \u001b[0mlibrosa\u001b[0m\u001b[0;34m.\u001b[0m\u001b[0mfeature\u001b[0m\u001b[0;34m.\u001b[0m\u001b[0mmelspectrogram\u001b[0m\u001b[0;34m(\u001b[0m\u001b[0mPy\u001b[0m\u001b[0;34m,\u001b[0m \u001b[0msr\u001b[0m\u001b[0;34m=\u001b[0m\u001b[0msr\u001b[0m\u001b[0;34m)\u001b[0m\u001b[0;34m\u001b[0m\u001b[0;34m\u001b[0m\u001b[0m\n\u001b[1;32m      3\u001b[0m \u001b[0mdb_spec\u001b[0m \u001b[0;34m=\u001b[0m \u001b[0mlibrosa\u001b[0m\u001b[0;34m.\u001b[0m\u001b[0mpower_to_db\u001b[0m\u001b[0;34m(\u001b[0m\u001b[0mPspec\u001b[0m\u001b[0;34m,\u001b[0m \u001b[0mref\u001b[0m\u001b[0;34m=\u001b[0m\u001b[0mnp\u001b[0m\u001b[0;34m.\u001b[0m\u001b[0mmax\u001b[0m\u001b[0;34m,\u001b[0m\u001b[0;34m)\u001b[0m\u001b[0;34m\u001b[0m\u001b[0;34m\u001b[0m\u001b[0m\n\u001b[1;32m      4\u001b[0m \u001b[0mlibrosa\u001b[0m\u001b[0;34m.\u001b[0m\u001b[0mdisplay\u001b[0m\u001b[0;34m.\u001b[0m\u001b[0mspecshow\u001b[0m\u001b[0;34m(\u001b[0m\u001b[0mdb_spec\u001b[0m\u001b[0;34m,\u001b[0m\u001b[0my_axis\u001b[0m\u001b[0;34m=\u001b[0m\u001b[0;34m'mel'\u001b[0m\u001b[0;34m,\u001b[0m \u001b[0mx_axis\u001b[0m\u001b[0;34m=\u001b[0m\u001b[0;34m's'\u001b[0m\u001b[0;34m,\u001b[0m \u001b[0msr\u001b[0m\u001b[0;34m=\u001b[0m\u001b[0msr\u001b[0m\u001b[0;34m)\u001b[0m\u001b[0;34m\u001b[0m\u001b[0;34m\u001b[0m\u001b[0m\n\u001b[1;32m      5\u001b[0m \u001b[0mplt\u001b[0m\u001b[0;34m.\u001b[0m\u001b[0mtitle\u001b[0m\u001b[0;34m(\u001b[0m\u001b[0;34m' Spectrogram of Parkinson'\u001b[0m\u001b[0;34m)\u001b[0m\u001b[0;34m\u001b[0m\u001b[0;34m\u001b[0m\u001b[0m\n",
            "\u001b[0;31mNameError\u001b[0m: name 'plt' is not defined"
          ]
        }
      ]
    },
    {
      "cell_type": "code",
      "metadata": {
        "id": "7Z8wd_49mS8e",
        "colab_type": "code",
        "colab": {}
      },
      "source": [
        "plt.subplot(2, 1,1)\n",
        "Tgram = librosa.feature.tempogram(Py, sr=sr)\n",
        "librosa.display.specshow(Tgram, x_axis='time', y_axis='tempo')\n",
        "plt.colorbar()\n",
        "plt.title('Tempogram of Parkinson')\n",
        "plt.subplot(2,1,2)\n",
        "Tgram = librosa.feature.tempogram(NPy, sr=sr)\n",
        "librosa.display.specshow(Tgram, x_axis='time', y_axis='tempo')\n",
        "plt.colorbar()\n",
        "plt.title('Tempogram of Non Parkinson')\n",
        "plt.tight_layout()\n",
        "plt.show()"
      ],
      "execution_count": null,
      "outputs": []
    },
    {
      "cell_type": "code",
      "metadata": {
        "id": "CAqw2SNNmU1b",
        "colab_type": "code",
        "colab": {}
      },
      "source": [
        "plt.subplot(2, 1,1)\n",
        "chroma = librosa.feature.chroma_cqt(Py, sr=sr)\n",
        "#plt.figure(figsize=(8,3))\n",
        "librosa.display.specshow(chroma, sr=sr, x_axis='time', y_axis='chroma', vmin=0, vmax=1)\n",
        "plt.title('Chromagram of Parkinson')\n",
        "plt.colorbar()\n",
        "plt.subplot(2, 1,2)\n",
        "chroma = librosa.feature.chroma_cqt(NPy, sr=sr)\n",
        "#plt.figure(figsize=(8,3))\n",
        "librosa.display.specshow(chroma, sr=sr, x_axis='time', y_axis='chroma', vmin=0, vmax=1)\n",
        "plt.title('Chromagram of Non Parkinson')\n",
        "plt.colorbar()\n",
        "\n",
        "plt.tight_layout()\n",
        "plt.show()"
      ],
      "execution_count": null,
      "outputs": []
    },
    {
      "cell_type": "code",
      "metadata": {
        "id": "CoDABZw2mMfM",
        "colab_type": "code",
        "colab": {}
      },
      "source": [
        "plt.subplot(2, 1, 1)\n",
        "rms=librosa.feature.rmse(y=Py)\n",
        "plt.semilogy(rms.T, label='RMS Energy of Parkinson Patient')\n",
        "plt.xticks([])\n",
        "plt.xlim([0, rms.shape[-1]])\n",
        "plt.legend(loc='best')\n",
        "plt.subplot(2, 1,2)\n",
        "rms=librosa.feature.rmse(y=NPy)\n",
        "plt.semilogy(rms.T, label='RMS Energy of Healthy Person')\n",
        "plt.xticks([])\n",
        "plt.xlim([0, rms.shape[-1]])\n",
        "plt.legend(loc='best')\n",
        "plt.tight_layout()\n",
        "plt.show()"
      ],
      "execution_count": null,
      "outputs": []
    },
    {
      "cell_type": "code",
      "metadata": {
        "id": "MvJBCzAH94ai",
        "colab_type": "code",
        "colab": {}
      },
      "source": [
        "chromagram = librosa.feature.chroma_stft(NPy, sr=sr,hop_length=512)\n",
        "librosa.display.specshow(chromagram, x_axis='time', y_axis='chroma', hop_length=512)"
      ],
      "execution_count": null,
      "outputs": []
    },
    {
      "cell_type": "code",
      "metadata": {
        "id": "Tkcd0oNN9Tt9",
        "colab_type": "code",
        "colab": {}
      },
      "source": [
        "chromagram = librosa.feature.chroma_stft(Py, sr=sr,hop_length=512)\n",
        "librosa.display.specshow(chromagram, x_axis='time', y_axis='chroma', hop_length=512)"
      ],
      "execution_count": null,
      "outputs": []
    }
  ]
}