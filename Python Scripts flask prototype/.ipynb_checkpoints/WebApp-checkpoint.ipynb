{
 "cells": [
  {
   "cell_type": "code",
   "execution_count": null,
   "metadata": {},
   "outputs": [],
   "source": []
  },
  {
   "cell_type": "code",
   "execution_count": 2,
   "metadata": {},
   "outputs": [
    {
     "name": "stdout",
     "output_type": "stream",
     "text": [
      "Collecting package metadata (current_repodata.json): ...working... done\n",
      "Solving environment: ...working... done\n",
      "\n",
      "# All requested packages already installed.\n",
      "\n",
      "\n",
      "Note: you may need to restart the kernel to use updated packages.\n"
     ]
    }
   ],
   "source": [
    "conda install pip"
   ]
  },
  {
   "cell_type": "code",
   "execution_count": 25,
   "metadata": {},
   "outputs": [
    {
     "name": "stdout",
     "output_type": "stream",
     "text": [
      "Collecting tensorflow==1.13.1\n",
      "  Downloading https://files.pythonhosted.org/packages/7b/14/e4538c2bc3ae9f4ce6f6ce7ef1180da05abc4a617afba798268232b01d0d/tensorflow-1.13.1-cp37-cp37m-win_amd64.whl (63.1MB)\n",
      "Requirement already satisfied: gast>=0.2.0 in c:\\users\\tejas\\anaconda3\\lib\\site-packages (from tensorflow==1.13.1) (0.2.2)\n",
      "Requirement already satisfied: absl-py>=0.1.6 in c:\\users\\tejas\\anaconda3\\lib\\site-packages (from tensorflow==1.13.1) (0.8.1)\n",
      "Requirement already satisfied: six>=1.10.0 in c:\\users\\tejas\\anaconda3\\lib\\site-packages (from tensorflow==1.13.1) (1.12.0)\n",
      "Requirement already satisfied: protobuf>=3.6.1 in c:\\users\\tejas\\anaconda3\\lib\\site-packages (from tensorflow==1.13.1) (3.11.1)\n",
      "Requirement already satisfied: termcolor>=1.1.0 in c:\\users\\tejas\\anaconda3\\lib\\site-packages (from tensorflow==1.13.1) (1.1.0)\n",
      "Requirement already satisfied: keras-preprocessing>=1.0.5 in c:\\users\\tejas\\anaconda3\\lib\\site-packages (from tensorflow==1.13.1) (1.1.0)\n",
      "Collecting tensorboard<1.14.0,>=1.13.0 (from tensorflow==1.13.1)\n",
      "  Downloading https://files.pythonhosted.org/packages/0f/39/bdd75b08a6fba41f098b6cb091b9e8c7a80e1b4d679a581a0ccd17b10373/tensorboard-1.13.1-py3-none-any.whl (3.2MB)\n",
      "Requirement already satisfied: wheel>=0.26 in c:\\users\\tejas\\anaconda3\\lib\\site-packages (from tensorflow==1.13.1) (0.33.6)\n",
      "Collecting tensorflow-estimator<1.14.0rc0,>=1.13.0 (from tensorflow==1.13.1)\n",
      "  Downloading https://files.pythonhosted.org/packages/bb/48/13f49fc3fa0fdf916aa1419013bb8f2ad09674c275b4046d5ee669a46873/tensorflow_estimator-1.13.0-py2.py3-none-any.whl (367kB)\n",
      "Requirement already satisfied: astor>=0.6.0 in c:\\users\\tejas\\anaconda3\\lib\\site-packages (from tensorflow==1.13.1) (0.8.1)\n",
      "Requirement already satisfied: grpcio>=1.8.6 in c:\\users\\tejas\\anaconda3\\lib\\site-packages (from tensorflow==1.13.1) (1.25.0)\n",
      "Requirement already satisfied: numpy>=1.13.3 in c:\\users\\tejas\\anaconda3\\lib\\site-packages (from tensorflow==1.13.1) (1.16.5)\n",
      "Requirement already satisfied: keras-applications>=1.0.6 in c:\\users\\tejas\\anaconda3\\lib\\site-packages (from tensorflow==1.13.1) (1.0.8)\n",
      "Requirement already satisfied: setuptools in c:\\users\\tejas\\anaconda3\\lib\\site-packages (from protobuf>=3.6.1->tensorflow==1.13.1) (41.4.0)\n",
      "Requirement already satisfied: markdown>=2.6.8 in c:\\users\\tejas\\anaconda3\\lib\\site-packages (from tensorboard<1.14.0,>=1.13.0->tensorflow==1.13.1) (3.1.1)\n",
      "Requirement already satisfied: werkzeug>=0.11.15 in c:\\users\\tejas\\anaconda3\\lib\\site-packages (from tensorboard<1.14.0,>=1.13.0->tensorflow==1.13.1) (0.16.0)\n",
      "Requirement already satisfied: mock>=2.0.0 in c:\\users\\tejas\\anaconda3\\lib\\site-packages (from tensorflow-estimator<1.14.0rc0,>=1.13.0->tensorflow==1.13.1) (3.0.5)\n",
      "Requirement already satisfied: h5py in c:\\users\\tejas\\anaconda3\\lib\\site-packages (from keras-applications>=1.0.6->tensorflow==1.13.1) (2.9.0)\n",
      "Installing collected packages: tensorboard, tensorflow-estimator, tensorflow\n",
      "  Found existing installation: tensorboard 2.0.2\n",
      "    Uninstalling tensorboard-2.0.2:\n",
      "      Successfully uninstalled tensorboard-2.0.2\n",
      "  Found existing installation: tensorflow-estimator 2.0.1\n",
      "    Uninstalling tensorflow-estimator-2.0.1:\n",
      "      Successfully uninstalled tensorflow-estimator-2.0.1\n",
      "  Found existing installation: tensorflow 2.0.0\n",
      "    Uninstalling tensorflow-2.0.0:\n",
      "      Successfully uninstalled tensorflow-2.0.0\n",
      "Note: you may need to restart the kernel to use updated packages.\n"
     ]
    },
    {
     "name": "stderr",
     "output_type": "stream",
     "text": [
      "ERROR: Could not install packages due to an EnvironmentError: [WinError 5] Access is denied: 'c:\\\\users\\\\tejas\\\\anaconda3\\\\lib\\\\site-packages\\\\~ensorflow_core\\\\lite\\\\experimental\\\\microfrontend\\\\python\\\\ops\\\\_audio_microfrontend_op.so'\n",
      "Consider using the `--user` option or check the permissions.\n",
      "\n"
     ]
    }
   ],
   "source": [
    "pip install tensorflow==1.13.1"
   ]
  },
  {
   "cell_type": "code",
   "execution_count": 15,
   "metadata": {},
   "outputs": [
    {
     "name": "stdout",
     "output_type": "stream",
     "text": [
      "Requirement already satisfied: Keras in c:\\users\\tejas\\anaconda3\\lib\\site-packages (2.3.1)\n",
      "Requirement already satisfied: numpy>=1.9.1 in c:\\users\\tejas\\anaconda3\\lib\\site-packages (from Keras) (1.16.5)\n",
      "Requirement already satisfied: keras-preprocessing>=1.0.5 in c:\\users\\tejas\\anaconda3\\lib\\site-packages (from Keras) (1.1.0)\n",
      "Requirement already satisfied: pyyaml in c:\\users\\tejas\\anaconda3\\lib\\site-packages (from Keras) (5.1.2)\n",
      "Requirement already satisfied: keras-applications>=1.0.6 in c:\\users\\tejas\\anaconda3\\lib\\site-packages (from Keras) (1.0.8)\n",
      "Requirement already satisfied: h5py in c:\\users\\tejas\\anaconda3\\lib\\site-packages (from Keras) (2.9.0)\n",
      "Requirement already satisfied: six>=1.9.0 in c:\\users\\tejas\\anaconda3\\lib\\site-packages (from Keras) (1.12.0)\n",
      "Requirement already satisfied: scipy>=0.14 in c:\\users\\tejas\\anaconda3\\lib\\site-packages (from Keras) (1.3.1)\n",
      "Note: you may need to restart the kernel to use updated packages.\n"
     ]
    }
   ],
   "source": [
    "pip install Keras"
   ]
  },
  {
   "cell_type": "code",
   "execution_count": 2,
   "metadata": {},
   "outputs": [
    {
     "name": "stdout",
     "output_type": "stream",
     "text": [
      "Looking in links: http://h2o-release.s3.amazonaws.com/h2o/latest_stable_Py.html\n",
      "Collecting h2o\n",
      "  Downloading https://files.pythonhosted.org/packages/6b/d1/aaa74df4716b2454d6034261807ef3855d014862c801f0e9b803b568006d/h2o-3.28.0.1.tar.gz (123.4MB)\n",
      "Requirement already satisfied: requests in c:\\users\\tejas\\anaconda3\\lib\\site-packages (from h2o) (2.22.0)\n",
      "Requirement already satisfied: tabulate in c:\\users\\tejas\\anaconda3\\lib\\site-packages (from h2o) (0.8.6)\n",
      "Requirement already satisfied: future in c:\\users\\tejas\\anaconda3\\lib\\site-packages (from h2o) (0.17.1)\n",
      "Requirement already satisfied: colorama>=0.3.8 in c:\\users\\tejas\\anaconda3\\lib\\site-packages (from h2o) (0.4.1)\n",
      "Requirement already satisfied: idna<2.9,>=2.5 in c:\\users\\tejas\\anaconda3\\lib\\site-packages (from requests->h2o) (2.8)\n",
      "Requirement already satisfied: certifi>=2017.4.17 in c:\\users\\tejas\\anaconda3\\lib\\site-packages (from requests->h2o) (2019.9.11)\n",
      "Requirement already satisfied: urllib3!=1.25.0,!=1.25.1,<1.26,>=1.21.1 in c:\\users\\tejas\\anaconda3\\lib\\site-packages (from requests->h2o) (1.24.2)\n",
      "Requirement already satisfied: chardet<3.1.0,>=3.0.2 in c:\\users\\tejas\\anaconda3\\lib\\site-packages (from requests->h2o) (3.0.4)\n",
      "Building wheels for collected packages: h2o\n",
      "  Building wheel for h2o (setup.py): started\n",
      "  Building wheel for h2o (setup.py): finished with status 'done'\n",
      "  Created wheel for h2o: filename=h2o-3.28.0.1-py2.py3-none-any.whl size=123410560 sha256=bc76d3f833aeda19acef32f58882e24c9d901bac534c3c87e58a5617c3fbded2\n",
      "  Stored in directory: C:\\Users\\tejas\\AppData\\Local\\pip\\Cache\\wheels\\ff\\82\\f4\\3fe9c895b93c53b25ae44dc44aa54dad571c711f48bc485fe9\n",
      "Successfully built h2o\n",
      "Installing collected packages: h2o\n",
      "Successfully installed h2o-3.28.0.1\n",
      "Note: you may need to restart the kernel to use updated packages.\n"
     ]
    },
    {
     "name": "stderr",
     "output_type": "stream",
     "text": [
      "  WARNING: The repository located at h2o-release.s3.amazonaws.com is not a trusted or secure host and is being ignored. If this repository is available via HTTPS we recommend you use HTTPS instead, otherwise you may silence this warning and allow it anyway with '--trusted-host h2o-release.s3.amazonaws.com'.\n"
     ]
    }
   ],
   "source": [
    "pip install -f http://h2o-release.s3.amazonaws.com/h2o/latest_stable_Py.html h2o"
   ]
  },
  {
   "cell_type": "code",
   "execution_count": 14,
   "metadata": {},
   "outputs": [
    {
     "name": "stdout",
     "output_type": "stream",
     "text": [
      "Requirement already satisfied: sounddevice in c:\\users\\tejas\\anaconda3\\lib\\site-packages (0.3.14)\n",
      "Requirement already satisfied: CFFI>=1.0 in c:\\users\\tejas\\anaconda3\\lib\\site-packages (from sounddevice) (1.12.3)\n",
      "Requirement already satisfied: pycparser in c:\\users\\tejas\\anaconda3\\lib\\site-packages (from CFFI>=1.0->sounddevice) (2.19)\n",
      "Note: you may need to restart the kernel to use updated packages.\n"
     ]
    }
   ],
   "source": [
    "pip install sounddevice"
   ]
  },
  {
   "cell_type": "code",
   "execution_count": 13,
   "metadata": {},
   "outputs": [
    {
     "name": "stdout",
     "output_type": "stream",
     "text": [
      "Requirement already satisfied: praat-parselmouth in c:\\users\\tejas\\anaconda3\\lib\\site-packages (0.3.3)\n",
      "Requirement already satisfied: numpy>=1.7.0 in c:\\users\\tejas\\anaconda3\\lib\\site-packages (from praat-parselmouth) (1.16.5)\n",
      "Note: you may need to restart the kernel to use updated packages.\n"
     ]
    }
   ],
   "source": [
    "pip install praat-parselmouth"
   ]
  },
  {
   "cell_type": "code",
   "execution_count": 12,
   "metadata": {},
   "outputs": [
    {
     "name": "stdout",
     "output_type": "stream",
     "text": [
      "Requirement already satisfied: librosa in c:\\users\\tejas\\anaconda3\\lib\\site-packages (0.7.1)\n",
      "Requirement already satisfied: scipy>=1.0.0 in c:\\users\\tejas\\anaconda3\\lib\\site-packages (from librosa) (1.3.1)\n",
      "Requirement already satisfied: scikit-learn!=0.19.0,>=0.14.0 in c:\\users\\tejas\\anaconda3\\lib\\site-packages (from librosa) (0.21.3)\n",
      "Requirement already satisfied: numba>=0.43.0 in c:\\users\\tejas\\anaconda3\\lib\\site-packages (from librosa) (0.45.1)\n",
      "Requirement already satisfied: audioread>=2.0.0 in c:\\users\\tejas\\anaconda3\\lib\\site-packages (from librosa) (2.1.8)\n",
      "Requirement already satisfied: soundfile>=0.9.0 in c:\\users\\tejas\\anaconda3\\lib\\site-packages (from librosa) (0.10.3.post1)\n",
      "Requirement already satisfied: joblib>=0.12 in c:\\users\\tejas\\anaconda3\\lib\\site-packages (from librosa) (0.13.2)\n",
      "Requirement already satisfied: numpy>=1.15.0 in c:\\users\\tejas\\anaconda3\\lib\\site-packages (from librosa) (1.16.5)\n",
      "Requirement already satisfied: six>=1.3 in c:\\users\\tejas\\anaconda3\\lib\\site-packages (from librosa) (1.12.0)\n",
      "Requirement already satisfied: resampy>=0.2.2 in c:\\users\\tejas\\anaconda3\\lib\\site-packages (from librosa) (0.2.2)\n",
      "Requirement already satisfied: decorator>=3.0.0 in c:\\users\\tejas\\anaconda3\\lib\\site-packages (from librosa) (4.4.0)\n",
      "Requirement already satisfied: llvmlite>=0.29.0dev0 in c:\\users\\tejas\\anaconda3\\lib\\site-packages (from numba>=0.43.0->librosa) (0.29.0)\n",
      "Requirement already satisfied: cffi>=1.0 in c:\\users\\tejas\\anaconda3\\lib\\site-packages (from soundfile>=0.9.0->librosa) (1.12.3)\n",
      "Requirement already satisfied: pycparser in c:\\users\\tejas\\anaconda3\\lib\\site-packages (from cffi>=1.0->soundfile>=0.9.0->librosa) (2.19)\n"
     ]
    }
   ],
   "source": [
    "!pip install librosa"
   ]
  },
  {
   "cell_type": "code",
   "execution_count": 6,
   "metadata": {},
   "outputs": [
    {
     "name": "stdout",
     "output_type": "stream",
     "text": [
      "Overwriting h2oApp.py\n"
     ]
    }
   ],
   "source": [
    "%%writefile h2oApp.py\n",
    "import flask\n",
    "import sounddevice as sd\n",
    "from scipy.io.wavfile import write\n",
    "from flask import Flask, render_template, request, jsonify\n",
    "import h2o\n",
    "h2o.init(ip=\"127.0.0.1\",max_mem_size_GB = 2)\n",
    "h2o.connect()\n",
    "\n",
    "app = flask.Flask(__name__, template_folder='templates')\n",
    "@app.route('/')\n",
    "def main():\n",
    "    return(flask.render_template('index.html'))\n",
    "\n",
    "@app.route('/square/',methods=['POST'])\n",
    "def background_process_test():\n",
    "    fs = 44100  # Sample rate\n",
    "    seconds = 10  # Duration of recording\n",
    "    myrecording = sd.rec(int(seconds * fs), samplerate=fs, channels=2)\n",
    "    sd.wait()  # Wait until recording is finished\n",
    "    write('output.wav', fs, myrecording) # Save as WAV file \n",
    "    data = {'square': 'Recoding Done'}\n",
    "    return data\n",
    "\n",
    "@app.route('/process/',methods=['POST'])\n",
    "def processAudio():\n",
    "    import librosa\n",
    "    import pandas as pd\n",
    "    import numpy as np\n",
    "    import librosa.display\n",
    "    import parselmouth\n",
    "    from parselmouth.praat import call\n",
    "    from parselmouth import MFCC\n",
    "    import matplotlib.pyplot as plt\n",
    "    \n",
    "    import h2o\n",
    "    \n",
    "    from h2o.grid.grid_search import H2OGridSearch\n",
    "    import pandas as pd\n",
    "    import numpy as np\n",
    "    from sklearn import preprocessing\n",
    "    from h2o.estimators.deeplearning import H2OAutoEncoderEstimator, H2ODeepLearningEstimator\n",
    "    import os\n",
    "    h2o.init(ip=\"127.0.0.1\",max_mem_size_GB = 2)\n",
    "    h2o.connect()\n",
    "    f0min,f0max=70,600\n",
    "    unit=\"Hertz\"\n",
    "    wave_file='Audio5780917.wav'\n",
    "    y, sr = librosa.load(wave_file)\n",
    "    time=librosa.get_duration(y=y, sr=sr)\n",
    "    sound = parselmouth.Sound(wave_file)\n",
    "    print(\"Processing {}...\".format(wave_file))\n",
    "    duration = call(sound, \"Get total duration\") # duration\n",
    "    #ff0min, f0max=75,600 default\n",
    "    pitch = call(sound, \"To Pitch\", 0.0, f0min, f0max) #create a praat pitch object\n",
    "    pitchMean = call(pitch, \"Get mean\", 0, 0, unit) # get mean pitch\n",
    "    PitchStdev = call(pitch, \"Get standard deviation\", 0 ,0, unit) # get standard deviation\n",
    "  #  mfcc = call(sound , 'To MelSpectrogram...', 0, 0, 0.0001, 0.02, 1.3, 1.6)\n",
    "    harmonicity = call(sound, \"To Harmonicity (cc)\", 0.01, f0min, 0.1, 1.0)\n",
    "    hnr = call(harmonicity, \"Get mean\", 0, 0)\n",
    "    pointProcess = call(sound, \"To PointProcess (periodic, cc)\", f0min, f0max) \n",
    "    localJitter = call(pointProcess, \"Get jitter (local)\", 0, 0, 0.0001, 0.02, 1.3)\n",
    "    localabsoluteJitter = call(pointProcess, \"Get jitter (local, absolute)\", 0, 0, 0.0001, 0.02, 1.3)\n",
    "    rapJitter = call(pointProcess, \"Get jitter (rap)\", 0, 0, 0.0001, 0.02, 1.3)\n",
    "    ppq5Jitter = call(pointProcess, \"Get jitter (ppq5)\", 0, 0, 0.0001, 0.02, 1.3)\n",
    "    ddpJitter = call(pointProcess, \"Get jitter (ddp)\", 0, 0, 0.0001, 0.02, 1.3)\n",
    "    localShimmer =  call([sound, pointProcess], \"Get shimmer (local)\", 0, 0, 0.0001, 0.02, 1.3, 1.6)\n",
    "    localdbShimmer = call([sound, pointProcess], \"Get shimmer (local_dB)\", 0, 0, 0.0001, 0.02, 1.3, 1.6)\n",
    "    apq3Shimmer = call([sound, pointProcess], \"Get shimmer (apq3)\", 0, 0, 0.0001, 0.02, 1.3, 1.6)\n",
    "    aqpq5Shimmer = call([sound, pointProcess], \"Get shimmer (apq5)\", 0, 0, 0.0001, 0.02, 1.3, 1.6)\n",
    "    apq11Shimmer =  call([sound, pointProcess], \"Get shimmer (apq11)\", 0, 0, 0.0001, 0.02, 1.3, 1.6)\n",
    "    ddaShimmer = call([sound, pointProcess], \"Get shimmer (dda)\", 0, 0, 0.0001, 0.02, 1.3, 1.6)\n",
    "\n",
    "    formants = call(sound, \"To Formant (burg)\", 0.0025, 5, 5000, 0.025, 50)\n",
    "    numPoints = call(pointProcess, \"Get number of points\")\n",
    "    f1_list = []\n",
    "    f2_list = []\n",
    "    f3_list = []\n",
    "    f4_list = []\n",
    "    \n",
    "    # Measure formants only at glottal pulses\n",
    "    for point in range(0, numPoints):\n",
    "        point += 1\n",
    "        t = call(pointProcess, \"Get time from index\", point)\n",
    "        f1 = call(formants, \"Get value at time\", 1, t, 'Hertz', 'Linear')\n",
    "        f2 = call(formants, \"Get value at time\", 2, t, 'Hertz', 'Linear')\n",
    "        f3 = call(formants, \"Get value at time\", 3, t, 'Hertz', 'Linear')\n",
    "        f4 = call(formants, \"Get value at time\", 4, t, 'Hertz', 'Linear')\n",
    "        f1_list.append(f1)\n",
    "        f2_list.append(f2)\n",
    "        f3_list.append(f3)\n",
    "        f4_list.append(f4)\n",
    "    \n",
    "    f1_list = [f1 for f1 in f1_list if str(f1) != 'nan']\n",
    "    f2_list = [f2 for f2 in f2_list if str(f2) != 'nan']\n",
    "    f3_list = [f3 for f3 in f3_list if str(f3) != 'nan']\n",
    "    f4_list = [f4 for f4 in f4_list if str(f4) != 'nan']\n",
    "    \n",
    "    # calculate mean formants across pulses\n",
    "    f1_mean = np.mean(f1_list)\n",
    "    f2_mean = np.mean(f2_list)\n",
    "    f3_mean = np.mean(f3_list)\n",
    "    f4_mean = np.mean(f4_list)\n",
    "\n",
    "\n",
    "    chroma_stft = librosa.feature.chroma_stft(y=y, sr=sr)\n",
    "    rmse = librosa.feature.rms(y=y)\n",
    "    spec_cent = librosa.feature.spectral_centroid(y=y, sr=sr)\n",
    "    spec_bw = librosa.feature.spectral_bandwidth(y=y, sr=sr)\n",
    "    rolloff = librosa.feature.spectral_rolloff(y=y, sr=sr)\n",
    "    zcr = librosa.feature.zero_crossing_rate(y)\n",
    "    mfcc = librosa.feature.mfcc(y=y, sr=sr)\n",
    "\n",
    "    df = pd.DataFrame([[pitchMean ,PitchStdev , hnr ,  np.mean(chroma_stft) ,  np.mean(rmse)  , np.mean(spec_cent)  ,\n",
    "                  np.mean(spec_bw)  , np.mean(rolloff) ,  np.round(localJitter,6)  , np.round(localabsoluteJitter,6)  ,\n",
    "                  np.round(rapJitter,6)  , np.round(ppq5Jitter,6)  ,  np.round(ddpJitter,6)  , np.round(localShimmer,6)  ,\n",
    "                  np.round(localdbShimmer,6)  , np.round(aqpq5Shimmer,6)  , np.round(apq11Shimmer,6)  , np.round(ddaShimmer,6) ,\n",
    "                  f1_mean  , f2_mean ,  f3_mean  , f4_mean, mfcc[0].mean(),mfcc[1].mean(),mfcc[2].mean(), mfcc[3].mean(),\n",
    "                  mfcc[4].mean(),mfcc[5].mean(),mfcc[6].mean(),mfcc[7].mean(),mfcc[8].mean(),mfcc[9].mean(),mfcc[10].mean(),\n",
    "                  mfcc[11].mean(),mfcc[12].mean(),mfcc[13].mean(),mfcc[14].mean(),mfcc[15].mean(),mfcc[16].mean(),\n",
    "                  mfcc[17].mean(),mfcc[18].mean(),mfcc[19].mean()]] ,\n",
    "                  columns=['pitchMean' ,'pitchStdev', 'hnr', 'chroma_stft' ,'rmse' ,'spectral_centroid' ,\n",
    "                 'spectral_bandwidth', 'rolloff', 'localJitter', 'localabsoluteJitter' ,'rapJitter', 'ppq5Jitter' ,'ddpJitter' ,\n",
    "                 'localShimmer' ,'localdbShimmer' ,'aqpq5Shimmer' ,'apq11Shimmer', 'ddaShimmer' ,'formant1Mean' ,'formant2Mean' ,\n",
    "                 'formant3Mean' ,'formant4Mean', 'mfcc1','mfcc2','mfcc3','mfcc4','mfcc5','mfcc6','mfcc7','mfcc8','mfcc9','mfcc10',\n",
    "                 'mfcc11','mfcc12','mfcc13','mfcc14','mfcc15','mfcc16','mfcc17','mfcc18','mfcc19','mfcc20']) \n",
    "    df.fillna(0)\n",
    "    hf = h2o.H2OFrame(df)\n",
    "    #min_max_scaler = preprocessing.MinMaxScaler(feature_range=(0,1))\n",
    "    #X_scale = min_max_scaler.fit_transform(df)\n",
    "    #saved_model = load_model('ANNModel.h5')\n",
    "    saved_model = h2o.load_model('DNNH2OModel')\n",
    "    testPerformance=saved_model.predict(hf)\n",
    "    #testPerformance=saved_model.predict_classes(X_scale)\n",
    "    prediction=testPerformance.as_data_frame()\n",
    "    predict=prediction['predict'][0]\n",
    "    if (predict == 'NoParkinson'):\n",
    "        data={'df':'Congrats test is Negative'}\n",
    "    if (predict == 'Parkinson'):\n",
    "        data={'df':'Need to go for deep testing'}\n",
    "    #predict=testPerformance[0]\n",
    "    #tt=predict[0]\n",
    "    #if(tt==1):\n",
    "     #   data={'df':'Test Positve Go For Deep Testing'}\n",
    "    #if(tt==0):\n",
    "     #   data={'df':'Congrats Test is Negative'}\n",
    "    data = jsonify(data)\n",
    "    return data\n",
    "if __name__ == '__main__':\n",
    "    app.run(debug=True)"
   ]
  },
  {
   "cell_type": "code",
   "execution_count": 4,
   "metadata": {},
   "outputs": [
    {
     "name": "stdout",
     "output_type": "stream",
     "text": [
      "Overwriting templates/index.html\n"
     ]
    }
   ],
   "source": [
    "%%writefile templates/index.html\n",
    "\n",
    "<!DOCTYPE html>\n",
    "<html>\n",
    "<head>\n",
    "<script src=\"//ajax.googleapis.com/ajax/libs/jquery/1.9.1/jquery.min.js\"></script>\n",
    "<style>\n",
    ".button {\n",
    "  background-color: grey; \n",
    "  border: none;\n",
    "  color: white;\n",
    "    \n",
    "  padding: 15px 15px;\n",
    "  text-align: center;\n",
    "  text-decoration: none;\n",
    "  display: inline-block;\n",
    "  font-size: 16px;\n",
    "  margin: 4px 2px;\n",
    "  cursor: pointer;\n",
    "    border-radius: 20%;\n",
    "}\n",
    "\n",
    ".disabled {\n",
    "  opacity: 0.6;\n",
    "  cursor: not-allowed;\n",
    "}\n",
    "</style>\n",
    "</head>\n",
    "<body style=\"background-image: url('/static/img_girl.jpg');\">\n",
    "\n",
    "        <h1 style=\"color:#f1b477;font-family:verdana;font-size:200%;text-align:center; \">Parkinson Disease Detection Using Audio</h1>\n",
    "    <h2 style=\"color:grey;font-family:verdana;font-size:150%;text-align:center; \">Start with recording your voice</h1>\n",
    "        <form method=\"post\" id=\"recording\">\n",
    "        <center> \n",
    "            <label style=\"color:grey;font-family:verdana;font-size:150%;text-align:center; \">Say aaah for 10 sec : </label>\n",
    "                <button class=\"button\">Record</button>\n",
    "           </center>\n",
    "        </form>\n",
    "        <h1 id=\"countdown\" style=\"color:#f1b477;font-family:verdana;font-size:150%;text-align:center; \"></h1>\n",
    "       <h2 id='square' style=\"color:#f1b477;font-family:verdana;font-size:100%;text-align:center; \"></h2>\n",
    "        \n",
    "        <form method=\"post\" id=\"processing\">\n",
    "            <center> <button class=\"button\">Process the Audio file</button></center>\n",
    "            <h1 id='process' style=\"color:#f1b477;font-family:verdana;font-size:150%;text-align:center; \"></h1>\n",
    "         \n",
    "            <div id=\"wait\" style=\"display:none;color:#f1b477;width:69px;height:89px;position:absolute;top:50%;left:47%;padding:2px;font-family:verdana;font-size:130%;\"><img src='/static/loading.gif' width=\"64\" height=\"64\" /><br style='top:50%;left:47%;'>Processing..</div>\n",
    "        </form>   \n",
    "            \n",
    "        <script>\n",
    "            $('#recording').on('submit', function(e){\n",
    "                 \n",
    "                var timeleft = 10;\n",
    "                var downloadTimer = setInterval(function(){\n",
    "                document.getElementById(\"countdown\").innerHTML = timeleft + \" seconds remaining\";\n",
    "                timeleft -= 1;\n",
    "                if(timeleft <= 0){\n",
    "                clearInterval(downloadTimer);\n",
    "                document.getElementById(\"countdown\").innerHTML = \"Recording completed...Please Process Audio file\"\n",
    "                      }\n",
    "                }, 1000);\n",
    "                e.preventDefault();\n",
    "                $.ajax({\n",
    "                    url: 'http://127.0.0.1:5000/square/',\n",
    "                    method: 'POST',\n",
    "                    success: function(data) {\n",
    "                        $('#square').html('')\n",
    "                    }\n",
    "                });\n",
    "                \n",
    "            });\n",
    "            $('#processing').on('submit', function(e){\n",
    "                  $(\"#process\").css(\"display\", \"none\");\n",
    "                $(\"#wait\").css(\"display\", \"block\");\n",
    "                e.preventDefault();\n",
    "                $.ajax({\n",
    "                    url: 'http://127.0.0.1:5000/process/',\n",
    "                    method: 'POST',\n",
    "                      \n",
    "                    success: function(data) {\n",
    "                       $(\"#wait\").css(\"display\", \"none\");\n",
    "                                    $('#process').html(data['df'])\n",
    "                         $(\"#process\").css(\"display\", \"block\");\n",
    "                        \n",
    "                    }\n",
    "                    \n",
    "                });\n",
    "                \n",
    "            });\n",
    "</script>\n",
    "</html>\n",
    "\n",
    "\n",
    "\n",
    "\n"
   ]
  },
  {
   "cell_type": "code",
   "execution_count": null,
   "metadata": {},
   "outputs": [],
   "source": []
  }
 ],
 "metadata": {
  "kernelspec": {
   "display_name": "Python 3",
   "language": "python",
   "name": "python3"
  },
  "language_info": {
   "codemirror_mode": {
    "name": "ipython",
    "version": 3
   },
   "file_extension": ".py",
   "mimetype": "text/x-python",
   "name": "python",
   "nbconvert_exporter": "python",
   "pygments_lexer": "ipython3",
   "version": "3.7.4"
  }
 },
 "nbformat": 4,
 "nbformat_minor": 2
}
